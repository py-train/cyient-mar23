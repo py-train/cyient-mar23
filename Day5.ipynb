{
 "cells": [
  {
   "cell_type": "markdown",
   "id": "0497d8cb",
   "metadata": {},
   "source": [
    "# Day 5: Agenda\n",
    "\n",
    "- File Formats\n",
    "    - CSV\n",
    "    - JSON\n",
    "    - XLS?\n",
    "    - XML?\n",
    "- OO\n",
    "- Errors and Exceptions\n",
    "- RE?"
   ]
  },
  {
   "cell_type": "code",
   "execution_count": 9,
   "id": "bb88c62b",
   "metadata": {},
   "outputs": [],
   "source": [
    "f = open('data/tips.csv')"
   ]
  },
  {
   "cell_type": "code",
   "execution_count": 3,
   "id": "a69d8484",
   "metadata": {},
   "outputs": [],
   "source": [
    "import csv"
   ]
  },
  {
   "cell_type": "code",
   "execution_count": 10,
   "id": "7b7671d3",
   "metadata": {},
   "outputs": [],
   "source": [
    "rdr = csv.reader(f)"
   ]
  },
  {
   "cell_type": "code",
   "execution_count": 11,
   "id": "efc1dd98",
   "metadata": {},
   "outputs": [
    {
     "data": {
      "text/plain": [
       "['total_bill', 'tip', 'sex', 'smoker', 'day', 'time', 'size', 'fraction']"
      ]
     },
     "execution_count": 11,
     "metadata": {},
     "output_type": "execute_result"
    }
   ],
   "source": [
    "next(rdr)"
   ]
  },
  {
   "cell_type": "code",
   "execution_count": 19,
   "id": "05ea5e14",
   "metadata": {},
   "outputs": [
    {
     "name": "stdout",
     "output_type": "stream",
     "text": [
      "5.9446733372572105\n",
      "16.054158607350097\n",
      "16.658733936220845\n",
      "13.97804054054054\n",
      "14.680764538430255\n",
      "18.62396204033215\n",
      "22.80501710376283\n",
      "11.607142857142858\n",
      "13.031914893617023\n",
      "21.853856562922868\n",
      "16.65043816942551\n",
      "14.180374361883155\n",
      "10.181582360570687\n",
      "16.277807921866522\n",
      "20.364126770060686\n",
      "18.164967562557923\n",
      "16.16650532429816\n",
      "22.774708410067525\n",
      "20.624631703005306\n",
      "16.222760290556902\n",
      "22.767857142857142\n",
      "13.553474618038445\n",
      "14.140773620798985\n",
      "19.228817858954844\n",
      "16.044399596367306\n",
      "13.138686131386862\n",
      "14.958863126402393\n",
      "15.760441292356187\n",
      "19.81566820276498\n",
      "15.267175572519085\n",
      "15.18324607329843\n",
      "13.623978201634875\n",
      "19.9203187250996\n",
      "11.841469308844852\n",
      "18.391451068616423\n",
      "14.962593516209477\n",
      "12.262415695892091\n",
      "18.13349084465446\n",
      "12.359550561797752\n",
      "15.98976654940838\n",
      "13.965087281795514\n",
      "14.547537227949597\n",
      "21.951219512195124\n",
      "13.636363636363638\n",
      "18.421052631578945\n",
      "16.402405686167302\n",
      "22.492127755285647\n",
      "18.51851851851852\n",
      "7.180385288966725\n",
      "16.629711751662974\n",
      "19.936204146730464\n",
      "25.26724975704568\n",
      "14.938236139040505\n",
      "15.694164989939638\n",
      "16.97965571205008\n",
      "18.009235505387377\n",
      "7.892659826361484\n",
      "5.679666792881484\n",
      "15.658362989323843\n",
      "13.942407292314066\n",
      "15.82060128141942\n",
      "14.482259232440258\n",
      "17.96733212341198\n",
      "20.55768179332969\n",
      "15.008527572484368\n",
      "15.687250996015937\n",
      "15.01519756838906\n",
      "32.57328990228013\n",
      "9.935739001482945\n",
      "13.924050632911392\n",
      "16.38935108153078\n",
      "17.57469244288225\n",
      "11.69024571854058\n",
      "19.77848101265823\n",
      "14.935505770536322\n",
      "11.893434823977165\n",
      "17.1875\n",
      "14.705882352941178\n",
      "13.181019332161686\n",
      "15.6737998843262\n",
      "15.432098765432098\n",
      "20.408163265306122\n",
      "18.17279046673287\n",
      "15.299877600979192\n",
      "12.703379224030037\n",
      "14.843525696238874\n",
      "15.349194167306218\n",
      "21.88183807439825\n",
      "23.674625657628486\n",
      "14.177693761814744\n",
      "10.355540214014498\n",
      "15.562472209871055\n",
      "17.391304347826086\n",
      "26.348039215686274\n",
      "14.285714285714285\n",
      "11.77495643515061\n",
      "14.662756598240467\n",
      "12.468827930174564\n",
      "14.27891480247501\n",
      "12.03852327447833\n",
      "22.026431718061676\n",
      "19.505851755526656\n",
      "5.643340857787811\n",
      "15.521855486173058\n",
      "19.50286806883365\n",
      "10.677083333333332\n",
      "19.814543679843826\n",
      "17.017056723522412\n",
      "20.614035087719298\n",
      "27.952480782669458\n",
      "21.428571428571427\n",
      "13.793103448275861\n",
      "10.506960861570791\n",
      "10.647181628392484\n",
      "15.558148580318942\n",
      "20.219526285384173\n",
      "16.93952555963916\n",
      "14.084507042253522\n",
      "14.481094127111827\n",
      "12.12624584717608\n",
      "19.760479041916167\n",
      "12.518628912071533\n",
      "17.53155680224404\n",
      "12.539184952978058\n",
      "20.192307692307693\n",
      "14.093959731543624\n",
      "17.370892018779344\n",
      "13.774104683195592\n",
      "17.57469244288225\n",
      "9.55302366345311\n",
      "7.8616352201257875\n",
      "13.961519486926493\n",
      "13.428827215756492\n",
      "16.31321370309951\n",
      "17.798466593647316\n",
      "14.688601645123384\n",
      "19.36108422071636\n",
      "14.13427561837456\n",
      "12.5\n",
      "20.89665653495441\n",
      "20.034344590726963\n",
      "19.533527696793005\n",
      "12.138868657441128\n",
      "18.484288354898336\n",
      "13.998782714546559\n",
      "17.964071856287426\n",
      "7.296137339055794\n",
      "13.732097725358045\n",
      "17.68916155419223\n",
      "26.63115845539281\n",
      "17.768301350390903\n",
      "15.232292460015232\n",
      "15.874855156431053\n",
      "8.146639511201629\n",
      "10.116337885685383\n",
      "17.219430485762143\n",
      "10.379904504878555\n",
      "15.0\n",
      "19.49215832710978\n",
      "12.128562765312312\n",
      "16.27906976744186\n",
      "19.747235387045812\n",
      "12.338062924120912\n",
      "14.482259232440258\n",
      "17.133066818960593\n",
      "14.192495921696574\n",
      "10.789980732177264\n",
      "14.191106906338694\n",
      "15.203021718602455\n",
      "18.814675446848543\n",
      "19.681165124975397\n",
      "19.987349778621127\n",
      "71.0344827586207\n",
      "9.98430141287284\n",
      "23.781212841854934\n",
      "9.45288753799392\n",
      "11.179429849077696\n",
      "13.812154696132598\n",
      "41.66666666666667\n",
      "10.2512272596015\n",
      "10.620490620490623\n",
      "24.21774539219889\n",
      "7.717750826901875\n",
      "28.05351747949935\n",
      "7.398273736128237\n",
      "24.166263895601737\n",
      "16.74641148325359\n",
      "6.5659881812212735\n",
      "19.28374655647383\n",
      "17.316017316017316\n",
      "9.560229445506693\n",
      "21.150933871781934\n",
      "9.0014064697609\n",
      "13.049095607235142\n",
      "24.12545235223161\n",
      "19.047619047619047\n",
      "19.342359767891683\n",
      "11.59823706796567\n",
      "15.384615384615385\n",
      "14.803849000740193\n",
      "21.378941742383752\n",
      "15.777080062794347\n",
      "15.384615384615385\n",
      "15.243902439024392\n",
      "19.48368241597662\n",
      "19.611414693381906\n",
      "12.82437006393381\n",
      "7.74593338497289\n",
      "8.364235681911826\n",
      "17.476489028213166\n",
      "6.653359946773121\n",
      "19.930475086906142\n",
      "18.6219739292365\n",
      "18.839487565938207\n",
      "23.074192403265883\n",
      "8.527131782945736\n",
      "10.657193605683837\n",
      "12.94219154443486\n",
      "18.6046511627907\n",
      "10.252156602521566\n",
      "18.092105263157894\n",
      "25.93144560357675\n",
      "22.377622377622377\n",
      "18.773466833541928\n",
      "11.773472429210134\n",
      "15.365703749231715\n",
      "19.821605550049554\n",
      "14.66992665036675\n",
      "20.481927710843376\n",
      "13.019891500904157\n",
      "8.329862557267804\n",
      "19.120458891013385\n",
      "29.198966408268735\n",
      "13.649025069637883\n",
      "19.31745009658725\n",
      "12.413108242303872\n",
      "7.936507936507936\n",
      "3.563813585135547\n",
      "13.033770583310075\n",
      "20.39269720978298\n",
      "7.358351729212656\n",
      "8.822232024702249\n",
      "9.820426487093153\n",
      "15.974440894568689\n"
     ]
    }
   ],
   "source": [
    "f = open('data/tips.csv')\n",
    "rdr = csv.reader(f)\n",
    "header = next(rdr)\n",
    "for row in rdr:\n",
    "    total_bill, tip = float(row[0]), float(row[1])\n",
    "    print(tip/total_bill * 100)"
   ]
  },
  {
   "cell_type": "code",
   "execution_count": 17,
   "id": "34989a6e",
   "metadata": {},
   "outputs": [
    {
     "data": {
      "text/plain": [
       "123"
      ]
     },
     "execution_count": 17,
     "metadata": {},
     "output_type": "execute_result"
    }
   ],
   "source": [
    "int('123')"
   ]
  },
  {
   "cell_type": "code",
   "execution_count": 18,
   "id": "d585c363",
   "metadata": {},
   "outputs": [
    {
     "data": {
      "text/plain": [
       "12.21"
      ]
     },
     "execution_count": 18,
     "metadata": {},
     "output_type": "execute_result"
    }
   ],
   "source": [
    "float('12.21')"
   ]
  },
  {
   "cell_type": "code",
   "execution_count": null,
   "id": "796c197e",
   "metadata": {},
   "outputs": [],
   "source": [
    "# 1. Find the smallest and largest tip amount\n",
    "# 2. Count of rows where time is Dinner and day is Sunday"
   ]
  },
  {
   "cell_type": "code",
   "execution_count": 26,
   "id": "1dcc6be2",
   "metadata": {},
   "outputs": [
    {
     "name": "stdout",
     "output_type": "stream",
     "text": [
      "1.0 10.0\n"
     ]
    }
   ],
   "source": [
    "# (1) without using a list\n",
    "\n",
    "f = open('data/tips.csv')\n",
    "smallest, largest = 10000, -1\n",
    "\n",
    "rdr = csv.reader(f)\n",
    "header = next(rdr)\n",
    "for row in rdr:\n",
    "    tip = float(row[1])\n",
    "    if tip>largest:\n",
    "        largest = tip\n",
    "    if tip<smallest:\n",
    "        smallest=tip\n",
    "        \n",
    "print(smallest, largest)"
   ]
  },
  {
   "cell_type": "code",
   "execution_count": 28,
   "id": "f5f75284",
   "metadata": {},
   "outputs": [
    {
     "name": "stdout",
     "output_type": "stream",
     "text": [
      "1.0 10.0\n"
     ]
    }
   ],
   "source": [
    "# (1) using a list\n",
    "\n",
    "f = open('data/tips.csv')\n",
    "tips = []\n",
    "\n",
    "rdr = csv.reader(f)\n",
    "header = next(rdr)\n",
    "for row in rdr:\n",
    "    tip = float(row[1])\n",
    "    tips.append(tip)\n",
    "        \n",
    "print(min(tips), max(tips))"
   ]
  },
  {
   "cell_type": "code",
   "execution_count": 29,
   "id": "6b73deae",
   "metadata": {},
   "outputs": [
    {
     "name": "stdout",
     "output_type": "stream",
     "text": [
      "76\n"
     ]
    }
   ],
   "source": [
    "# 2\n",
    "\n",
    "f = open('data/tips.csv')\n",
    "rdr = csv.reader(f)\n",
    "\n",
    "count = 0\n",
    "\n",
    "header = next(rdr)\n",
    "for row in rdr:\n",
    "    if row[4] == 'Sun' and row[5] == 'Dinner':\n",
    "        count += 1\n",
    "        \n",
    "print(count)"
   ]
  },
  {
   "cell_type": "code",
   "execution_count": 20,
   "id": "d2eee585",
   "metadata": {},
   "outputs": [
    {
     "data": {
      "text/plain": [
       "10"
      ]
     },
     "execution_count": 20,
     "metadata": {},
     "output_type": "execute_result"
    }
   ],
   "source": [
    "sum([1,2,3,4])"
   ]
  },
  {
   "cell_type": "code",
   "execution_count": 21,
   "id": "8a716807",
   "metadata": {},
   "outputs": [
    {
     "data": {
      "text/plain": [
       "4"
      ]
     },
     "execution_count": 21,
     "metadata": {},
     "output_type": "execute_result"
    }
   ],
   "source": [
    "max([1,2,3,4])"
   ]
  },
  {
   "cell_type": "code",
   "execution_count": 22,
   "id": "f320456e",
   "metadata": {},
   "outputs": [
    {
     "data": {
      "text/plain": [
       "1"
      ]
     },
     "execution_count": 22,
     "metadata": {},
     "output_type": "execute_result"
    }
   ],
   "source": [
    "min([1,2,3,4])"
   ]
  },
  {
   "cell_type": "code",
   "execution_count": 23,
   "id": "1a3a9e72",
   "metadata": {},
   "outputs": [
    {
     "ename": "TypeError",
     "evalue": "'float' object is not iterable",
     "output_type": "error",
     "traceback": [
      "\u001b[0;31m---------------------------------------------------------------------------\u001b[0m",
      "\u001b[0;31mTypeError\u001b[0m                                 Traceback (most recent call last)",
      "\u001b[0;32m<ipython-input-23-02b597fee9c6>\u001b[0m in \u001b[0;36m<module>\u001b[0;34m\u001b[0m\n\u001b[0;32m----> 1\u001b[0;31m \u001b[0mmax\u001b[0m\u001b[0;34m(\u001b[0m\u001b[0;36m12.21\u001b[0m\u001b[0;34m)\u001b[0m\u001b[0;34m\u001b[0m\u001b[0;34m\u001b[0m\u001b[0m\n\u001b[0m",
      "\u001b[0;31mTypeError\u001b[0m: 'float' object is not iterable"
     ]
    }
   ],
   "source": [
    "max(12.21)"
   ]
  },
  {
   "cell_type": "code",
   "execution_count": 24,
   "id": "d89ba3ae",
   "metadata": {},
   "outputs": [],
   "source": [
    "nums = [2,5,1]\n",
    "largest = 0\n",
    "for num in nums:\n",
    "    if num>largest:\n",
    "        largest = num"
   ]
  },
  {
   "cell_type": "code",
   "execution_count": 25,
   "id": "2984ff2d",
   "metadata": {},
   "outputs": [
    {
     "data": {
      "text/plain": [
       "5"
      ]
     },
     "execution_count": 25,
     "metadata": {},
     "output_type": "execute_result"
    }
   ],
   "source": [
    "largest"
   ]
  },
  {
   "cell_type": "markdown",
   "id": "22b0c466",
   "metadata": {},
   "source": [
    "## JSON"
   ]
  },
  {
   "cell_type": "code",
   "execution_count": 30,
   "id": "ccacf5db",
   "metadata": {},
   "outputs": [],
   "source": [
    "import json"
   ]
  },
  {
   "cell_type": "code",
   "execution_count": 31,
   "id": "7e8dc41c",
   "metadata": {},
   "outputs": [],
   "source": [
    "f = open('data/datacenter.json')\n",
    "data = json.load(f)"
   ]
  },
  {
   "cell_type": "code",
   "execution_count": 32,
   "id": "dd0fee9f",
   "metadata": {},
   "outputs": [
    {
     "data": {
      "text/plain": [
       "[{'hostname': 'mac1',\n",
       "  'ip': ['10.10.92.1', '192.168.1.1'],\n",
       "  'os': {'base': 'windows', 'version': '8', 'wordsize': 64},\n",
       "  'make': 'dell'},\n",
       " {'hostname': 'mac2',\n",
       "  'ip': ['10.10.92.2'],\n",
       "  'os': {'base': 'linux', 'version': 'ubuntu', 'wordsize': 32},\n",
       "  'make': 'hp'}]"
      ]
     },
     "execution_count": 32,
     "metadata": {},
     "output_type": "execute_result"
    }
   ],
   "source": [
    "data"
   ]
  },
  {
   "cell_type": "code",
   "execution_count": 33,
   "id": "3267cc32",
   "metadata": {},
   "outputs": [
    {
     "data": {
      "text/plain": [
       "list"
      ]
     },
     "execution_count": 33,
     "metadata": {},
     "output_type": "execute_result"
    }
   ],
   "source": [
    "type(data)"
   ]
  },
  {
   "cell_type": "code",
   "execution_count": 34,
   "id": "3b9b70ac",
   "metadata": {},
   "outputs": [
    {
     "data": {
      "text/plain": [
       "2"
      ]
     },
     "execution_count": 34,
     "metadata": {},
     "output_type": "execute_result"
    }
   ],
   "source": [
    "len(data)"
   ]
  },
  {
   "cell_type": "code",
   "execution_count": 35,
   "id": "41ab1547",
   "metadata": {},
   "outputs": [
    {
     "data": {
      "text/plain": [
       "{'hostname': 'mac1',\n",
       " 'ip': ['10.10.92.1', '192.168.1.1'],\n",
       " 'os': {'base': 'windows', 'version': '8', 'wordsize': 64},\n",
       " 'make': 'dell'}"
      ]
     },
     "execution_count": 35,
     "metadata": {},
     "output_type": "execute_result"
    }
   ],
   "source": [
    "data[0]"
   ]
  },
  {
   "cell_type": "code",
   "execution_count": 36,
   "id": "4fb8ca8a",
   "metadata": {},
   "outputs": [
    {
     "data": {
      "text/plain": [
       "dict_keys(['hostname', 'ip', 'os', 'make'])"
      ]
     },
     "execution_count": 36,
     "metadata": {},
     "output_type": "execute_result"
    }
   ],
   "source": [
    "data[0].keys()"
   ]
  },
  {
   "cell_type": "code",
   "execution_count": 37,
   "id": "ef384c92",
   "metadata": {},
   "outputs": [
    {
     "data": {
      "text/plain": [
       "'mac2'"
      ]
     },
     "execution_count": 37,
     "metadata": {},
     "output_type": "execute_result"
    }
   ],
   "source": [
    "data[1]['hostname']"
   ]
  },
  {
   "cell_type": "code",
   "execution_count": 38,
   "id": "9bdd9c91",
   "metadata": {},
   "outputs": [
    {
     "data": {
      "text/plain": [
       "'dell'"
      ]
     },
     "execution_count": 38,
     "metadata": {},
     "output_type": "execute_result"
    }
   ],
   "source": [
    "data[0]['make']"
   ]
  },
  {
   "cell_type": "code",
   "execution_count": 42,
   "id": "bb7b6d89",
   "metadata": {},
   "outputs": [
    {
     "data": {
      "text/plain": [
       "64"
      ]
     },
     "execution_count": 42,
     "metadata": {},
     "output_type": "execute_result"
    }
   ],
   "source": [
    "data[0]['os']['wordsize']"
   ]
  },
  {
   "cell_type": "code",
   "execution_count": 43,
   "id": "863f0d95",
   "metadata": {},
   "outputs": [
    {
     "name": "stdout",
     "output_type": "stream",
     "text": [
      "mac1 64\n",
      "mac2 32\n"
     ]
    }
   ],
   "source": [
    "for machine in data:\n",
    "    print(machine['hostname'], machine['os']['wordsize'])\n",
    "    "
   ]
  },
  {
   "cell_type": "code",
   "execution_count": 45,
   "id": "abfde2a0",
   "metadata": {},
   "outputs": [
    {
     "name": "stdout",
     "output_type": "stream",
     "text": [
      "mac1\n",
      "\t 10.10.92.1\n",
      "\t 192.168.1.1\n",
      "mac2\n",
      "\t 10.10.92.2\n"
     ]
    }
   ],
   "source": [
    "# Print hostname and all ip's\n",
    "for machine in data:\n",
    "    print(machine['hostname'])\n",
    "    for ip in machine['ip']:\n",
    "        print('\\t', ip)\n",
    "    "
   ]
  },
  {
   "cell_type": "code",
   "execution_count": 46,
   "id": "fed65d79",
   "metadata": {},
   "outputs": [],
   "source": [
    "f = open(r'data/geocode.json')"
   ]
  },
  {
   "cell_type": "code",
   "execution_count": 47,
   "id": "1d1bd10e",
   "metadata": {},
   "outputs": [],
   "source": [
    "geo = json.load(f)"
   ]
  },
  {
   "cell_type": "code",
   "execution_count": 48,
   "id": "b78436af",
   "metadata": {},
   "outputs": [
    {
     "data": {
      "text/plain": [
       "{'results': [{'address_components': [{'long_name': 'Dubai',\n",
       "     'short_name': 'Dubai',\n",
       "     'types': ['administrative_area_level_1', 'political']},\n",
       "    {'long_name': 'United Arab Emirates',\n",
       "     'short_name': 'AE',\n",
       "     'types': ['country', 'political']}],\n",
       "   'formatted_address': 'Sheikh Mohamed Bin Zayed Road (E311), Exit 60,Muhaisanah 2 - Dubai - United Arab Emirates',\n",
       "   'geometry': {'location': {'lat': 25.258679, 'lng': 55.410943},\n",
       "    'location_type': 'GEOMETRIC_CENTER',\n",
       "    'viewport': {'northeast': {'lat': 25.2600279802915,\n",
       "      'lng': 55.41229198029149},\n",
       "     'southwest': {'lat': 25.2573300197085, 'lng': 55.4095940197085}}},\n",
       "   'place_id': 'ChIJocpip3FeXz4RbMBhekhoTrI',\n",
       "   'types': ['establishment', 'point_of_interest']},\n",
       "  {'address_components': [{'long_name': 'Dubai',\n",
       "     'short_name': 'Dubai',\n",
       "     'types': ['locality', 'political']},\n",
       "    {'long_name': 'Muhaisnah',\n",
       "     'short_name': 'Muhaisnah',\n",
       "     'types': ['political', 'sublocality', 'sublocality_level_1']},\n",
       "    {'long_name': 'Dubai',\n",
       "     'short_name': 'Dubai',\n",
       "     'types': ['administrative_area_level_1', 'political']},\n",
       "    {'long_name': 'United Arab Emirates',\n",
       "     'short_name': 'AE',\n",
       "     'types': ['country', 'political']}],\n",
       "   'formatted_address': 'Dubai - United Arab Emirates',\n",
       "   'geometry': {'location': {'lat': 25.2606109, 'lng': 55.4114503},\n",
       "    'location_type': 'GEOMETRIC_CENTER',\n",
       "    'viewport': {'northeast': {'lat': 25.2619598802915,\n",
       "      'lng': 55.41279928029149},\n",
       "     'southwest': {'lat': 25.2592619197085, 'lng': 55.4101013197085}}},\n",
       "   'place_id': 'ChIJi9qVpnFeXz4Ruo4YztmXDHU',\n",
       "   'types': ['establishment', 'point_of_interest']}],\n",
       " 'status': 'OK'}"
      ]
     },
     "execution_count": 48,
     "metadata": {},
     "output_type": "execute_result"
    }
   ],
   "source": [
    "geo"
   ]
  },
  {
   "cell_type": "code",
   "execution_count": 49,
   "id": "3dfe3eae",
   "metadata": {},
   "outputs": [
    {
     "data": {
      "text/plain": [
       "dict_keys(['results', 'status'])"
      ]
     },
     "execution_count": 49,
     "metadata": {},
     "output_type": "execute_result"
    }
   ],
   "source": [
    "geo.keys()"
   ]
  },
  {
   "cell_type": "code",
   "execution_count": 50,
   "id": "09a939f5",
   "metadata": {},
   "outputs": [
    {
     "data": {
      "text/plain": [
       "2"
      ]
     },
     "execution_count": 50,
     "metadata": {},
     "output_type": "execute_result"
    }
   ],
   "source": [
    "len(geo['results'])"
   ]
  },
  {
   "cell_type": "code",
   "execution_count": 51,
   "id": "ad986545",
   "metadata": {},
   "outputs": [
    {
     "data": {
      "text/plain": [
       "{'address_components': [{'long_name': 'Dubai',\n",
       "   'short_name': 'Dubai',\n",
       "   'types': ['administrative_area_level_1', 'political']},\n",
       "  {'long_name': 'United Arab Emirates',\n",
       "   'short_name': 'AE',\n",
       "   'types': ['country', 'political']}],\n",
       " 'formatted_address': 'Sheikh Mohamed Bin Zayed Road (E311), Exit 60,Muhaisanah 2 - Dubai - United Arab Emirates',\n",
       " 'geometry': {'location': {'lat': 25.258679, 'lng': 55.410943},\n",
       "  'location_type': 'GEOMETRIC_CENTER',\n",
       "  'viewport': {'northeast': {'lat': 25.2600279802915,\n",
       "    'lng': 55.41229198029149},\n",
       "   'southwest': {'lat': 25.2573300197085, 'lng': 55.4095940197085}}},\n",
       " 'place_id': 'ChIJocpip3FeXz4RbMBhekhoTrI',\n",
       " 'types': ['establishment', 'point_of_interest']}"
      ]
     },
     "execution_count": 51,
     "metadata": {},
     "output_type": "execute_result"
    }
   ],
   "source": [
    "geo['results'][0]"
   ]
  },
  {
   "cell_type": "code",
   "execution_count": 52,
   "id": "ae8bb784",
   "metadata": {},
   "outputs": [
    {
     "data": {
      "text/plain": [
       "dict_keys(['address_components', 'formatted_address', 'geometry', 'place_id', 'types'])"
      ]
     },
     "execution_count": 52,
     "metadata": {},
     "output_type": "execute_result"
    }
   ],
   "source": [
    "geo['results'][0].keys()"
   ]
  },
  {
   "cell_type": "code",
   "execution_count": 57,
   "id": "830e162c",
   "metadata": {},
   "outputs": [
    {
     "name": "stdout",
     "output_type": "stream",
     "text": [
      "Sheikh Mohamed Bin Zayed Road (E311), Exit 60,Muhaisanah 2 - Dubai - United Arab Emirates 25.258679 55.410943\n"
     ]
    }
   ],
   "source": [
    "loc = geo['results'][0]['geometry']['location']\n",
    "print(geo['results'][0]['formatted_address'], loc['lat'], loc['lng'])"
   ]
  },
  {
   "cell_type": "code",
   "execution_count": 59,
   "id": "81d8210b",
   "metadata": {},
   "outputs": [
    {
     "name": "stdout",
     "output_type": "stream",
     "text": [
      "Sheikh Mohamed Bin Zayed Road (E311), Exit 60,Muhaisanah 2 - Dubai - United Arab Emirates\n",
      "25.258679 55.410943\n",
      "Dubai - United Arab Emirates\n",
      "25.2606109 55.4114503\n"
     ]
    }
   ],
   "source": [
    "for result in geo['results']:\n",
    "    print(result['formatted_address'])\n",
    "    loc = result['geometry']['location']\n",
    "    print(loc['lat'], loc['lng'])"
   ]
  },
  {
   "cell_type": "markdown",
   "id": "b6c9d8e9",
   "metadata": {},
   "source": [
    "## Object Orientation\n",
    "\n",
    "- Encapsulation\n",
    "- Data hiding?\n",
    "- Extendability\n",
    "- class"
   ]
  },
  {
   "cell_type": "code",
   "execution_count": 63,
   "id": "03ba0cf0",
   "metadata": {},
   "outputs": [],
   "source": [
    "data = []"
   ]
  },
  {
   "cell_type": "code",
   "execution_count": 68,
   "id": "a238e824",
   "metadata": {},
   "outputs": [],
   "source": [
    "def push(val):\n",
    "    data.append(val)\n",
    "    \n",
    "def pop():\n",
    "    return data.pop()"
   ]
  },
  {
   "cell_type": "code",
   "execution_count": 65,
   "id": "3a75ffba",
   "metadata": {},
   "outputs": [],
   "source": [
    "push(1)\n",
    "push(2)\n",
    "push(3)\n",
    "pop()\n",
    "push(4)"
   ]
  },
  {
   "cell_type": "code",
   "execution_count": 66,
   "id": "93756469",
   "metadata": {},
   "outputs": [
    {
     "data": {
      "text/plain": [
       "[1, 2, 4]"
      ]
     },
     "execution_count": 66,
     "metadata": {},
     "output_type": "execute_result"
    }
   ],
   "source": [
    "data"
   ]
  },
  {
   "cell_type": "code",
   "execution_count": 67,
   "id": "67ca69e2",
   "metadata": {},
   "outputs": [],
   "source": [
    "data2 = []"
   ]
  },
  {
   "cell_type": "code",
   "execution_count": 69,
   "id": "f798f0c3",
   "metadata": {},
   "outputs": [],
   "source": [
    "def push(data, val):\n",
    "    data.append(val)\n",
    "    \n",
    "def pop(data):\n",
    "    return data.pop()"
   ]
  },
  {
   "cell_type": "code",
   "execution_count": 70,
   "id": "9139ce99",
   "metadata": {},
   "outputs": [],
   "source": [
    "push(data, 1)\n",
    "push(data, 2)\n",
    "push(data, 3)\n",
    "pop(data)\n",
    "push(data, 4)\n",
    "\n",
    "push(data2, 10)"
   ]
  },
  {
   "cell_type": "code",
   "execution_count": 71,
   "id": "abcfb392",
   "metadata": {},
   "outputs": [
    {
     "data": {
      "text/plain": [
       "[1, 2, 4, 1, 2, 4]"
      ]
     },
     "execution_count": 71,
     "metadata": {},
     "output_type": "execute_result"
    }
   ],
   "source": [
    "data"
   ]
  },
  {
   "cell_type": "code",
   "execution_count": 72,
   "id": "d7669bb4",
   "metadata": {},
   "outputs": [
    {
     "data": {
      "text/plain": [
       "[10]"
      ]
     },
     "execution_count": 72,
     "metadata": {},
     "output_type": "execute_result"
    }
   ],
   "source": [
    "data2"
   ]
  },
  {
   "cell_type": "code",
   "execution_count": 73,
   "id": "861c27dc",
   "metadata": {},
   "outputs": [],
   "source": [
    "data3 = {}"
   ]
  },
  {
   "cell_type": "code",
   "execution_count": 74,
   "id": "307f5225",
   "metadata": {},
   "outputs": [
    {
     "ename": "AttributeError",
     "evalue": "'dict' object has no attribute 'append'",
     "output_type": "error",
     "traceback": [
      "\u001b[0;31m---------------------------------------------------------------------------\u001b[0m",
      "\u001b[0;31mAttributeError\u001b[0m                            Traceback (most recent call last)",
      "\u001b[0;32m<ipython-input-74-07fa890a52c1>\u001b[0m in \u001b[0;36m<module>\u001b[0;34m\u001b[0m\n\u001b[0;32m----> 1\u001b[0;31m \u001b[0mpush\u001b[0m\u001b[0;34m(\u001b[0m\u001b[0mdata3\u001b[0m\u001b[0;34m,\u001b[0m \u001b[0;36m10\u001b[0m\u001b[0;34m)\u001b[0m\u001b[0;34m\u001b[0m\u001b[0;34m\u001b[0m\u001b[0m\n\u001b[0m",
      "\u001b[0;32m<ipython-input-69-e6dcc324223a>\u001b[0m in \u001b[0;36mpush\u001b[0;34m(data, val)\u001b[0m\n\u001b[1;32m      1\u001b[0m \u001b[0;32mdef\u001b[0m \u001b[0mpush\u001b[0m\u001b[0;34m(\u001b[0m\u001b[0mdata\u001b[0m\u001b[0;34m,\u001b[0m \u001b[0mval\u001b[0m\u001b[0;34m)\u001b[0m\u001b[0;34m:\u001b[0m\u001b[0;34m\u001b[0m\u001b[0;34m\u001b[0m\u001b[0m\n\u001b[0;32m----> 2\u001b[0;31m     \u001b[0mdata\u001b[0m\u001b[0;34m.\u001b[0m\u001b[0mappend\u001b[0m\u001b[0;34m(\u001b[0m\u001b[0mval\u001b[0m\u001b[0;34m)\u001b[0m\u001b[0;34m\u001b[0m\u001b[0;34m\u001b[0m\u001b[0m\n\u001b[0m\u001b[1;32m      3\u001b[0m \u001b[0;34m\u001b[0m\u001b[0m\n\u001b[1;32m      4\u001b[0m \u001b[0;32mdef\u001b[0m \u001b[0mpop\u001b[0m\u001b[0;34m(\u001b[0m\u001b[0mdata\u001b[0m\u001b[0;34m)\u001b[0m\u001b[0;34m:\u001b[0m\u001b[0;34m\u001b[0m\u001b[0;34m\u001b[0m\u001b[0m\n\u001b[1;32m      5\u001b[0m     \u001b[0;32mreturn\u001b[0m \u001b[0mdata\u001b[0m\u001b[0;34m.\u001b[0m\u001b[0mpop\u001b[0m\u001b[0;34m(\u001b[0m\u001b[0;34m)\u001b[0m\u001b[0;34m\u001b[0m\u001b[0;34m\u001b[0m\u001b[0m\n",
      "\u001b[0;31mAttributeError\u001b[0m: 'dict' object has no attribute 'append'"
     ]
    }
   ],
   "source": [
    "push(data3, 10)"
   ]
  },
  {
   "cell_type": "code",
   "execution_count": 75,
   "id": "ae6a3da4",
   "metadata": {},
   "outputs": [],
   "source": [
    "class Stack:\n",
    "    def __init__(self):\n",
    "        self.data = []\n",
    "    \n",
    "    def push(self, val):\n",
    "        self.data.append(val)\n",
    "\n",
    "    def pop(self):\n",
    "        return self.data.pop()"
   ]
  },
  {
   "cell_type": "code",
   "execution_count": 76,
   "id": "50baa6e0",
   "metadata": {},
   "outputs": [],
   "source": [
    "# instantiating\n",
    "s = Stack()"
   ]
  },
  {
   "cell_type": "code",
   "execution_count": 78,
   "id": "cf274e2c",
   "metadata": {},
   "outputs": [],
   "source": [
    "s.push(1)\n",
    "s.push(2)\n",
    "s.push(3)\n",
    "s.pop()\n",
    "s.push(4)\n"
   ]
  },
  {
   "cell_type": "code",
   "execution_count": 79,
   "id": "c34dbf30",
   "metadata": {},
   "outputs": [
    {
     "data": {
      "text/plain": [
       "[1, 2, 4]"
      ]
     },
     "execution_count": 79,
     "metadata": {},
     "output_type": "execute_result"
    }
   ],
   "source": [
    "s.data"
   ]
  },
  {
   "cell_type": "code",
   "execution_count": 80,
   "id": "e9e18513",
   "metadata": {},
   "outputs": [],
   "source": [
    "s2 = Stack()\n",
    "s2.push(1)"
   ]
  },
  {
   "cell_type": "code",
   "execution_count": 81,
   "id": "c8f5dbbc",
   "metadata": {},
   "outputs": [
    {
     "data": {
      "text/plain": [
       "[1]"
      ]
     },
     "execution_count": 81,
     "metadata": {},
     "output_type": "execute_result"
    }
   ],
   "source": [
    "s2.data"
   ]
  },
  {
   "cell_type": "code",
   "execution_count": null,
   "id": "2631ce9c",
   "metadata": {},
   "outputs": [],
   "source": [
    "# Exercise\n",
    "# class for Bank Account\n",
    "# actions: withdraw, deposit, check balanace\n",
    "# attributes: name, num, type"
   ]
  },
  {
   "cell_type": "code",
   "execution_count": null,
   "id": "20a06a4b",
   "metadata": {},
   "outputs": [],
   "source": [
    "# account.deposit(100)\n",
    "# account.withdraw(50)\n",
    "# account.check_balance()"
   ]
  },
  {
   "cell_type": "code",
   "execution_count": 90,
   "id": "bbb70ae3",
   "metadata": {},
   "outputs": [
    {
     "name": "stdout",
     "output_type": "stream",
     "text": [
      "Accessed absent key 'c'\n"
     ]
    }
   ],
   "source": [
    "try:\n",
    "    d = dict(a=1,b=2)\n",
    "    nums = [1,2,3]\n",
    "#     1/0\n",
    "    d['c']\n",
    "    nums[4]\n",
    "except KeyError as err:\n",
    "    print('Accessed absent key', str(err))\n",
    "except IndexError:\n",
    "    print('Accessed non-existant value')\n",
    "except:\n",
    "    print('Error detected')"
   ]
  },
  {
   "cell_type": "code",
   "execution_count": null,
   "id": "60d2c7fb",
   "metadata": {},
   "outputs": [],
   "source": []
  },
  {
   "cell_type": "code",
   "execution_count": null,
   "id": "b6dcb50a",
   "metadata": {},
   "outputs": [],
   "source": []
  },
  {
   "cell_type": "code",
   "execution_count": null,
   "id": "9b3be1c6",
   "metadata": {},
   "outputs": [],
   "source": []
  },
  {
   "cell_type": "code",
   "execution_count": null,
   "id": "46f96b56",
   "metadata": {},
   "outputs": [],
   "source": []
  },
  {
   "cell_type": "code",
   "execution_count": null,
   "id": "3d20a12e",
   "metadata": {},
   "outputs": [],
   "source": []
  }
 ],
 "metadata": {
  "kernelspec": {
   "display_name": "Python 3",
   "language": "python",
   "name": "python3"
  },
  "language_info": {
   "codemirror_mode": {
    "name": "ipython",
    "version": 3
   },
   "file_extension": ".py",
   "mimetype": "text/x-python",
   "name": "python",
   "nbconvert_exporter": "python",
   "pygments_lexer": "ipython3",
   "version": "3.8.16"
  }
 },
 "nbformat": 4,
 "nbformat_minor": 5
}
