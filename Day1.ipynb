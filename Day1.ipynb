{
 "cells": [
  {
   "cell_type": "code",
   "execution_count": 1,
   "id": "9521273e",
   "metadata": {},
   "outputs": [
    {
     "data": {
      "text/plain": [
       "5"
      ]
     },
     "execution_count": 1,
     "metadata": {},
     "output_type": "execute_result"
    }
   ],
   "source": [
    "2 + 3"
   ]
  },
  {
   "cell_type": "code",
   "execution_count": 2,
   "id": "ed96e08a",
   "metadata": {},
   "outputs": [
    {
     "name": "stdout",
     "output_type": "stream",
     "text": [
      "hello world\n"
     ]
    }
   ],
   "source": [
    "print('hello world')"
   ]
  },
  {
   "cell_type": "markdown",
   "id": "88764454",
   "metadata": {},
   "source": [
    "# Python: Properties\n",
    "\n",
    "- Interpreted\n",
    "- Implicit typing\n",
    "- Dynamic\n",
    "- Simple"
   ]
  },
  {
   "cell_type": "code",
   "execution_count": 3,
   "id": "79c29f33",
   "metadata": {},
   "outputs": [],
   "source": [
    "i = 42\n",
    "f = 4.2\n",
    "name = 'Vasco Da Gama'"
   ]
  },
  {
   "cell_type": "code",
   "execution_count": 5,
   "id": "2871c189",
   "metadata": {},
   "outputs": [
    {
     "data": {
      "text/plain": [
       "int"
      ]
     },
     "execution_count": 5,
     "metadata": {},
     "output_type": "execute_result"
    }
   ],
   "source": [
    "type(i)"
   ]
  },
  {
   "cell_type": "code",
   "execution_count": 6,
   "id": "f1c803cc",
   "metadata": {},
   "outputs": [
    {
     "data": {
      "text/plain": [
       "int"
      ]
     },
     "execution_count": 6,
     "metadata": {},
     "output_type": "execute_result"
    }
   ],
   "source": [
    "type(100)"
   ]
  },
  {
   "cell_type": "code",
   "execution_count": 7,
   "id": "75add9e5",
   "metadata": {},
   "outputs": [
    {
     "data": {
      "text/plain": [
       "float"
      ]
     },
     "execution_count": 7,
     "metadata": {},
     "output_type": "execute_result"
    }
   ],
   "source": [
    "type(f)"
   ]
  },
  {
   "cell_type": "code",
   "execution_count": 8,
   "id": "374585ed",
   "metadata": {},
   "outputs": [
    {
     "data": {
      "text/plain": [
       "str"
      ]
     },
     "execution_count": 8,
     "metadata": {},
     "output_type": "execute_result"
    }
   ],
   "source": [
    "type(name)"
   ]
  },
  {
   "cell_type": "code",
   "execution_count": 10,
   "id": "01e57f6f",
   "metadata": {},
   "outputs": [],
   "source": [
    "name = 'Portugual'\n",
    "i = 'Me'"
   ]
  },
  {
   "cell_type": "code",
   "execution_count": 11,
   "id": "431edc8c",
   "metadata": {},
   "outputs": [
    {
     "data": {
      "text/plain": [
       "14.2"
      ]
     },
     "execution_count": 11,
     "metadata": {},
     "output_type": "execute_result"
    }
   ],
   "source": [
    "f + 10"
   ]
  },
  {
   "cell_type": "markdown",
   "id": "6d307fcf",
   "metadata": {},
   "source": [
    "## Arithmetic Operators\n",
    "\n",
    "- Add +\n",
    "- Mul *\n",
    "- Division /\n",
    "- Sub -\n",
    "- Exponentiation **\n",
    "- Modulo %\n",
    "- Precedence : BEMDAS"
   ]
  },
  {
   "cell_type": "code",
   "execution_count": 12,
   "id": "367c9a5e",
   "metadata": {},
   "outputs": [
    {
     "data": {
      "text/plain": [
       "1"
      ]
     },
     "execution_count": 12,
     "metadata": {},
     "output_type": "execute_result"
    }
   ],
   "source": [
    "10 % 3"
   ]
  },
  {
   "cell_type": "code",
   "execution_count": 13,
   "id": "ae2ac2c8",
   "metadata": {},
   "outputs": [
    {
     "data": {
      "text/plain": [
       "4"
      ]
     },
     "execution_count": 13,
     "metadata": {},
     "output_type": "execute_result"
    }
   ],
   "source": [
    "14 % 5"
   ]
  },
  {
   "cell_type": "code",
   "execution_count": 19,
   "id": "3d083fa1",
   "metadata": {},
   "outputs": [
    {
     "data": {
      "text/plain": [
       "17861.14285714286"
      ]
     },
     "execution_count": 19,
     "metadata": {},
     "output_type": "execute_result"
    }
   ],
   "source": [
    "a = 4\n",
    "b = 5\n",
    "\n",
    "a + b ** 6 / 7 * 8"
   ]
  },
  {
   "cell_type": "markdown",
   "id": "ea8b66e2",
   "metadata": {},
   "source": [
    "## Comparison Operators\n",
    "\n",
    "- `== != > < >= <=`\n",
    "- return bool"
   ]
  },
  {
   "cell_type": "code",
   "execution_count": 20,
   "id": "94cd67b1",
   "metadata": {},
   "outputs": [
    {
     "data": {
      "text/plain": [
       "True"
      ]
     },
     "execution_count": 20,
     "metadata": {},
     "output_type": "execute_result"
    }
   ],
   "source": [
    "a >= 4"
   ]
  },
  {
   "cell_type": "code",
   "execution_count": 22,
   "id": "f29e0743",
   "metadata": {},
   "outputs": [
    {
     "data": {
      "text/plain": [
       "bool"
      ]
     },
     "execution_count": 22,
     "metadata": {},
     "output_type": "execute_result"
    }
   ],
   "source": [
    "type(True)\n",
    "False"
   ]
  },
  {
   "cell_type": "code",
   "execution_count": 23,
   "id": "53993474",
   "metadata": {},
   "outputs": [
    {
     "data": {
      "text/plain": [
       "True"
      ]
     },
     "execution_count": 23,
     "metadata": {},
     "output_type": "execute_result"
    }
   ],
   "source": [
    "b == 5"
   ]
  },
  {
   "cell_type": "code",
   "execution_count": 65,
   "id": "4b0206d1",
   "metadata": {},
   "outputs": [],
   "source": [
    "principle = 12345\n",
    "rate = 7\n",
    "period = 10"
   ]
  },
  {
   "cell_type": "code",
   "execution_count": 49,
   "id": "c9a0fa36",
   "metadata": {},
   "outputs": [
    {
     "data": {
      "text/plain": [
       "25307.25"
      ]
     },
     "execution_count": 49,
     "metadata": {},
     "output_type": "execute_result"
    }
   ],
   "source": [
    "si = principle * rate * period / 100\n",
    "amt = principle + si\n",
    "amt"
   ]
  },
  {
   "cell_type": "code",
   "execution_count": 66,
   "id": "f2f3f074",
   "metadata": {},
   "outputs": [
    {
     "data": {
      "text/plain": [
       "24284.4835057397"
      ]
     },
     "execution_count": 66,
     "metadata": {},
     "output_type": "execute_result"
    }
   ],
   "source": [
    "amt = principle * (1+rate/100) ** period\n",
    "amt"
   ]
  },
  {
   "cell_type": "code",
   "execution_count": 67,
   "id": "d80de241",
   "metadata": {},
   "outputs": [
    {
     "data": {
      "text/plain": [
       "False"
      ]
     },
     "execution_count": 67,
     "metadata": {},
     "output_type": "execute_result"
    }
   ],
   "source": [
    "amt >= 2 * principle"
   ]
  },
  {
   "cell_type": "markdown",
   "id": "c9a24b3c",
   "metadata": {},
   "source": [
    "## Boolean/Logical operators"
   ]
  },
  {
   "cell_type": "code",
   "execution_count": null,
   "id": "6b0e66ba",
   "metadata": {},
   "outputs": [],
   "source": [
    "and or not"
   ]
  },
  {
   "cell_type": "code",
   "execution_count": 69,
   "id": "54e1cfd3",
   "metadata": {},
   "outputs": [
    {
     "data": {
      "text/plain": [
       "False"
      ]
     },
     "execution_count": 69,
     "metadata": {},
     "output_type": "execute_result"
    }
   ],
   "source": [
    "n = 100\n",
    "n**2 <= 1000 and n**2 >= 100000"
   ]
  },
  {
   "cell_type": "markdown",
   "id": "c18981b8",
   "metadata": {},
   "source": [
    "## Strings"
   ]
  },
  {
   "cell_type": "code",
   "execution_count": 82,
   "id": "31a8925d",
   "metadata": {},
   "outputs": [],
   "source": [
    "name = 'Vasco Da Gama'\n",
    "address = \"Goa, India\"\n",
    "address = '1\\'st street, Goa, India'\n",
    "address = \"1'st street, Goa, India\"\n",
    "longline = '''this string\n",
    "spans\n",
    "across\n",
    "multiple lines'''\n",
    "winpath = 'c:\\\\win\\\\user\\\\tall\\\\dark\\\\handsome'\n",
    "winpath = r'c:\\win\\user\\tall\\dark\\handsome'\n",
    "email_re = r'\\w+@\\w+\\.\\w+'"
   ]
  },
  {
   "cell_type": "code",
   "execution_count": 81,
   "id": "b57e843a",
   "metadata": {},
   "outputs": [
    {
     "name": "stdout",
     "output_type": "stream",
     "text": [
      "c:\\win\\user\\tall\\dark\\handsome\n"
     ]
    }
   ],
   "source": [
    "print(winpath)"
   ]
  },
  {
   "cell_type": "code",
   "execution_count": 83,
   "id": "a5ac8baf",
   "metadata": {},
   "outputs": [
    {
     "data": {
      "text/plain": [
       "\"Vasco Da Gama1'st street, Goa, India\""
      ]
     },
     "execution_count": 83,
     "metadata": {},
     "output_type": "execute_result"
    }
   ],
   "source": [
    "name + address # concatenation"
   ]
  },
  {
   "cell_type": "code",
   "execution_count": 84,
   "id": "c0e7b76e",
   "metadata": {},
   "outputs": [
    {
     "ename": "TypeError",
     "evalue": "can't multiply sequence by non-int of type 'str'",
     "output_type": "error",
     "traceback": [
      "\u001b[0;31m---------------------------------------------------------------------------\u001b[0m",
      "\u001b[0;31mTypeError\u001b[0m                                 Traceback (most recent call last)",
      "\u001b[0;32m<ipython-input-84-25281d2a5099>\u001b[0m in \u001b[0;36m<module>\u001b[0;34m\u001b[0m\n\u001b[0;32m----> 1\u001b[0;31m \u001b[0mname\u001b[0m \u001b[0;34m*\u001b[0m \u001b[0maddress\u001b[0m\u001b[0;34m\u001b[0m\u001b[0;34m\u001b[0m\u001b[0m\n\u001b[0m",
      "\u001b[0;31mTypeError\u001b[0m: can't multiply sequence by non-int of type 'str'"
     ]
    }
   ],
   "source": [
    "name * address"
   ]
  },
  {
   "cell_type": "code",
   "execution_count": 85,
   "id": "ec663cb5",
   "metadata": {},
   "outputs": [
    {
     "ename": "TypeError",
     "evalue": "can only concatenate str (not \"int\") to str",
     "output_type": "error",
     "traceback": [
      "\u001b[0;31m---------------------------------------------------------------------------\u001b[0m",
      "\u001b[0;31mTypeError\u001b[0m                                 Traceback (most recent call last)",
      "\u001b[0;32m<ipython-input-85-eb654c50a077>\u001b[0m in \u001b[0;36m<module>\u001b[0;34m\u001b[0m\n\u001b[0;32m----> 1\u001b[0;31m \u001b[0mname\u001b[0m \u001b[0;34m+\u001b[0m \u001b[0;36m10\u001b[0m\u001b[0;34m\u001b[0m\u001b[0;34m\u001b[0m\u001b[0m\n\u001b[0m",
      "\u001b[0;31mTypeError\u001b[0m: can only concatenate str (not \"int\") to str"
     ]
    }
   ],
   "source": [
    "name + 10"
   ]
  },
  {
   "cell_type": "code",
   "execution_count": 86,
   "id": "16b27518",
   "metadata": {},
   "outputs": [
    {
     "data": {
      "text/plain": [
       "'Vasco Da GamaVasco Da GamaVasco Da GamaVasco Da GamaVasco Da Gama'"
      ]
     },
     "execution_count": 86,
     "metadata": {},
     "output_type": "execute_result"
    }
   ],
   "source": [
    "name * 5 # repetition"
   ]
  },
  {
   "cell_type": "code",
   "execution_count": 87,
   "id": "8ab50bda",
   "metadata": {},
   "outputs": [
    {
     "data": {
      "text/plain": [
       "'----------------------------------------'"
      ]
     },
     "execution_count": 87,
     "metadata": {},
     "output_type": "execute_result"
    }
   ],
   "source": [
    "'-' * 40"
   ]
  },
  {
   "cell_type": "code",
   "execution_count": 88,
   "id": "2eeea85e",
   "metadata": {},
   "outputs": [
    {
     "data": {
      "text/plain": [
       "False"
      ]
     },
     "execution_count": 88,
     "metadata": {},
     "output_type": "execute_result"
    }
   ],
   "source": [
    "name == address"
   ]
  },
  {
   "cell_type": "code",
   "execution_count": 89,
   "id": "69e73cbe",
   "metadata": {},
   "outputs": [
    {
     "data": {
      "text/plain": [
       "True"
      ]
     },
     "execution_count": 89,
     "metadata": {},
     "output_type": "execute_result"
    }
   ],
   "source": [
    "name != address"
   ]
  },
  {
   "cell_type": "code",
   "execution_count": 90,
   "id": "57d79141",
   "metadata": {},
   "outputs": [
    {
     "data": {
      "text/plain": [
       "False"
      ]
     },
     "execution_count": 90,
     "metadata": {},
     "output_type": "execute_result"
    }
   ],
   "source": [
    "'abc' > 'bcd'"
   ]
  },
  {
   "cell_type": "code",
   "execution_count": 91,
   "id": "5704293f",
   "metadata": {},
   "outputs": [
    {
     "data": {
      "text/plain": [
       "True"
      ]
     },
     "execution_count": 91,
     "metadata": {},
     "output_type": "execute_result"
    }
   ],
   "source": [
    "'pqr' < 'xyz'"
   ]
  },
  {
   "cell_type": "code",
   "execution_count": 92,
   "id": "2ae9b093",
   "metadata": {},
   "outputs": [
    {
     "data": {
      "text/plain": [
       "True"
      ]
     },
     "execution_count": 92,
     "metadata": {},
     "output_type": "execute_result"
    }
   ],
   "source": [
    "'pqr' < 'pqrs'"
   ]
  },
  {
   "cell_type": "code",
   "execution_count": 93,
   "id": "e34d8d35",
   "metadata": {},
   "outputs": [
    {
     "data": {
      "text/plain": [
       "'Vasco Da Gama'"
      ]
     },
     "execution_count": 93,
     "metadata": {},
     "output_type": "execute_result"
    }
   ],
   "source": [
    "name"
   ]
  },
  {
   "cell_type": "code",
   "execution_count": 94,
   "id": "6d8ed55b",
   "metadata": {},
   "outputs": [
    {
     "data": {
      "text/plain": [
       "13"
      ]
     },
     "execution_count": 94,
     "metadata": {},
     "output_type": "execute_result"
    }
   ],
   "source": [
    "len(name)"
   ]
  },
  {
   "cell_type": "code",
   "execution_count": null,
   "id": "3766ba23",
   "metadata": {},
   "outputs": [],
   "source": [
    "type, print, len"
   ]
  },
  {
   "cell_type": "code",
   "execution_count": null,
   "id": "d31a1e4d",
   "metadata": {},
   "outputs": [],
   "source": []
  },
  {
   "cell_type": "code",
   "execution_count": null,
   "id": "83f6baf9",
   "metadata": {},
   "outputs": [],
   "source": []
  },
  {
   "cell_type": "code",
   "execution_count": 95,
   "id": "f10bea42",
   "metadata": {},
   "outputs": [
    {
     "name": "stdout",
     "output_type": "stream",
     "text": [
      "Help on built-in function len in module builtins:\n",
      "\n",
      "len(obj, /)\n",
      "    Return the number of items in a container.\n",
      "\n"
     ]
    }
   ],
   "source": [
    "help(len)"
   ]
  },
  {
   "cell_type": "code",
   "execution_count": 96,
   "id": "7dd95a78",
   "metadata": {},
   "outputs": [
    {
     "data": {
      "text/plain": [
       "4"
      ]
     },
     "execution_count": 96,
     "metadata": {},
     "output_type": "execute_result"
    }
   ],
   "source": [
    "len([1,2,3,4])"
   ]
  },
  {
   "cell_type": "code",
   "execution_count": 98,
   "id": "59442bcb",
   "metadata": {},
   "outputs": [
    {
     "data": {
      "text/plain": [
       "'Vasco da gama'"
      ]
     },
     "execution_count": 98,
     "metadata": {},
     "output_type": "execute_result"
    }
   ],
   "source": [
    "name.capitalize()"
   ]
  },
  {
   "cell_type": "code",
   "execution_count": 99,
   "id": "9cef2706",
   "metadata": {},
   "outputs": [
    {
     "data": {
      "text/plain": [
       "'Vasco Da Gama'"
      ]
     },
     "execution_count": 99,
     "metadata": {},
     "output_type": "execute_result"
    }
   ],
   "source": [
    "name"
   ]
  },
  {
   "cell_type": "code",
   "execution_count": 100,
   "id": "e3fa0bc7",
   "metadata": {},
   "outputs": [
    {
     "data": {
      "text/plain": [
       "'vasco da gama'"
      ]
     },
     "execution_count": 100,
     "metadata": {},
     "output_type": "execute_result"
    }
   ],
   "source": [
    "name.lower()"
   ]
  },
  {
   "cell_type": "code",
   "execution_count": 101,
   "id": "d02dc4cb",
   "metadata": {},
   "outputs": [
    {
     "data": {
      "text/plain": [
       "'VASCO DA GAMA'"
      ]
     },
     "execution_count": 101,
     "metadata": {},
     "output_type": "execute_result"
    }
   ],
   "source": [
    "name.upper()"
   ]
  },
  {
   "cell_type": "code",
   "execution_count": 102,
   "id": "de02efe0",
   "metadata": {},
   "outputs": [
    {
     "data": {
      "text/plain": [
       "False"
      ]
     },
     "execution_count": 102,
     "metadata": {},
     "output_type": "execute_result"
    }
   ],
   "source": [
    "name.isalnum()"
   ]
  },
  {
   "cell_type": "code",
   "execution_count": 103,
   "id": "ba678e42",
   "metadata": {},
   "outputs": [
    {
     "data": {
      "text/plain": [
       "True"
      ]
     },
     "execution_count": 103,
     "metadata": {},
     "output_type": "execute_result"
    }
   ],
   "source": [
    "'String123'.isalnum()"
   ]
  },
  {
   "cell_type": "code",
   "execution_count": 104,
   "id": "b24661db",
   "metadata": {},
   "outputs": [
    {
     "data": {
      "text/plain": [
       "False"
      ]
     },
     "execution_count": 104,
     "metadata": {},
     "output_type": "execute_result"
    }
   ],
   "source": [
    "'1/2'.isalnum()"
   ]
  },
  {
   "cell_type": "code",
   "execution_count": 107,
   "id": "b419d2bc",
   "metadata": {},
   "outputs": [
    {
     "data": {
      "text/plain": [
       "True"
      ]
     },
     "execution_count": 107,
     "metadata": {},
     "output_type": "execute_result"
    }
   ],
   "source": [
    "name.startswith('V') and name.endswith('a')"
   ]
  },
  {
   "cell_type": "code",
   "execution_count": 106,
   "id": "e0b7794d",
   "metadata": {},
   "outputs": [
    {
     "data": {
      "text/plain": [
       "'Vasco Da Gama'"
      ]
     },
     "execution_count": 106,
     "metadata": {},
     "output_type": "execute_result"
    }
   ],
   "source": [
    "name"
   ]
  },
  {
   "cell_type": "code",
   "execution_count": 112,
   "id": "965c0644",
   "metadata": {},
   "outputs": [
    {
     "data": {
      "text/plain": [
       "'Vasco   Da    Gama'"
      ]
     },
     "execution_count": 112,
     "metadata": {},
     "output_type": "execute_result"
    }
   ],
   "source": [
    "name = '   .. Vasco   Da    Gama  ..   '\n",
    "name.strip(' .')"
   ]
  },
  {
   "cell_type": "code",
   "execution_count": 115,
   "id": "dfa57626",
   "metadata": {},
   "outputs": [
    {
     "data": {
      "text/plain": [
       "'Vasco   Da    Gama'"
      ]
     },
     "execution_count": 115,
     "metadata": {},
     "output_type": "execute_result"
    }
   ],
   "source": [
    "name = name.strip(' .')\n",
    "name"
   ]
  },
  {
   "cell_type": "code",
   "execution_count": 116,
   "id": "8a0d6e9d",
   "metadata": {},
   "outputs": [
    {
     "data": {
      "text/plain": [
       "18"
      ]
     },
     "execution_count": 116,
     "metadata": {},
     "output_type": "execute_result"
    }
   ],
   "source": [
    "len(name)"
   ]
  },
  {
   "cell_type": "code",
   "execution_count": 117,
   "id": "600775f0",
   "metadata": {},
   "outputs": [
    {
     "data": {
      "text/plain": [
       "'V'"
      ]
     },
     "execution_count": 117,
     "metadata": {},
     "output_type": "execute_result"
    }
   ],
   "source": [
    "name[0]"
   ]
  },
  {
   "cell_type": "code",
   "execution_count": 118,
   "id": "df556488",
   "metadata": {},
   "outputs": [
    {
     "data": {
      "text/plain": [
       "'D'"
      ]
     },
     "execution_count": 118,
     "metadata": {},
     "output_type": "execute_result"
    }
   ],
   "source": [
    "name[8]"
   ]
  },
  {
   "cell_type": "code",
   "execution_count": 119,
   "id": "b9458f6c",
   "metadata": {},
   "outputs": [
    {
     "data": {
      "text/plain": [
       "'a'"
      ]
     },
     "execution_count": 119,
     "metadata": {},
     "output_type": "execute_result"
    }
   ],
   "source": [
    "name[17]"
   ]
  },
  {
   "cell_type": "code",
   "execution_count": 120,
   "id": "605e5e9d",
   "metadata": {},
   "outputs": [
    {
     "data": {
      "text/plain": [
       "'a'"
      ]
     },
     "execution_count": 120,
     "metadata": {},
     "output_type": "execute_result"
    }
   ],
   "source": [
    "name[len(name)-1]"
   ]
  },
  {
   "cell_type": "code",
   "execution_count": 121,
   "id": "e0eb009b",
   "metadata": {},
   "outputs": [
    {
     "data": {
      "text/plain": [
       "'a'"
      ]
     },
     "execution_count": 121,
     "metadata": {},
     "output_type": "execute_result"
    }
   ],
   "source": [
    "name[-1]"
   ]
  },
  {
   "cell_type": "code",
   "execution_count": 122,
   "id": "c7d1f087",
   "metadata": {},
   "outputs": [
    {
     "data": {
      "text/plain": [
       "'G'"
      ]
     },
     "execution_count": 122,
     "metadata": {},
     "output_type": "execute_result"
    }
   ],
   "source": [
    "name[-4]"
   ]
  },
  {
   "cell_type": "markdown",
   "id": "92182f95",
   "metadata": {},
   "source": [
    "### Slices\n",
    "\n",
    "    str [ from : to ]\n",
    "    \n",
    "    from: inclusive, default=0\n",
    "    to: non-inclusive, default=end of string"
   ]
  },
  {
   "cell_type": "code",
   "execution_count": 123,
   "id": "c1ce0501",
   "metadata": {},
   "outputs": [
    {
     "data": {
      "text/plain": [
       "'co   '"
      ]
     },
     "execution_count": 123,
     "metadata": {},
     "output_type": "execute_result"
    }
   ],
   "source": [
    "name[3:8]"
   ]
  },
  {
   "cell_type": "code",
   "execution_count": 124,
   "id": "f1511e0a",
   "metadata": {},
   "outputs": [],
   "source": [
    "idxs  = '01234567890'\n",
    "magic = 'abracadabra'"
   ]
  },
  {
   "cell_type": "code",
   "execution_count": 128,
   "id": "33144fed",
   "metadata": {},
   "outputs": [
    {
     "data": {
      "text/plain": [
       "'cad'"
      ]
     },
     "execution_count": 128,
     "metadata": {},
     "output_type": "execute_result"
    }
   ],
   "source": [
    "magic[4:7]"
   ]
  },
  {
   "cell_type": "code",
   "execution_count": 129,
   "id": "9dbbbd98",
   "metadata": {},
   "outputs": [
    {
     "data": {
      "text/plain": [
       "'cad'"
      ]
     },
     "execution_count": 129,
     "metadata": {},
     "output_type": "execute_result"
    }
   ],
   "source": [
    "magic[4:6+1]"
   ]
  },
  {
   "cell_type": "code",
   "execution_count": 138,
   "id": "ac050610",
   "metadata": {},
   "outputs": [
    {
     "data": {
      "text/plain": [
       "'abra'"
      ]
     },
     "execution_count": 138,
     "metadata": {},
     "output_type": "execute_result"
    }
   ],
   "source": [
    "magic[0:4]\n",
    "magic[:4]"
   ]
  },
  {
   "cell_type": "code",
   "execution_count": 139,
   "id": "6724b735",
   "metadata": {},
   "outputs": [
    {
     "data": {
      "text/plain": [
       "'abra'"
      ]
     },
     "execution_count": 139,
     "metadata": {},
     "output_type": "execute_result"
    }
   ],
   "source": [
    "magic[7:11]\n",
    "magic[7:]"
   ]
  },
  {
   "cell_type": "code",
   "execution_count": 136,
   "id": "81f8f404",
   "metadata": {},
   "outputs": [
    {
     "ename": "IndexError",
     "evalue": "string index out of range",
     "output_type": "error",
     "traceback": [
      "\u001b[0;31m---------------------------------------------------------------------------\u001b[0m",
      "\u001b[0;31mIndexError\u001b[0m                                Traceback (most recent call last)",
      "\u001b[0;32m<ipython-input-136-9b92dfb1d2e3>\u001b[0m in \u001b[0;36m<module>\u001b[0;34m\u001b[0m\n\u001b[0;32m----> 1\u001b[0;31m \u001b[0mmagic\u001b[0m\u001b[0;34m[\u001b[0m\u001b[0;36m11\u001b[0m\u001b[0;34m]\u001b[0m\u001b[0;34m\u001b[0m\u001b[0;34m\u001b[0m\u001b[0m\n\u001b[0m",
      "\u001b[0;31mIndexError\u001b[0m: string index out of range"
     ]
    }
   ],
   "source": [
    "magic[11]"
   ]
  },
  {
   "cell_type": "code",
   "execution_count": 141,
   "id": "70b12c11",
   "metadata": {},
   "outputs": [
    {
     "data": {
      "text/plain": [
       "'abracadabra'"
      ]
     },
     "execution_count": 141,
     "metadata": {},
     "output_type": "execute_result"
    }
   ],
   "source": [
    "magic"
   ]
  },
  {
   "cell_type": "code",
   "execution_count": 142,
   "id": "9f6f8c79",
   "metadata": {},
   "outputs": [
    {
     "data": {
      "text/plain": [
       "True"
      ]
     },
     "execution_count": 142,
     "metadata": {},
     "output_type": "execute_result"
    }
   ],
   "source": [
    "magic[:4] == magic[-4:]"
   ]
  },
  {
   "cell_type": "code",
   "execution_count": 143,
   "id": "a865195a",
   "metadata": {},
   "outputs": [],
   "source": [
    "first = 'mohandas'\n",
    "middle = 'KARAMCHAND'\n",
    "last = 'Gandhi'\n"
   ]
  },
  {
   "cell_type": "code",
   "execution_count": 152,
   "id": "3aa853a9",
   "metadata": {},
   "outputs": [],
   "source": [
    "first = 'BARACK'\n",
    "middle = 'billie'\n",
    "last = 'obama'\n",
    "\n",
    "# 'B.B.Obama'"
   ]
  },
  {
   "cell_type": "code",
   "execution_count": 145,
   "id": "456c707a",
   "metadata": {},
   "outputs": [
    {
     "data": {
      "text/plain": [
       "'mohandasKARAMCHANDGandhi'"
      ]
     },
     "execution_count": 145,
     "metadata": {},
     "output_type": "execute_result"
    }
   ],
   "source": [
    "first + middle + last"
   ]
  },
  {
   "cell_type": "code",
   "execution_count": null,
   "id": "ca8badad",
   "metadata": {},
   "outputs": [],
   "source": [
    "'M.K.Gandhi'"
   ]
  },
  {
   "cell_type": "code",
   "execution_count": 146,
   "id": "52b3c0a7",
   "metadata": {},
   "outputs": [
    {
     "data": {
      "text/plain": [
       "'mKGandhi'"
      ]
     },
     "execution_count": 146,
     "metadata": {},
     "output_type": "execute_result"
    }
   ],
   "source": [
    "first[0] + middle[0] + last"
   ]
  },
  {
   "cell_type": "code",
   "execution_count": 153,
   "id": "e0ab0b72",
   "metadata": {},
   "outputs": [
    {
     "data": {
      "text/plain": [
       "'B.B.Obama'"
      ]
     },
     "execution_count": 153,
     "metadata": {},
     "output_type": "execute_result"
    }
   ],
   "source": [
    "first.capitalize()[0] + '.' + middle.capitalize()[0] + '.' + last.capitalize()"
   ]
  },
  {
   "cell_type": "code",
   "execution_count": null,
   "id": "e420093a",
   "metadata": {},
   "outputs": [],
   "source": [
    "anjalidevikm@cyient.com"
   ]
  }
 ],
 "metadata": {
  "kernelspec": {
   "display_name": "Python 3",
   "language": "python",
   "name": "python3"
  },
  "language_info": {
   "codemirror_mode": {
    "name": "ipython",
    "version": 3
   },
   "file_extension": ".py",
   "mimetype": "text/x-python",
   "name": "python",
   "nbconvert_exporter": "python",
   "pygments_lexer": "ipython3",
   "version": "3.8.16"
  }
 },
 "nbformat": 4,
 "nbformat_minor": 5
}
