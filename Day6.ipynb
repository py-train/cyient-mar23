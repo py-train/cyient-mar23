{
 "cells": [
  {
   "cell_type": "markdown",
   "id": "e4ec36a6",
   "metadata": {},
   "source": [
    "# Day 6: Agenda\n",
    "\n",
    "- Data Ecosystem\n",
    "- Numpy\n",
    "- Pandas intro"
   ]
  },
  {
   "cell_type": "markdown",
   "id": "ea4dbcc1",
   "metadata": {},
   "source": [
    "### Characteristics of Data\n",
    "\n",
    "- Volume: Store\n",
    "- Velocity: process\n",
    "- Variety: unification"
   ]
  },
  {
   "cell_type": "code",
   "execution_count": 1,
   "id": "41f895fd",
   "metadata": {},
   "outputs": [],
   "source": [
    "import sys"
   ]
  },
  {
   "cell_type": "code",
   "execution_count": 2,
   "id": "2adcf27c",
   "metadata": {},
   "outputs": [
    {
     "data": {
      "text/plain": [
       "['/Users/ash/cyient/geo',\n",
       " '/usr/local/lib/python3.8/site-packages/_pdbpp_path_hack',\n",
       " '/usr/local/Cellar/python@3.8/3.8.16/Frameworks/Python.framework/Versions/3.8/lib/python38.zip',\n",
       " '/usr/local/Cellar/python@3.8/3.8.16/Frameworks/Python.framework/Versions/3.8/lib/python3.8',\n",
       " '/usr/local/Cellar/python@3.8/3.8.16/Frameworks/Python.framework/Versions/3.8/lib/python3.8/lib-dynload',\n",
       " '',\n",
       " '/usr/local/lib/python3.8/site-packages',\n",
       " '/usr/local/lib/python3.8/site-packages/IPython/extensions',\n",
       " '/Users/ash/.ipython']"
      ]
     },
     "execution_count": 2,
     "metadata": {},
     "output_type": "execute_result"
    }
   ],
   "source": [
    "sys.path"
   ]
  },
  {
   "cell_type": "code",
   "execution_count": 3,
   "id": "565af874",
   "metadata": {},
   "outputs": [
    {
     "data": {
      "text/plain": [
       "28"
      ]
     },
     "execution_count": 3,
     "metadata": {},
     "output_type": "execute_result"
    }
   ],
   "source": [
    "sys.getsizeof(4)"
   ]
  },
  {
   "cell_type": "code",
   "execution_count": 4,
   "id": "2b02ae9c",
   "metadata": {},
   "outputs": [
    {
     "data": {
      "text/plain": [
       "24"
      ]
     },
     "execution_count": 4,
     "metadata": {},
     "output_type": "execute_result"
    }
   ],
   "source": [
    "sys.getsizeof(4.2)"
   ]
  },
  {
   "cell_type": "code",
   "execution_count": 7,
   "id": "4452c648",
   "metadata": {},
   "outputs": [
    {
     "data": {
      "text/plain": [
       "56"
      ]
     },
     "execution_count": 7,
     "metadata": {},
     "output_type": "execute_result"
    }
   ],
   "source": [
    "sys.getsizeof([])"
   ]
  },
  {
   "cell_type": "code",
   "execution_count": 8,
   "id": "480f6c97",
   "metadata": {},
   "outputs": [
    {
     "data": {
      "text/plain": [
       "64"
      ]
     },
     "execution_count": 8,
     "metadata": {},
     "output_type": "execute_result"
    }
   ],
   "source": [
    "sys.getsizeof({})"
   ]
  },
  {
   "cell_type": "markdown",
   "id": "b0bc8f6d",
   "metadata": {},
   "source": [
    "### Python interpreter implementation\n",
    "\n",
    "CPython | IronPython(C#) | Jpython (Java)\n",
    "Python-C API\n",
    "\n",
    "Programmer\n",
    "|\n",
    "code (pandas, matplotlib, sklearn)\n",
    "|\n",
    "python (numpy)\n",
    "|\n",
    "C (numpy)\n",
    "|\n",
    "Machine"
   ]
  },
  {
   "cell_type": "code",
   "execution_count": 10,
   "id": "ccadc749",
   "metadata": {},
   "outputs": [],
   "source": [
    "import numpy as np"
   ]
  },
  {
   "cell_type": "code",
   "execution_count": 11,
   "id": "f6ef2f69",
   "metadata": {},
   "outputs": [
    {
     "data": {
      "text/plain": [
       "array([1, 2, 3, 4])"
      ]
     },
     "execution_count": 11,
     "metadata": {},
     "output_type": "execute_result"
    }
   ],
   "source": [
    "arr = np.array([1,2,3,4])\n",
    "arr"
   ]
  },
  {
   "cell_type": "code",
   "execution_count": 12,
   "id": "8821442d",
   "metadata": {},
   "outputs": [
    {
     "data": {
      "text/plain": [
       "numpy.ndarray"
      ]
     },
     "execution_count": 12,
     "metadata": {},
     "output_type": "execute_result"
    }
   ],
   "source": [
    "type(arr)"
   ]
  },
  {
   "cell_type": "code",
   "execution_count": 15,
   "id": "5b7f472b",
   "metadata": {},
   "outputs": [
    {
     "data": {
      "text/plain": [
       "4"
      ]
     },
     "execution_count": 15,
     "metadata": {},
     "output_type": "execute_result"
    }
   ],
   "source": [
    "len(arr)"
   ]
  },
  {
   "cell_type": "code",
   "execution_count": 16,
   "id": "dc71c301",
   "metadata": {},
   "outputs": [
    {
     "data": {
      "text/plain": [
       "128"
      ]
     },
     "execution_count": 16,
     "metadata": {},
     "output_type": "execute_result"
    }
   ],
   "source": [
    "sys.getsizeof(arr)"
   ]
  },
  {
   "cell_type": "code",
   "execution_count": 17,
   "id": "c3c46f8b",
   "metadata": {},
   "outputs": [
    {
     "data": {
      "text/plain": [
       "88"
      ]
     },
     "execution_count": 17,
     "metadata": {},
     "output_type": "execute_result"
    }
   ],
   "source": [
    "sys.getsizeof([1,2,3,4])"
   ]
  },
  {
   "cell_type": "code",
   "execution_count": 18,
   "id": "b7e28708",
   "metadata": {},
   "outputs": [
    {
     "data": {
      "text/plain": [
       "1"
      ]
     },
     "execution_count": 18,
     "metadata": {},
     "output_type": "execute_result"
    }
   ],
   "source": [
    "arr.ndim"
   ]
  },
  {
   "cell_type": "code",
   "execution_count": 19,
   "id": "fe3f0222",
   "metadata": {},
   "outputs": [],
   "source": [
    "arr2 = np.array([[1,2],[3,4],[5,6]])"
   ]
  },
  {
   "cell_type": "code",
   "execution_count": 20,
   "id": "c8b52b8b",
   "metadata": {},
   "outputs": [
    {
     "data": {
      "text/plain": [
       "2"
      ]
     },
     "execution_count": 20,
     "metadata": {},
     "output_type": "execute_result"
    }
   ],
   "source": [
    "arr2.ndim"
   ]
  },
  {
   "cell_type": "code",
   "execution_count": 21,
   "id": "a7eb39eb",
   "metadata": {},
   "outputs": [
    {
     "data": {
      "text/plain": [
       "(3, 2)"
      ]
     },
     "execution_count": 21,
     "metadata": {},
     "output_type": "execute_result"
    }
   ],
   "source": [
    "arr2.shape"
   ]
  },
  {
   "cell_type": "code",
   "execution_count": 28,
   "id": "4b993a9e",
   "metadata": {},
   "outputs": [],
   "source": [
    "arr = np.arange(10000)"
   ]
  },
  {
   "cell_type": "code",
   "execution_count": 29,
   "id": "1f0a7092",
   "metadata": {},
   "outputs": [
    {
     "data": {
      "text/plain": [
       "80096"
      ]
     },
     "execution_count": 29,
     "metadata": {},
     "output_type": "execute_result"
    }
   ],
   "source": [
    "sys.getsizeof(arr)"
   ]
  },
  {
   "cell_type": "code",
   "execution_count": 30,
   "id": "a40b293a",
   "metadata": {},
   "outputs": [
    {
     "data": {
      "text/plain": [
       "80056"
      ]
     },
     "execution_count": 30,
     "metadata": {},
     "output_type": "execute_result"
    }
   ],
   "source": [
    "nums = list(range(10000))\n",
    "sys.getsizeof(nums)"
   ]
  },
  {
   "cell_type": "code",
   "execution_count": 31,
   "id": "8b2255ae",
   "metadata": {},
   "outputs": [
    {
     "data": {
      "text/plain": [
       "dtype('int64')"
      ]
     },
     "execution_count": 31,
     "metadata": {},
     "output_type": "execute_result"
    }
   ],
   "source": [
    "arr.dtype"
   ]
  },
  {
   "cell_type": "code",
   "execution_count": 32,
   "id": "934f48f3",
   "metadata": {},
   "outputs": [
    {
     "data": {
      "text/plain": [
       "20096"
      ]
     },
     "execution_count": 32,
     "metadata": {},
     "output_type": "execute_result"
    }
   ],
   "source": [
    "arr = np.arange(10000, dtype=np.int16)\n",
    "sys.getsizeof(arr)"
   ]
  },
  {
   "cell_type": "code",
   "execution_count": 33,
   "id": "e77d30e2",
   "metadata": {},
   "outputs": [
    {
     "data": {
      "text/plain": [
       "[1, 2, 3, 4, 5, 6, 7, 8]"
      ]
     },
     "execution_count": 33,
     "metadata": {},
     "output_type": "execute_result"
    }
   ],
   "source": [
    "[1,2,3,4] + [5,6,7,8]"
   ]
  },
  {
   "cell_type": "code",
   "execution_count": 34,
   "id": "ec5ac85b",
   "metadata": {},
   "outputs": [
    {
     "data": {
      "text/plain": [
       "array([10, 12, 14, 16, 18, 20, 22, 24, 26, 28])"
      ]
     },
     "execution_count": 34,
     "metadata": {},
     "output_type": "execute_result"
    }
   ],
   "source": [
    "# vectorized operations\n",
    "\n",
    "arr1 = np.arange(10)\n",
    "arr2 = np.arange(10,20)\n",
    "\n",
    "arr1 + arr2"
   ]
  },
  {
   "cell_type": "code",
   "execution_count": 35,
   "id": "e92eceda",
   "metadata": {},
   "outputs": [
    {
     "data": {
      "text/plain": [
       "array([0, 1, 2, 3, 4, 5, 6, 7, 8, 9])"
      ]
     },
     "execution_count": 35,
     "metadata": {},
     "output_type": "execute_result"
    }
   ],
   "source": [
    "arr1"
   ]
  },
  {
   "cell_type": "code",
   "execution_count": 36,
   "id": "d69aa427",
   "metadata": {},
   "outputs": [
    {
     "data": {
      "text/plain": [
       "array([10, 11, 12, 13, 14, 15, 16, 17, 18, 19])"
      ]
     },
     "execution_count": 36,
     "metadata": {},
     "output_type": "execute_result"
    }
   ],
   "source": [
    "arr2"
   ]
  },
  {
   "cell_type": "code",
   "execution_count": 37,
   "id": "d1c1d517",
   "metadata": {},
   "outputs": [
    {
     "data": {
      "text/plain": [
       "array([10, 10, 10, 10, 10, 10, 10, 10, 10, 10])"
      ]
     },
     "execution_count": 37,
     "metadata": {},
     "output_type": "execute_result"
    }
   ],
   "source": [
    "arr2 - arr1"
   ]
  },
  {
   "cell_type": "code",
   "execution_count": 38,
   "id": "153f1428",
   "metadata": {},
   "outputs": [
    {
     "ename": "ValueError",
     "evalue": "operands could not be broadcast together with shapes (4,) (5,) ",
     "output_type": "error",
     "traceback": [
      "\u001b[0;31m---------------------------------------------------------------------------\u001b[0m",
      "\u001b[0;31mValueError\u001b[0m                                Traceback (most recent call last)",
      "\u001b[0;32m<ipython-input-38-20caf25e4e37>\u001b[0m in \u001b[0;36m<module>\u001b[0;34m\u001b[0m\n\u001b[0;32m----> 1\u001b[0;31m \u001b[0mnp\u001b[0m\u001b[0;34m.\u001b[0m\u001b[0marange\u001b[0m\u001b[0;34m(\u001b[0m\u001b[0;36m4\u001b[0m\u001b[0;34m)\u001b[0m \u001b[0;34m+\u001b[0m \u001b[0mnp\u001b[0m\u001b[0;34m.\u001b[0m\u001b[0marange\u001b[0m\u001b[0;34m(\u001b[0m\u001b[0;36m5\u001b[0m\u001b[0;34m)\u001b[0m\u001b[0;34m\u001b[0m\u001b[0;34m\u001b[0m\u001b[0m\n\u001b[0m",
      "\u001b[0;31mValueError\u001b[0m: operands could not be broadcast together with shapes (4,) (5,) "
     ]
    }
   ],
   "source": [
    "np.arange(4) + np.arange(5)"
   ]
  },
  {
   "cell_type": "code",
   "execution_count": 39,
   "id": "9592afd6",
   "metadata": {},
   "outputs": [
    {
     "data": {
      "text/plain": [
       "array([10, 11, 12, 13, 14, 15, 16, 17, 18, 19])"
      ]
     },
     "execution_count": 39,
     "metadata": {},
     "output_type": "execute_result"
    }
   ],
   "source": [
    "arr1 + 10"
   ]
  },
  {
   "cell_type": "code",
   "execution_count": 40,
   "id": "2cea91d1",
   "metadata": {},
   "outputs": [
    {
     "data": {
      "text/plain": [
       "array([ 0,  5, 10, 15, 20, 25, 30, 35, 40, 45])"
      ]
     },
     "execution_count": 40,
     "metadata": {},
     "output_type": "execute_result"
    }
   ],
   "source": [
    "arr1 * 5"
   ]
  },
  {
   "cell_type": "code",
   "execution_count": 41,
   "id": "4c2c460c",
   "metadata": {},
   "outputs": [
    {
     "data": {
      "text/plain": [
       "array([50, 55, 60, 65, 70, 75, 80, 85, 90, 95])"
      ]
     },
     "execution_count": 41,
     "metadata": {},
     "output_type": "execute_result"
    }
   ],
   "source": [
    "(arr1 + 10) * 5"
   ]
  },
  {
   "cell_type": "code",
   "execution_count": 42,
   "id": "ee50fb2c",
   "metadata": {},
   "outputs": [
    {
     "data": {
      "text/plain": [
       "array([0, 1, 2, 3, 4, 5, 6, 7, 8, 9])"
      ]
     },
     "execution_count": 42,
     "metadata": {},
     "output_type": "execute_result"
    }
   ],
   "source": [
    "arr1"
   ]
  },
  {
   "cell_type": "code",
   "execution_count": 43,
   "id": "856e163f",
   "metadata": {},
   "outputs": [
    {
     "data": {
      "text/plain": [
       "(10,)"
      ]
     },
     "execution_count": 43,
     "metadata": {},
     "output_type": "execute_result"
    }
   ],
   "source": [
    "arr1.shape"
   ]
  },
  {
   "cell_type": "code",
   "execution_count": 44,
   "id": "db198943",
   "metadata": {},
   "outputs": [
    {
     "data": {
      "text/plain": [
       "array([[0, 1],\n",
       "       [2, 3],\n",
       "       [4, 5],\n",
       "       [6, 7],\n",
       "       [8, 9]])"
      ]
     },
     "execution_count": 44,
     "metadata": {},
     "output_type": "execute_result"
    }
   ],
   "source": [
    "arr1.reshape((5,2))"
   ]
  },
  {
   "cell_type": "code",
   "execution_count": 45,
   "id": "5489f215",
   "metadata": {},
   "outputs": [
    {
     "data": {
      "text/plain": [
       "array([[0, 1, 2, 3, 4],\n",
       "       [5, 6, 7, 8, 9]])"
      ]
     },
     "execution_count": 45,
     "metadata": {},
     "output_type": "execute_result"
    }
   ],
   "source": [
    "arr1.reshape((2,5))"
   ]
  },
  {
   "cell_type": "code",
   "execution_count": 46,
   "id": "6f5ca6c8",
   "metadata": {},
   "outputs": [
    {
     "ename": "ValueError",
     "evalue": "cannot reshape array of size 10 into shape (3,3)",
     "output_type": "error",
     "traceback": [
      "\u001b[0;31m---------------------------------------------------------------------------\u001b[0m",
      "\u001b[0;31mValueError\u001b[0m                                Traceback (most recent call last)",
      "\u001b[0;32m<ipython-input-46-15c602ef166a>\u001b[0m in \u001b[0;36m<module>\u001b[0;34m\u001b[0m\n\u001b[0;32m----> 1\u001b[0;31m \u001b[0marr1\u001b[0m\u001b[0;34m.\u001b[0m\u001b[0mreshape\u001b[0m\u001b[0;34m(\u001b[0m\u001b[0;34m(\u001b[0m\u001b[0;36m3\u001b[0m\u001b[0;34m,\u001b[0m\u001b[0;36m3\u001b[0m\u001b[0;34m)\u001b[0m\u001b[0;34m)\u001b[0m\u001b[0;34m\u001b[0m\u001b[0;34m\u001b[0m\u001b[0m\n\u001b[0m",
      "\u001b[0;31mValueError\u001b[0m: cannot reshape array of size 10 into shape (3,3)"
     ]
    }
   ],
   "source": [
    "arr1.reshape((3,3))"
   ]
  },
  {
   "cell_type": "code",
   "execution_count": 47,
   "id": "a5f5a251",
   "metadata": {},
   "outputs": [],
   "source": [
    "nums1 = list(range(1000))\n",
    "nums2 = list(range(1000,2000))"
   ]
  },
  {
   "cell_type": "code",
   "execution_count": 48,
   "id": "aaf9e781",
   "metadata": {},
   "outputs": [],
   "source": [
    "arr1 = np.arange(1000)\n",
    "arr2 = np.arange(1000,2000)"
   ]
  },
  {
   "cell_type": "code",
   "execution_count": 50,
   "id": "5b2833b0",
   "metadata": {},
   "outputs": [
    {
     "name": "stdout",
     "output_type": "stream",
     "text": [
      "1.36 µs ± 97.1 ns per loop (mean ± std. dev. of 7 runs, 1000000 loops each)\n"
     ]
    }
   ],
   "source": [
    "%%timeit\n",
    "\n",
    "arr1+arr2;"
   ]
  },
  {
   "cell_type": "code",
   "execution_count": 52,
   "id": "bfdc08d4",
   "metadata": {},
   "outputs": [
    {
     "name": "stdout",
     "output_type": "stream",
     "text": [
      "103 µs ± 3.74 µs per loop (mean ± std. dev. of 7 runs, 10000 loops each)\n"
     ]
    }
   ],
   "source": [
    "%%timeit\n",
    "\n",
    "[n1+n2 for n1,n2 in zip(nums1,nums2)];"
   ]
  },
  {
   "cell_type": "code",
   "execution_count": 54,
   "id": "ca23a247",
   "metadata": {},
   "outputs": [
    {
     "data": {
      "text/plain": [
       "array([0, 1, 2, 3, 4, 5, 6, 7, 8, 9])"
      ]
     },
     "execution_count": 54,
     "metadata": {},
     "output_type": "execute_result"
    }
   ],
   "source": [
    "arr1 = np.arange(10)\n",
    "arr1"
   ]
  },
  {
   "cell_type": "code",
   "execution_count": 55,
   "id": "e31d8b32",
   "metadata": {},
   "outputs": [
    {
     "data": {
      "text/plain": [
       "array([False, False, False, False,  True,  True,  True,  True,  True,\n",
       "        True])"
      ]
     },
     "execution_count": 55,
     "metadata": {},
     "output_type": "execute_result"
    }
   ],
   "source": [
    "arr1 >= 4"
   ]
  },
  {
   "cell_type": "code",
   "execution_count": 56,
   "id": "54f3ace1",
   "metadata": {},
   "outputs": [
    {
     "data": {
      "text/plain": [
       "0"
      ]
     },
     "execution_count": 56,
     "metadata": {},
     "output_type": "execute_result"
    }
   ],
   "source": [
    "arr1[0]"
   ]
  },
  {
   "cell_type": "code",
   "execution_count": 57,
   "id": "e3fda2d1",
   "metadata": {},
   "outputs": [
    {
     "data": {
      "text/plain": [
       "array([0, 1, 2, 3, 4])"
      ]
     },
     "execution_count": 57,
     "metadata": {},
     "output_type": "execute_result"
    }
   ],
   "source": [
    "arr1[:5]"
   ]
  },
  {
   "cell_type": "code",
   "execution_count": 58,
   "id": "6f595dcd",
   "metadata": {},
   "outputs": [
    {
     "data": {
      "text/plain": [
       "array([4, 5, 6, 7, 8, 9])"
      ]
     },
     "execution_count": 58,
     "metadata": {},
     "output_type": "execute_result"
    }
   ],
   "source": [
    "arr1[arr1 >= 4]"
   ]
  },
  {
   "cell_type": "code",
   "execution_count": 59,
   "id": "1ae91d9a",
   "metadata": {},
   "outputs": [
    {
     "data": {
      "text/plain": [
       "array([0, 1, 2, 3, 4, 5, 6])"
      ]
     },
     "execution_count": 59,
     "metadata": {},
     "output_type": "execute_result"
    }
   ],
   "source": [
    "arr1[arr1 < 7]"
   ]
  },
  {
   "cell_type": "code",
   "execution_count": 60,
   "id": "79e8e4b0",
   "metadata": {},
   "outputs": [
    {
     "data": {
      "text/plain": [
       "array([1, 2, 3, 4, 5, 6, 7, 8, 9])"
      ]
     },
     "execution_count": 60,
     "metadata": {},
     "output_type": "execute_result"
    }
   ],
   "source": [
    "arr1[arr1 != 0]"
   ]
  },
  {
   "cell_type": "code",
   "execution_count": 64,
   "id": "4cc9f7a6",
   "metadata": {},
   "outputs": [
    {
     "data": {
      "text/plain": [
       "array([2, 3, 4, 5, 6, 7])"
      ]
     },
     "execution_count": 64,
     "metadata": {},
     "output_type": "execute_result"
    }
   ],
   "source": [
    "arr1[(arr1>=2) & (arr1<=7)]"
   ]
  },
  {
   "cell_type": "code",
   "execution_count": 66,
   "id": "d9f52545",
   "metadata": {},
   "outputs": [
    {
     "data": {
      "text/plain": [
       "array([0, 1, 8, 9])"
      ]
     },
     "execution_count": 66,
     "metadata": {},
     "output_type": "execute_result"
    }
   ],
   "source": [
    "arr1[(arr1<2) | (arr1>7)]"
   ]
  },
  {
   "cell_type": "code",
   "execution_count": 72,
   "id": "60d511e1",
   "metadata": {},
   "outputs": [],
   "source": [
    "arr1 = np.random.random(10)\n",
    "arr2 = np.random.random(10)"
   ]
  },
  {
   "cell_type": "code",
   "execution_count": 75,
   "id": "10a1a67b",
   "metadata": {},
   "outputs": [
    {
     "data": {
      "text/plain": [
       "array([ True,  True,  True,  True,  True,  True,  True,  True,  True,\n",
       "        True])"
      ]
     },
     "execution_count": 75,
     "metadata": {},
     "output_type": "execute_result"
    }
   ],
   "source": [
    "# sum of both should be less than 2 and greater than equal to 0\n",
    "arr1 + arr2 < 2"
   ]
  },
  {
   "cell_type": "code",
   "execution_count": 77,
   "id": "22e35194",
   "metadata": {},
   "outputs": [
    {
     "data": {
      "text/plain": [
       "array([10.46038811, 10.74101523, 10.51075091, 10.48943506, 10.02343996,\n",
       "       10.54728489, 10.20816782, 10.11161117, 10.13463965, 10.66189115])"
      ]
     },
     "execution_count": 77,
     "metadata": {},
     "output_type": "execute_result"
    }
   ],
   "source": [
    "10 - 11\n",
    "arr1 + 10 # translation"
   ]
  },
  {
   "cell_type": "code",
   "execution_count": 79,
   "id": "f063db9f",
   "metadata": {},
   "outputs": [
    {
     "data": {
      "text/plain": [
       "array([4.60388109, 7.41015233, 5.10750907, 4.89435057, 0.23439961,\n",
       "       5.47284891, 2.08167822, 1.11611168, 1.34639646, 6.61891147])"
      ]
     },
     "execution_count": 79,
     "metadata": {},
     "output_type": "execute_result"
    }
   ],
   "source": [
    "# arr1 + np.arange(10)\n",
    "# 0 - 10\n",
    "arr1 * 10  # scaling"
   ]
  },
  {
   "cell_type": "code",
   "execution_count": 86,
   "id": "022f6f44",
   "metadata": {},
   "outputs": [
    {
     "data": {
      "text/plain": [
       "array([14.60388109, 17.41015233, 15.10750907, 14.89435057, 10.23439961,\n",
       "       15.47284891, 12.08167822, 11.11611168, 11.34639646, 16.61891147])"
      ]
     },
     "execution_count": 86,
     "metadata": {},
     "output_type": "execute_result"
    }
   ],
   "source": [
    "# 10 - 20\n",
    "arr1 * 10 + 10"
   ]
  },
  {
   "cell_type": "code",
   "execution_count": 87,
   "id": "f2fc36af",
   "metadata": {},
   "outputs": [
    {
     "data": {
      "text/plain": [
       "array([100.46038811, 100.74101523, 100.51075091, 100.48943506,\n",
       "       100.02343996, 100.54728489, 100.20816782, 100.11161117,\n",
       "       100.13463965, 100.66189115])"
      ]
     },
     "execution_count": 87,
     "metadata": {},
     "output_type": "execute_result"
    }
   ],
   "source": [
    "# 100 - 101\n",
    "arr1 + 10 * 10"
   ]
  },
  {
   "cell_type": "code",
   "execution_count": 88,
   "id": "3c627e80",
   "metadata": {},
   "outputs": [
    {
     "data": {
      "text/plain": [
       "array([104.60388109, 107.41015233, 105.10750907, 104.89435057,\n",
       "       100.23439961, 105.47284891, 102.08167822, 101.11611168,\n",
       "       101.34639646, 106.61891147])"
      ]
     },
     "execution_count": 88,
     "metadata": {},
     "output_type": "execute_result"
    }
   ],
   "source": [
    "# 100 - 110\n",
    "(arr1 + 10) * 10"
   ]
  },
  {
   "cell_type": "code",
   "execution_count": 84,
   "id": "7736a2cf",
   "metadata": {},
   "outputs": [
    {
     "data": {
      "text/plain": [
       "80"
      ]
     },
     "execution_count": 84,
     "metadata": {},
     "output_type": "execute_result"
    }
   ],
   "source": [
    "np.random.randint(10,100)"
   ]
  },
  {
   "cell_type": "code",
   "execution_count": 92,
   "id": "e1dec758",
   "metadata": {},
   "outputs": [
    {
     "data": {
      "text/plain": [
       "array([94.60388109, 97.41015233, 95.10750907, 94.89435057, 90.23439961,\n",
       "       95.47284891, 92.08167822, 91.11611168, 91.34639646, 96.61891147])"
      ]
     },
     "execution_count": 92,
     "metadata": {},
     "output_type": "execute_result"
    }
   ],
   "source": [
    "# 90 - 100\n",
    "(arr1 + 10) * 10 - 10\n",
    "(arr1 + 10 - 1) * 10\n",
    "(arr1 + 9) * 10\n",
    "arr1 * 10 + 90"
   ]
  },
  {
   "cell_type": "code",
   "execution_count": 93,
   "id": "99096b1c",
   "metadata": {},
   "outputs": [
    {
     "data": {
      "text/plain": [
       "array([0.46038811, 0.74101523, 0.51075091, 0.48943506, 0.02343996,\n",
       "       0.54728489, 0.20816782, 0.11161117, 0.13463965, 0.66189115])"
      ]
     },
     "execution_count": 93,
     "metadata": {},
     "output_type": "execute_result"
    }
   ],
   "source": [
    "arr1"
   ]
  },
  {
   "cell_type": "code",
   "execution_count": 97,
   "id": "45d062ee",
   "metadata": {},
   "outputs": [
    {
     "data": {
      "text/plain": [
       "array([0.74101523, 0.51075091, 0.54728489, 0.66189115])"
      ]
     },
     "execution_count": 97,
     "metadata": {},
     "output_type": "execute_result"
    }
   ],
   "source": [
    "arr1[arr1>0.5]"
   ]
  },
  {
   "cell_type": "code",
   "execution_count": 99,
   "id": "0c1cebd0",
   "metadata": {},
   "outputs": [
    {
     "data": {
      "text/plain": [
       "array([0.02343996, 0.20816782, 0.11161117, 0.13463965])"
      ]
     },
     "execution_count": 99,
     "metadata": {},
     "output_type": "execute_result"
    }
   ],
   "source": [
    "# <.25, >.75\n",
    "arr1[(arr1<.25) | (arr1>.75)]"
   ]
  },
  {
   "cell_type": "code",
   "execution_count": 100,
   "id": "5911aa2e",
   "metadata": {},
   "outputs": [
    {
     "data": {
      "text/plain": [
       "array([0.46038811, 0.74101523, 0.51075091, 0.48943506, 0.02343996,\n",
       "       0.54728489, 0.20816782, 0.11161117, 0.13463965, 0.66189115])"
      ]
     },
     "execution_count": 100,
     "metadata": {},
     "output_type": "execute_result"
    }
   ],
   "source": [
    "arr1"
   ]
  },
  {
   "cell_type": "code",
   "execution_count": 101,
   "id": "f9872c7f",
   "metadata": {},
   "outputs": [
    {
     "data": {
      "text/plain": [
       "array([0.12123812, 0.90188818, 0.49364292, 0.71952715, 0.09964094,\n",
       "       0.20810696, 0.81520818, 0.67241248, 0.32823652, 0.82000311])"
      ]
     },
     "execution_count": 101,
     "metadata": {},
     "output_type": "execute_result"
    }
   ],
   "source": [
    "arr2"
   ]
  },
  {
   "cell_type": "code",
   "execution_count": 103,
   "id": "51666c79",
   "metadata": {},
   "outputs": [
    {
     "data": {
      "text/plain": [
       "array([0.46038811, 0.51075091, 0.54728489])"
      ]
     },
     "execution_count": 103,
     "metadata": {},
     "output_type": "execute_result"
    }
   ],
   "source": [
    "# all values in arr1 that are > corresponding values in arr2\n",
    "arr1[arr1 > arr2]\n"
   ]
  },
  {
   "cell_type": "code",
   "execution_count": 104,
   "id": "5c2c477f",
   "metadata": {},
   "outputs": [
    {
     "data": {
      "text/plain": [
       "array([0.12123812, 0.49364292, 0.20810696])"
      ]
     },
     "execution_count": 104,
     "metadata": {},
     "output_type": "execute_result"
    }
   ],
   "source": [
    "arr2[arr1 > arr2]"
   ]
  },
  {
   "cell_type": "code",
   "execution_count": null,
   "id": "175e85c5",
   "metadata": {},
   "outputs": [],
   "source": []
  },
  {
   "cell_type": "code",
   "execution_count": 105,
   "id": "24097690",
   "metadata": {},
   "outputs": [],
   "source": [
    "import pandas as pd"
   ]
  },
  {
   "cell_type": "code",
   "execution_count": 107,
   "id": "322b7b72",
   "metadata": {},
   "outputs": [
    {
     "data": {
      "text/html": [
       "<div>\n",
       "<style scoped>\n",
       "    .dataframe tbody tr th:only-of-type {\n",
       "        vertical-align: middle;\n",
       "    }\n",
       "\n",
       "    .dataframe tbody tr th {\n",
       "        vertical-align: top;\n",
       "    }\n",
       "\n",
       "    .dataframe thead th {\n",
       "        text-align: right;\n",
       "    }\n",
       "</style>\n",
       "<table border=\"1\" class=\"dataframe\">\n",
       "  <thead>\n",
       "    <tr style=\"text-align: right;\">\n",
       "      <th></th>\n",
       "      <th>total_bill</th>\n",
       "      <th>tip</th>\n",
       "      <th>sex</th>\n",
       "      <th>smoker</th>\n",
       "      <th>day</th>\n",
       "      <th>time</th>\n",
       "      <th>size</th>\n",
       "      <th>fraction</th>\n",
       "    </tr>\n",
       "  </thead>\n",
       "  <tbody>\n",
       "    <tr>\n",
       "      <th>0</th>\n",
       "      <td>16.99</td>\n",
       "      <td>1.01</td>\n",
       "      <td>Female</td>\n",
       "      <td>No</td>\n",
       "      <td>Sun</td>\n",
       "      <td>Dinner</td>\n",
       "      <td>2</td>\n",
       "      <td>0.059447</td>\n",
       "    </tr>\n",
       "    <tr>\n",
       "      <th>1</th>\n",
       "      <td>10.34</td>\n",
       "      <td>1.66</td>\n",
       "      <td>Male</td>\n",
       "      <td>No</td>\n",
       "      <td>Sun</td>\n",
       "      <td>Dinner</td>\n",
       "      <td>3</td>\n",
       "      <td>0.160542</td>\n",
       "    </tr>\n",
       "    <tr>\n",
       "      <th>2</th>\n",
       "      <td>21.01</td>\n",
       "      <td>3.50</td>\n",
       "      <td>Male</td>\n",
       "      <td>No</td>\n",
       "      <td>Sun</td>\n",
       "      <td>Dinner</td>\n",
       "      <td>3</td>\n",
       "      <td>0.166587</td>\n",
       "    </tr>\n",
       "    <tr>\n",
       "      <th>3</th>\n",
       "      <td>23.68</td>\n",
       "      <td>3.31</td>\n",
       "      <td>Male</td>\n",
       "      <td>No</td>\n",
       "      <td>Sun</td>\n",
       "      <td>Dinner</td>\n",
       "      <td>2</td>\n",
       "      <td>0.139780</td>\n",
       "    </tr>\n",
       "    <tr>\n",
       "      <th>4</th>\n",
       "      <td>24.59</td>\n",
       "      <td>3.61</td>\n",
       "      <td>Female</td>\n",
       "      <td>No</td>\n",
       "      <td>Sun</td>\n",
       "      <td>Dinner</td>\n",
       "      <td>4</td>\n",
       "      <td>0.146808</td>\n",
       "    </tr>\n",
       "    <tr>\n",
       "      <th>...</th>\n",
       "      <td>...</td>\n",
       "      <td>...</td>\n",
       "      <td>...</td>\n",
       "      <td>...</td>\n",
       "      <td>...</td>\n",
       "      <td>...</td>\n",
       "      <td>...</td>\n",
       "      <td>...</td>\n",
       "    </tr>\n",
       "    <tr>\n",
       "      <th>239</th>\n",
       "      <td>29.03</td>\n",
       "      <td>5.92</td>\n",
       "      <td>Male</td>\n",
       "      <td>No</td>\n",
       "      <td>Sat</td>\n",
       "      <td>Dinner</td>\n",
       "      <td>3</td>\n",
       "      <td>0.203927</td>\n",
       "    </tr>\n",
       "    <tr>\n",
       "      <th>240</th>\n",
       "      <td>27.18</td>\n",
       "      <td>2.00</td>\n",
       "      <td>Female</td>\n",
       "      <td>Yes</td>\n",
       "      <td>Sat</td>\n",
       "      <td>Dinner</td>\n",
       "      <td>2</td>\n",
       "      <td>0.073584</td>\n",
       "    </tr>\n",
       "    <tr>\n",
       "      <th>241</th>\n",
       "      <td>22.67</td>\n",
       "      <td>2.00</td>\n",
       "      <td>Male</td>\n",
       "      <td>Yes</td>\n",
       "      <td>Sat</td>\n",
       "      <td>Dinner</td>\n",
       "      <td>2</td>\n",
       "      <td>0.088222</td>\n",
       "    </tr>\n",
       "    <tr>\n",
       "      <th>242</th>\n",
       "      <td>17.82</td>\n",
       "      <td>1.75</td>\n",
       "      <td>Male</td>\n",
       "      <td>No</td>\n",
       "      <td>Sat</td>\n",
       "      <td>Dinner</td>\n",
       "      <td>2</td>\n",
       "      <td>0.098204</td>\n",
       "    </tr>\n",
       "    <tr>\n",
       "      <th>243</th>\n",
       "      <td>18.78</td>\n",
       "      <td>3.00</td>\n",
       "      <td>Female</td>\n",
       "      <td>No</td>\n",
       "      <td>Thur</td>\n",
       "      <td>Dinner</td>\n",
       "      <td>2</td>\n",
       "      <td>0.159744</td>\n",
       "    </tr>\n",
       "  </tbody>\n",
       "</table>\n",
       "<p>244 rows × 8 columns</p>\n",
       "</div>"
      ],
      "text/plain": [
       "     total_bill   tip     sex smoker   day    time  size  fraction\n",
       "0         16.99  1.01  Female     No   Sun  Dinner     2  0.059447\n",
       "1         10.34  1.66    Male     No   Sun  Dinner     3  0.160542\n",
       "2         21.01  3.50    Male     No   Sun  Dinner     3  0.166587\n",
       "3         23.68  3.31    Male     No   Sun  Dinner     2  0.139780\n",
       "4         24.59  3.61  Female     No   Sun  Dinner     4  0.146808\n",
       "..          ...   ...     ...    ...   ...     ...   ...       ...\n",
       "239       29.03  5.92    Male     No   Sat  Dinner     3  0.203927\n",
       "240       27.18  2.00  Female    Yes   Sat  Dinner     2  0.073584\n",
       "241       22.67  2.00    Male    Yes   Sat  Dinner     2  0.088222\n",
       "242       17.82  1.75    Male     No   Sat  Dinner     2  0.098204\n",
       "243       18.78  3.00  Female     No  Thur  Dinner     2  0.159744\n",
       "\n",
       "[244 rows x 8 columns]"
      ]
     },
     "execution_count": 107,
     "metadata": {},
     "output_type": "execute_result"
    }
   ],
   "source": [
    "tips = pd.read_csv('data/tips.csv')\n",
    "tips"
   ]
  },
  {
   "cell_type": "code",
   "execution_count": 108,
   "id": "2407ff40",
   "metadata": {},
   "outputs": [
    {
     "data": {
      "text/plain": [
       "pandas.core.frame.DataFrame"
      ]
     },
     "execution_count": 108,
     "metadata": {},
     "output_type": "execute_result"
    }
   ],
   "source": [
    "type(tips)"
   ]
  },
  {
   "cell_type": "code",
   "execution_count": 109,
   "id": "496017b9",
   "metadata": {},
   "outputs": [
    {
     "data": {
      "text/plain": [
       "(244, 8)"
      ]
     },
     "execution_count": 109,
     "metadata": {},
     "output_type": "execute_result"
    }
   ],
   "source": [
    "tips.shape"
   ]
  },
  {
   "cell_type": "code",
   "execution_count": 110,
   "id": "c00b51ec",
   "metadata": {},
   "outputs": [
    {
     "data": {
      "text/plain": [
       "244"
      ]
     },
     "execution_count": 110,
     "metadata": {},
     "output_type": "execute_result"
    }
   ],
   "source": [
    "len(tips)"
   ]
  },
  {
   "cell_type": "code",
   "execution_count": 111,
   "id": "363e59d0",
   "metadata": {},
   "outputs": [
    {
     "data": {
      "text/plain": [
       "0      16.99\n",
       "1      10.34\n",
       "2      21.01\n",
       "3      23.68\n",
       "4      24.59\n",
       "       ...  \n",
       "239    29.03\n",
       "240    27.18\n",
       "241    22.67\n",
       "242    17.82\n",
       "243    18.78\n",
       "Name: total_bill, Length: 244, dtype: float64"
      ]
     },
     "execution_count": 111,
     "metadata": {},
     "output_type": "execute_result"
    }
   ],
   "source": [
    "tips['total_bill']"
   ]
  },
  {
   "cell_type": "code",
   "execution_count": 112,
   "id": "1c282dc4",
   "metadata": {},
   "outputs": [
    {
     "data": {
      "text/plain": [
       "pandas.core.series.Series"
      ]
     },
     "execution_count": 112,
     "metadata": {},
     "output_type": "execute_result"
    }
   ],
   "source": [
    "type(tips['total_bill'])"
   ]
  },
  {
   "cell_type": "code",
   "execution_count": 113,
   "id": "130998ff",
   "metadata": {},
   "outputs": [
    {
     "data": {
      "text/plain": [
       "0      1.01\n",
       "1      1.66\n",
       "2      3.50\n",
       "3      3.31\n",
       "4      3.61\n",
       "       ... \n",
       "239    5.92\n",
       "240    2.00\n",
       "241    2.00\n",
       "242    1.75\n",
       "243    3.00\n",
       "Name: tip, Length: 244, dtype: float64"
      ]
     },
     "execution_count": 113,
     "metadata": {},
     "output_type": "execute_result"
    }
   ],
   "source": [
    "# attribute access syntax\n",
    "tips.tip"
   ]
  },
  {
   "cell_type": "code",
   "execution_count": 114,
   "id": "009c272d",
   "metadata": {},
   "outputs": [
    {
     "data": {
      "text/html": [
       "<div>\n",
       "<style scoped>\n",
       "    .dataframe tbody tr th:only-of-type {\n",
       "        vertical-align: middle;\n",
       "    }\n",
       "\n",
       "    .dataframe tbody tr th {\n",
       "        vertical-align: top;\n",
       "    }\n",
       "\n",
       "    .dataframe thead th {\n",
       "        text-align: right;\n",
       "    }\n",
       "</style>\n",
       "<table border=\"1\" class=\"dataframe\">\n",
       "  <thead>\n",
       "    <tr style=\"text-align: right;\">\n",
       "      <th></th>\n",
       "      <th>total_bill</th>\n",
       "      <th>tip</th>\n",
       "      <th>sex</th>\n",
       "      <th>smoker</th>\n",
       "      <th>day</th>\n",
       "      <th>time</th>\n",
       "      <th>size</th>\n",
       "      <th>fraction</th>\n",
       "    </tr>\n",
       "  </thead>\n",
       "  <tbody>\n",
       "    <tr>\n",
       "      <th>0</th>\n",
       "      <td>16.99</td>\n",
       "      <td>1.01</td>\n",
       "      <td>Female</td>\n",
       "      <td>No</td>\n",
       "      <td>Sun</td>\n",
       "      <td>Dinner</td>\n",
       "      <td>2</td>\n",
       "      <td>0.059447</td>\n",
       "    </tr>\n",
       "    <tr>\n",
       "      <th>1</th>\n",
       "      <td>10.34</td>\n",
       "      <td>1.66</td>\n",
       "      <td>Male</td>\n",
       "      <td>No</td>\n",
       "      <td>Sun</td>\n",
       "      <td>Dinner</td>\n",
       "      <td>3</td>\n",
       "      <td>0.160542</td>\n",
       "    </tr>\n",
       "    <tr>\n",
       "      <th>2</th>\n",
       "      <td>21.01</td>\n",
       "      <td>3.50</td>\n",
       "      <td>Male</td>\n",
       "      <td>No</td>\n",
       "      <td>Sun</td>\n",
       "      <td>Dinner</td>\n",
       "      <td>3</td>\n",
       "      <td>0.166587</td>\n",
       "    </tr>\n",
       "    <tr>\n",
       "      <th>3</th>\n",
       "      <td>23.68</td>\n",
       "      <td>3.31</td>\n",
       "      <td>Male</td>\n",
       "      <td>No</td>\n",
       "      <td>Sun</td>\n",
       "      <td>Dinner</td>\n",
       "      <td>2</td>\n",
       "      <td>0.139780</td>\n",
       "    </tr>\n",
       "    <tr>\n",
       "      <th>4</th>\n",
       "      <td>24.59</td>\n",
       "      <td>3.61</td>\n",
       "      <td>Female</td>\n",
       "      <td>No</td>\n",
       "      <td>Sun</td>\n",
       "      <td>Dinner</td>\n",
       "      <td>4</td>\n",
       "      <td>0.146808</td>\n",
       "    </tr>\n",
       "    <tr>\n",
       "      <th>...</th>\n",
       "      <td>...</td>\n",
       "      <td>...</td>\n",
       "      <td>...</td>\n",
       "      <td>...</td>\n",
       "      <td>...</td>\n",
       "      <td>...</td>\n",
       "      <td>...</td>\n",
       "      <td>...</td>\n",
       "    </tr>\n",
       "    <tr>\n",
       "      <th>239</th>\n",
       "      <td>29.03</td>\n",
       "      <td>5.92</td>\n",
       "      <td>Male</td>\n",
       "      <td>No</td>\n",
       "      <td>Sat</td>\n",
       "      <td>Dinner</td>\n",
       "      <td>3</td>\n",
       "      <td>0.203927</td>\n",
       "    </tr>\n",
       "    <tr>\n",
       "      <th>240</th>\n",
       "      <td>27.18</td>\n",
       "      <td>2.00</td>\n",
       "      <td>Female</td>\n",
       "      <td>Yes</td>\n",
       "      <td>Sat</td>\n",
       "      <td>Dinner</td>\n",
       "      <td>2</td>\n",
       "      <td>0.073584</td>\n",
       "    </tr>\n",
       "    <tr>\n",
       "      <th>241</th>\n",
       "      <td>22.67</td>\n",
       "      <td>2.00</td>\n",
       "      <td>Male</td>\n",
       "      <td>Yes</td>\n",
       "      <td>Sat</td>\n",
       "      <td>Dinner</td>\n",
       "      <td>2</td>\n",
       "      <td>0.088222</td>\n",
       "    </tr>\n",
       "    <tr>\n",
       "      <th>242</th>\n",
       "      <td>17.82</td>\n",
       "      <td>1.75</td>\n",
       "      <td>Male</td>\n",
       "      <td>No</td>\n",
       "      <td>Sat</td>\n",
       "      <td>Dinner</td>\n",
       "      <td>2</td>\n",
       "      <td>0.098204</td>\n",
       "    </tr>\n",
       "    <tr>\n",
       "      <th>243</th>\n",
       "      <td>18.78</td>\n",
       "      <td>3.00</td>\n",
       "      <td>Female</td>\n",
       "      <td>No</td>\n",
       "      <td>Thur</td>\n",
       "      <td>Dinner</td>\n",
       "      <td>2</td>\n",
       "      <td>0.159744</td>\n",
       "    </tr>\n",
       "  </tbody>\n",
       "</table>\n",
       "<p>244 rows × 8 columns</p>\n",
       "</div>"
      ],
      "text/plain": [
       "     total_bill   tip     sex smoker   day    time  size  fraction\n",
       "0         16.99  1.01  Female     No   Sun  Dinner     2  0.059447\n",
       "1         10.34  1.66    Male     No   Sun  Dinner     3  0.160542\n",
       "2         21.01  3.50    Male     No   Sun  Dinner     3  0.166587\n",
       "3         23.68  3.31    Male     No   Sun  Dinner     2  0.139780\n",
       "4         24.59  3.61  Female     No   Sun  Dinner     4  0.146808\n",
       "..          ...   ...     ...    ...   ...     ...   ...       ...\n",
       "239       29.03  5.92    Male     No   Sat  Dinner     3  0.203927\n",
       "240       27.18  2.00  Female    Yes   Sat  Dinner     2  0.073584\n",
       "241       22.67  2.00    Male    Yes   Sat  Dinner     2  0.088222\n",
       "242       17.82  1.75    Male     No   Sat  Dinner     2  0.098204\n",
       "243       18.78  3.00  Female     No  Thur  Dinner     2  0.159744\n",
       "\n",
       "[244 rows x 8 columns]"
      ]
     },
     "execution_count": 114,
     "metadata": {},
     "output_type": "execute_result"
    }
   ],
   "source": [
    "tips"
   ]
  },
  {
   "cell_type": "code",
   "execution_count": 115,
   "id": "c286fb77",
   "metadata": {},
   "outputs": [
    {
     "data": {
      "text/html": [
       "<div>\n",
       "<style scoped>\n",
       "    .dataframe tbody tr th:only-of-type {\n",
       "        vertical-align: middle;\n",
       "    }\n",
       "\n",
       "    .dataframe tbody tr th {\n",
       "        vertical-align: top;\n",
       "    }\n",
       "\n",
       "    .dataframe thead th {\n",
       "        text-align: right;\n",
       "    }\n",
       "</style>\n",
       "<table border=\"1\" class=\"dataframe\">\n",
       "  <thead>\n",
       "    <tr style=\"text-align: right;\">\n",
       "      <th></th>\n",
       "      <th>total_bill</th>\n",
       "      <th>tip</th>\n",
       "      <th>sex</th>\n",
       "      <th>smoker</th>\n",
       "      <th>day</th>\n",
       "      <th>time</th>\n",
       "      <th>size</th>\n",
       "      <th>fraction</th>\n",
       "    </tr>\n",
       "  </thead>\n",
       "  <tbody>\n",
       "    <tr>\n",
       "      <th>0</th>\n",
       "      <td>16.99</td>\n",
       "      <td>1.01</td>\n",
       "      <td>Female</td>\n",
       "      <td>No</td>\n",
       "      <td>Sun</td>\n",
       "      <td>Dinner</td>\n",
       "      <td>2</td>\n",
       "      <td>0.059447</td>\n",
       "    </tr>\n",
       "    <tr>\n",
       "      <th>1</th>\n",
       "      <td>10.34</td>\n",
       "      <td>1.66</td>\n",
       "      <td>Male</td>\n",
       "      <td>No</td>\n",
       "      <td>Sun</td>\n",
       "      <td>Dinner</td>\n",
       "      <td>3</td>\n",
       "      <td>0.160542</td>\n",
       "    </tr>\n",
       "    <tr>\n",
       "      <th>2</th>\n",
       "      <td>21.01</td>\n",
       "      <td>3.50</td>\n",
       "      <td>Male</td>\n",
       "      <td>No</td>\n",
       "      <td>Sun</td>\n",
       "      <td>Dinner</td>\n",
       "      <td>3</td>\n",
       "      <td>0.166587</td>\n",
       "    </tr>\n",
       "    <tr>\n",
       "      <th>3</th>\n",
       "      <td>23.68</td>\n",
       "      <td>3.31</td>\n",
       "      <td>Male</td>\n",
       "      <td>No</td>\n",
       "      <td>Sun</td>\n",
       "      <td>Dinner</td>\n",
       "      <td>2</td>\n",
       "      <td>0.139780</td>\n",
       "    </tr>\n",
       "    <tr>\n",
       "      <th>4</th>\n",
       "      <td>24.59</td>\n",
       "      <td>3.61</td>\n",
       "      <td>Female</td>\n",
       "      <td>No</td>\n",
       "      <td>Sun</td>\n",
       "      <td>Dinner</td>\n",
       "      <td>4</td>\n",
       "      <td>0.146808</td>\n",
       "    </tr>\n",
       "    <tr>\n",
       "      <th>5</th>\n",
       "      <td>25.29</td>\n",
       "      <td>4.71</td>\n",
       "      <td>Male</td>\n",
       "      <td>No</td>\n",
       "      <td>Sun</td>\n",
       "      <td>Dinner</td>\n",
       "      <td>4</td>\n",
       "      <td>0.186240</td>\n",
       "    </tr>\n",
       "    <tr>\n",
       "      <th>6</th>\n",
       "      <td>8.77</td>\n",
       "      <td>2.00</td>\n",
       "      <td>Male</td>\n",
       "      <td>No</td>\n",
       "      <td>Sun</td>\n",
       "      <td>Dinner</td>\n",
       "      <td>2</td>\n",
       "      <td>0.228050</td>\n",
       "    </tr>\n",
       "    <tr>\n",
       "      <th>7</th>\n",
       "      <td>26.88</td>\n",
       "      <td>3.12</td>\n",
       "      <td>Male</td>\n",
       "      <td>No</td>\n",
       "      <td>Sun</td>\n",
       "      <td>Dinner</td>\n",
       "      <td>4</td>\n",
       "      <td>0.116071</td>\n",
       "    </tr>\n",
       "    <tr>\n",
       "      <th>8</th>\n",
       "      <td>15.04</td>\n",
       "      <td>1.96</td>\n",
       "      <td>Male</td>\n",
       "      <td>No</td>\n",
       "      <td>Sun</td>\n",
       "      <td>Dinner</td>\n",
       "      <td>2</td>\n",
       "      <td>0.130319</td>\n",
       "    </tr>\n",
       "    <tr>\n",
       "      <th>9</th>\n",
       "      <td>14.78</td>\n",
       "      <td>3.23</td>\n",
       "      <td>Male</td>\n",
       "      <td>No</td>\n",
       "      <td>Sun</td>\n",
       "      <td>Dinner</td>\n",
       "      <td>2</td>\n",
       "      <td>0.218539</td>\n",
       "    </tr>\n",
       "  </tbody>\n",
       "</table>\n",
       "</div>"
      ],
      "text/plain": [
       "   total_bill   tip     sex smoker  day    time  size  fraction\n",
       "0       16.99  1.01  Female     No  Sun  Dinner     2  0.059447\n",
       "1       10.34  1.66    Male     No  Sun  Dinner     3  0.160542\n",
       "2       21.01  3.50    Male     No  Sun  Dinner     3  0.166587\n",
       "3       23.68  3.31    Male     No  Sun  Dinner     2  0.139780\n",
       "4       24.59  3.61  Female     No  Sun  Dinner     4  0.146808\n",
       "5       25.29  4.71    Male     No  Sun  Dinner     4  0.186240\n",
       "6        8.77  2.00    Male     No  Sun  Dinner     2  0.228050\n",
       "7       26.88  3.12    Male     No  Sun  Dinner     4  0.116071\n",
       "8       15.04  1.96    Male     No  Sun  Dinner     2  0.130319\n",
       "9       14.78  3.23    Male     No  Sun  Dinner     2  0.218539"
      ]
     },
     "execution_count": 115,
     "metadata": {},
     "output_type": "execute_result"
    }
   ],
   "source": [
    "tips.head(10)"
   ]
  },
  {
   "cell_type": "code",
   "execution_count": 116,
   "id": "d023aa4c",
   "metadata": {},
   "outputs": [
    {
     "data": {
      "text/html": [
       "<div>\n",
       "<style scoped>\n",
       "    .dataframe tbody tr th:only-of-type {\n",
       "        vertical-align: middle;\n",
       "    }\n",
       "\n",
       "    .dataframe tbody tr th {\n",
       "        vertical-align: top;\n",
       "    }\n",
       "\n",
       "    .dataframe thead th {\n",
       "        text-align: right;\n",
       "    }\n",
       "</style>\n",
       "<table border=\"1\" class=\"dataframe\">\n",
       "  <thead>\n",
       "    <tr style=\"text-align: right;\">\n",
       "      <th></th>\n",
       "      <th>total_bill</th>\n",
       "      <th>tip</th>\n",
       "      <th>sex</th>\n",
       "      <th>smoker</th>\n",
       "      <th>day</th>\n",
       "      <th>time</th>\n",
       "      <th>size</th>\n",
       "      <th>fraction</th>\n",
       "    </tr>\n",
       "  </thead>\n",
       "  <tbody>\n",
       "    <tr>\n",
       "      <th>243</th>\n",
       "      <td>18.78</td>\n",
       "      <td>3.0</td>\n",
       "      <td>Female</td>\n",
       "      <td>No</td>\n",
       "      <td>Thur</td>\n",
       "      <td>Dinner</td>\n",
       "      <td>2</td>\n",
       "      <td>0.159744</td>\n",
       "    </tr>\n",
       "  </tbody>\n",
       "</table>\n",
       "</div>"
      ],
      "text/plain": [
       "     total_bill  tip     sex smoker   day    time  size  fraction\n",
       "243       18.78  3.0  Female     No  Thur  Dinner     2  0.159744"
      ]
     },
     "execution_count": 116,
     "metadata": {},
     "output_type": "execute_result"
    }
   ],
   "source": [
    "tips.tail(1)"
   ]
  },
  {
   "cell_type": "code",
   "execution_count": 117,
   "id": "af652d58",
   "metadata": {},
   "outputs": [
    {
     "data": {
      "text/html": [
       "<div>\n",
       "<style scoped>\n",
       "    .dataframe tbody tr th:only-of-type {\n",
       "        vertical-align: middle;\n",
       "    }\n",
       "\n",
       "    .dataframe tbody tr th {\n",
       "        vertical-align: top;\n",
       "    }\n",
       "\n",
       "    .dataframe thead th {\n",
       "        text-align: right;\n",
       "    }\n",
       "</style>\n",
       "<table border=\"1\" class=\"dataframe\">\n",
       "  <thead>\n",
       "    <tr style=\"text-align: right;\">\n",
       "      <th></th>\n",
       "      <th>total_bill</th>\n",
       "      <th>tip</th>\n",
       "      <th>sex</th>\n",
       "      <th>smoker</th>\n",
       "      <th>day</th>\n",
       "      <th>time</th>\n",
       "      <th>size</th>\n",
       "      <th>fraction</th>\n",
       "    </tr>\n",
       "  </thead>\n",
       "  <tbody>\n",
       "    <tr>\n",
       "      <th>37</th>\n",
       "      <td>16.93</td>\n",
       "      <td>3.07</td>\n",
       "      <td>Female</td>\n",
       "      <td>No</td>\n",
       "      <td>Sat</td>\n",
       "      <td>Dinner</td>\n",
       "      <td>3</td>\n",
       "      <td>0.181335</td>\n",
       "    </tr>\n",
       "    <tr>\n",
       "      <th>143</th>\n",
       "      <td>27.05</td>\n",
       "      <td>5.00</td>\n",
       "      <td>Female</td>\n",
       "      <td>No</td>\n",
       "      <td>Thur</td>\n",
       "      <td>Lunch</td>\n",
       "      <td>6</td>\n",
       "      <td>0.184843</td>\n",
       "    </tr>\n",
       "    <tr>\n",
       "      <th>137</th>\n",
       "      <td>14.15</td>\n",
       "      <td>2.00</td>\n",
       "      <td>Female</td>\n",
       "      <td>No</td>\n",
       "      <td>Thur</td>\n",
       "      <td>Lunch</td>\n",
       "      <td>2</td>\n",
       "      <td>0.141343</td>\n",
       "    </tr>\n",
       "    <tr>\n",
       "      <th>201</th>\n",
       "      <td>12.74</td>\n",
       "      <td>2.01</td>\n",
       "      <td>Female</td>\n",
       "      <td>Yes</td>\n",
       "      <td>Thur</td>\n",
       "      <td>Lunch</td>\n",
       "      <td>2</td>\n",
       "      <td>0.157771</td>\n",
       "    </tr>\n",
       "    <tr>\n",
       "      <th>130</th>\n",
       "      <td>19.08</td>\n",
       "      <td>1.50</td>\n",
       "      <td>Male</td>\n",
       "      <td>No</td>\n",
       "      <td>Thur</td>\n",
       "      <td>Lunch</td>\n",
       "      <td>2</td>\n",
       "      <td>0.078616</td>\n",
       "    </tr>\n",
       "  </tbody>\n",
       "</table>\n",
       "</div>"
      ],
      "text/plain": [
       "     total_bill   tip     sex smoker   day    time  size  fraction\n",
       "37        16.93  3.07  Female     No   Sat  Dinner     3  0.181335\n",
       "143       27.05  5.00  Female     No  Thur   Lunch     6  0.184843\n",
       "137       14.15  2.00  Female     No  Thur   Lunch     2  0.141343\n",
       "201       12.74  2.01  Female    Yes  Thur   Lunch     2  0.157771\n",
       "130       19.08  1.50    Male     No  Thur   Lunch     2  0.078616"
      ]
     },
     "execution_count": 117,
     "metadata": {},
     "output_type": "execute_result"
    }
   ],
   "source": [
    "tips.sample(5)"
   ]
  },
  {
   "cell_type": "code",
   "execution_count": 121,
   "id": "59acdd4c",
   "metadata": {},
   "outputs": [
    {
     "data": {
      "text/plain": [
       "0      11.01\n",
       "1      11.66\n",
       "2      13.50\n",
       "3      13.31\n",
       "4      13.61\n",
       "       ...  \n",
       "239    15.92\n",
       "240    12.00\n",
       "241    12.00\n",
       "242    11.75\n",
       "243    13.00\n",
       "Name: tip, Length: 244, dtype: float64"
      ]
     },
     "execution_count": 121,
     "metadata": {},
     "output_type": "execute_result"
    }
   ],
   "source": [
    "tips.tip + 10"
   ]
  },
  {
   "cell_type": "code",
   "execution_count": 123,
   "id": "82af0dd2",
   "metadata": {},
   "outputs": [
    {
     "data": {
      "text/plain": [
       "2      3.50\n",
       "3      3.31\n",
       "4      3.61\n",
       "5      4.71\n",
       "7      3.12\n",
       "       ... \n",
       "232    3.39\n",
       "234    3.00\n",
       "238    4.67\n",
       "239    5.92\n",
       "243    3.00\n",
       "Name: tip, Length: 166, dtype: float64"
      ]
     },
     "execution_count": 123,
     "metadata": {},
     "output_type": "execute_result"
    }
   ],
   "source": [
    "tips.tip[tips.tip > 2]"
   ]
  },
  {
   "cell_type": "code",
   "execution_count": 124,
   "id": "324d9be1",
   "metadata": {},
   "outputs": [
    {
     "data": {
      "text/html": [
       "<div>\n",
       "<style scoped>\n",
       "    .dataframe tbody tr th:only-of-type {\n",
       "        vertical-align: middle;\n",
       "    }\n",
       "\n",
       "    .dataframe tbody tr th {\n",
       "        vertical-align: top;\n",
       "    }\n",
       "\n",
       "    .dataframe thead th {\n",
       "        text-align: right;\n",
       "    }\n",
       "</style>\n",
       "<table border=\"1\" class=\"dataframe\">\n",
       "  <thead>\n",
       "    <tr style=\"text-align: right;\">\n",
       "      <th></th>\n",
       "      <th>total_bill</th>\n",
       "      <th>tip</th>\n",
       "      <th>sex</th>\n",
       "      <th>smoker</th>\n",
       "      <th>day</th>\n",
       "      <th>time</th>\n",
       "      <th>size</th>\n",
       "      <th>fraction</th>\n",
       "    </tr>\n",
       "  </thead>\n",
       "  <tbody>\n",
       "    <tr>\n",
       "      <th>2</th>\n",
       "      <td>21.01</td>\n",
       "      <td>3.50</td>\n",
       "      <td>Male</td>\n",
       "      <td>No</td>\n",
       "      <td>Sun</td>\n",
       "      <td>Dinner</td>\n",
       "      <td>3</td>\n",
       "      <td>0.166587</td>\n",
       "    </tr>\n",
       "    <tr>\n",
       "      <th>3</th>\n",
       "      <td>23.68</td>\n",
       "      <td>3.31</td>\n",
       "      <td>Male</td>\n",
       "      <td>No</td>\n",
       "      <td>Sun</td>\n",
       "      <td>Dinner</td>\n",
       "      <td>2</td>\n",
       "      <td>0.139780</td>\n",
       "    </tr>\n",
       "    <tr>\n",
       "      <th>4</th>\n",
       "      <td>24.59</td>\n",
       "      <td>3.61</td>\n",
       "      <td>Female</td>\n",
       "      <td>No</td>\n",
       "      <td>Sun</td>\n",
       "      <td>Dinner</td>\n",
       "      <td>4</td>\n",
       "      <td>0.146808</td>\n",
       "    </tr>\n",
       "    <tr>\n",
       "      <th>5</th>\n",
       "      <td>25.29</td>\n",
       "      <td>4.71</td>\n",
       "      <td>Male</td>\n",
       "      <td>No</td>\n",
       "      <td>Sun</td>\n",
       "      <td>Dinner</td>\n",
       "      <td>4</td>\n",
       "      <td>0.186240</td>\n",
       "    </tr>\n",
       "    <tr>\n",
       "      <th>7</th>\n",
       "      <td>26.88</td>\n",
       "      <td>3.12</td>\n",
       "      <td>Male</td>\n",
       "      <td>No</td>\n",
       "      <td>Sun</td>\n",
       "      <td>Dinner</td>\n",
       "      <td>4</td>\n",
       "      <td>0.116071</td>\n",
       "    </tr>\n",
       "    <tr>\n",
       "      <th>...</th>\n",
       "      <td>...</td>\n",
       "      <td>...</td>\n",
       "      <td>...</td>\n",
       "      <td>...</td>\n",
       "      <td>...</td>\n",
       "      <td>...</td>\n",
       "      <td>...</td>\n",
       "      <td>...</td>\n",
       "    </tr>\n",
       "    <tr>\n",
       "      <th>232</th>\n",
       "      <td>11.61</td>\n",
       "      <td>3.39</td>\n",
       "      <td>Male</td>\n",
       "      <td>No</td>\n",
       "      <td>Sat</td>\n",
       "      <td>Dinner</td>\n",
       "      <td>2</td>\n",
       "      <td>0.291990</td>\n",
       "    </tr>\n",
       "    <tr>\n",
       "      <th>234</th>\n",
       "      <td>15.53</td>\n",
       "      <td>3.00</td>\n",
       "      <td>Male</td>\n",
       "      <td>Yes</td>\n",
       "      <td>Sat</td>\n",
       "      <td>Dinner</td>\n",
       "      <td>2</td>\n",
       "      <td>0.193175</td>\n",
       "    </tr>\n",
       "    <tr>\n",
       "      <th>238</th>\n",
       "      <td>35.83</td>\n",
       "      <td>4.67</td>\n",
       "      <td>Female</td>\n",
       "      <td>No</td>\n",
       "      <td>Sat</td>\n",
       "      <td>Dinner</td>\n",
       "      <td>3</td>\n",
       "      <td>0.130338</td>\n",
       "    </tr>\n",
       "    <tr>\n",
       "      <th>239</th>\n",
       "      <td>29.03</td>\n",
       "      <td>5.92</td>\n",
       "      <td>Male</td>\n",
       "      <td>No</td>\n",
       "      <td>Sat</td>\n",
       "      <td>Dinner</td>\n",
       "      <td>3</td>\n",
       "      <td>0.203927</td>\n",
       "    </tr>\n",
       "    <tr>\n",
       "      <th>243</th>\n",
       "      <td>18.78</td>\n",
       "      <td>3.00</td>\n",
       "      <td>Female</td>\n",
       "      <td>No</td>\n",
       "      <td>Thur</td>\n",
       "      <td>Dinner</td>\n",
       "      <td>2</td>\n",
       "      <td>0.159744</td>\n",
       "    </tr>\n",
       "  </tbody>\n",
       "</table>\n",
       "<p>166 rows × 8 columns</p>\n",
       "</div>"
      ],
      "text/plain": [
       "     total_bill   tip     sex smoker   day    time  size  fraction\n",
       "2         21.01  3.50    Male     No   Sun  Dinner     3  0.166587\n",
       "3         23.68  3.31    Male     No   Sun  Dinner     2  0.139780\n",
       "4         24.59  3.61  Female     No   Sun  Dinner     4  0.146808\n",
       "5         25.29  4.71    Male     No   Sun  Dinner     4  0.186240\n",
       "7         26.88  3.12    Male     No   Sun  Dinner     4  0.116071\n",
       "..          ...   ...     ...    ...   ...     ...   ...       ...\n",
       "232       11.61  3.39    Male     No   Sat  Dinner     2  0.291990\n",
       "234       15.53  3.00    Male    Yes   Sat  Dinner     2  0.193175\n",
       "238       35.83  4.67  Female     No   Sat  Dinner     3  0.130338\n",
       "239       29.03  5.92    Male     No   Sat  Dinner     3  0.203927\n",
       "243       18.78  3.00  Female     No  Thur  Dinner     2  0.159744\n",
       "\n",
       "[166 rows x 8 columns]"
      ]
     },
     "execution_count": 124,
     "metadata": {},
     "output_type": "execute_result"
    }
   ],
   "source": [
    "tips[tips.tip > 2]"
   ]
  },
  {
   "cell_type": "code",
   "execution_count": 127,
   "id": "ba505fdd",
   "metadata": {},
   "outputs": [
    {
     "data": {
      "text/plain": [
       "29"
      ]
     },
     "execution_count": 127,
     "metadata": {},
     "output_type": "execute_result"
    }
   ],
   "source": [
    "len(tips[(tips.tip > 2) & (tips.total_bill > 30)])"
   ]
  },
  {
   "cell_type": "code",
   "execution_count": 130,
   "id": "17a387ae",
   "metadata": {},
   "outputs": [
    {
     "data": {
      "text/plain": [
       "52"
      ]
     },
     "execution_count": 130,
     "metadata": {},
     "output_type": "execute_result"
    }
   ],
   "source": [
    "len(tips[(tips.sex == 'Female') & (tips.time == 'Dinner')])"
   ]
  },
  {
   "cell_type": "code",
   "execution_count": 132,
   "id": "52343c9a",
   "metadata": {},
   "outputs": [],
   "source": [
    "female = tips.sex == 'Female'\n",
    "dinner = tips.time == 'Dinner'\n",
    "tipgt2 = tips.tip > 2\n",
    "tbgt30 = tips.total_bill > 30"
   ]
  },
  {
   "cell_type": "code",
   "execution_count": 133,
   "id": "f3277e1a",
   "metadata": {},
   "outputs": [
    {
     "data": {
      "text/plain": [
       "5"
      ]
     },
     "execution_count": 133,
     "metadata": {},
     "output_type": "execute_result"
    }
   ],
   "source": [
    "len(tips[female & dinner & tipgt2 & tbgt30])"
   ]
  },
  {
   "cell_type": "code",
   "execution_count": 135,
   "id": "1b54453a",
   "metadata": {},
   "outputs": [
    {
     "data": {
      "text/html": [
       "<div>\n",
       "<style scoped>\n",
       "    .dataframe tbody tr th:only-of-type {\n",
       "        vertical-align: middle;\n",
       "    }\n",
       "\n",
       "    .dataframe tbody tr th {\n",
       "        vertical-align: top;\n",
       "    }\n",
       "\n",
       "    .dataframe thead th {\n",
       "        text-align: right;\n",
       "    }\n",
       "</style>\n",
       "<table border=\"1\" class=\"dataframe\">\n",
       "  <thead>\n",
       "    <tr style=\"text-align: right;\">\n",
       "      <th></th>\n",
       "      <th>total_bill</th>\n",
       "      <th>tip</th>\n",
       "      <th>sex</th>\n",
       "      <th>smoker</th>\n",
       "      <th>day</th>\n",
       "      <th>time</th>\n",
       "      <th>size</th>\n",
       "      <th>fraction</th>\n",
       "    </tr>\n",
       "  </thead>\n",
       "  <tbody>\n",
       "    <tr>\n",
       "      <th>170</th>\n",
       "      <td>50.81</td>\n",
       "      <td>10.00</td>\n",
       "      <td>Male</td>\n",
       "      <td>Yes</td>\n",
       "      <td>Sat</td>\n",
       "      <td>Dinner</td>\n",
       "      <td>3</td>\n",
       "      <td>0.196812</td>\n",
       "    </tr>\n",
       "    <tr>\n",
       "      <th>212</th>\n",
       "      <td>48.33</td>\n",
       "      <td>9.00</td>\n",
       "      <td>Male</td>\n",
       "      <td>No</td>\n",
       "      <td>Sat</td>\n",
       "      <td>Dinner</td>\n",
       "      <td>4</td>\n",
       "      <td>0.186220</td>\n",
       "    </tr>\n",
       "    <tr>\n",
       "      <th>23</th>\n",
       "      <td>39.42</td>\n",
       "      <td>7.58</td>\n",
       "      <td>Male</td>\n",
       "      <td>No</td>\n",
       "      <td>Sat</td>\n",
       "      <td>Dinner</td>\n",
       "      <td>4</td>\n",
       "      <td>0.192288</td>\n",
       "    </tr>\n",
       "    <tr>\n",
       "      <th>59</th>\n",
       "      <td>48.27</td>\n",
       "      <td>6.73</td>\n",
       "      <td>Male</td>\n",
       "      <td>No</td>\n",
       "      <td>Sat</td>\n",
       "      <td>Dinner</td>\n",
       "      <td>4</td>\n",
       "      <td>0.139424</td>\n",
       "    </tr>\n",
       "    <tr>\n",
       "      <th>141</th>\n",
       "      <td>34.30</td>\n",
       "      <td>6.70</td>\n",
       "      <td>Male</td>\n",
       "      <td>No</td>\n",
       "      <td>Thur</td>\n",
       "      <td>Lunch</td>\n",
       "      <td>6</td>\n",
       "      <td>0.195335</td>\n",
       "    </tr>\n",
       "    <tr>\n",
       "      <th>...</th>\n",
       "      <td>...</td>\n",
       "      <td>...</td>\n",
       "      <td>...</td>\n",
       "      <td>...</td>\n",
       "      <td>...</td>\n",
       "      <td>...</td>\n",
       "      <td>...</td>\n",
       "      <td>...</td>\n",
       "    </tr>\n",
       "    <tr>\n",
       "      <th>0</th>\n",
       "      <td>16.99</td>\n",
       "      <td>1.01</td>\n",
       "      <td>Female</td>\n",
       "      <td>No</td>\n",
       "      <td>Sun</td>\n",
       "      <td>Dinner</td>\n",
       "      <td>2</td>\n",
       "      <td>0.059447</td>\n",
       "    </tr>\n",
       "    <tr>\n",
       "      <th>236</th>\n",
       "      <td>12.60</td>\n",
       "      <td>1.00</td>\n",
       "      <td>Male</td>\n",
       "      <td>Yes</td>\n",
       "      <td>Sat</td>\n",
       "      <td>Dinner</td>\n",
       "      <td>2</td>\n",
       "      <td>0.079365</td>\n",
       "    </tr>\n",
       "    <tr>\n",
       "      <th>111</th>\n",
       "      <td>7.25</td>\n",
       "      <td>1.00</td>\n",
       "      <td>Female</td>\n",
       "      <td>No</td>\n",
       "      <td>Sat</td>\n",
       "      <td>Dinner</td>\n",
       "      <td>1</td>\n",
       "      <td>0.137931</td>\n",
       "    </tr>\n",
       "    <tr>\n",
       "      <th>67</th>\n",
       "      <td>3.07</td>\n",
       "      <td>1.00</td>\n",
       "      <td>Female</td>\n",
       "      <td>Yes</td>\n",
       "      <td>Sat</td>\n",
       "      <td>Dinner</td>\n",
       "      <td>1</td>\n",
       "      <td>0.325733</td>\n",
       "    </tr>\n",
       "    <tr>\n",
       "      <th>92</th>\n",
       "      <td>5.75</td>\n",
       "      <td>1.00</td>\n",
       "      <td>Female</td>\n",
       "      <td>Yes</td>\n",
       "      <td>Fri</td>\n",
       "      <td>Dinner</td>\n",
       "      <td>2</td>\n",
       "      <td>0.173913</td>\n",
       "    </tr>\n",
       "  </tbody>\n",
       "</table>\n",
       "<p>244 rows × 8 columns</p>\n",
       "</div>"
      ],
      "text/plain": [
       "     total_bill    tip     sex smoker   day    time  size  fraction\n",
       "170       50.81  10.00    Male    Yes   Sat  Dinner     3  0.196812\n",
       "212       48.33   9.00    Male     No   Sat  Dinner     4  0.186220\n",
       "23        39.42   7.58    Male     No   Sat  Dinner     4  0.192288\n",
       "59        48.27   6.73    Male     No   Sat  Dinner     4  0.139424\n",
       "141       34.30   6.70    Male     No  Thur   Lunch     6  0.195335\n",
       "..          ...    ...     ...    ...   ...     ...   ...       ...\n",
       "0         16.99   1.01  Female     No   Sun  Dinner     2  0.059447\n",
       "236       12.60   1.00    Male    Yes   Sat  Dinner     2  0.079365\n",
       "111        7.25   1.00  Female     No   Sat  Dinner     1  0.137931\n",
       "67         3.07   1.00  Female    Yes   Sat  Dinner     1  0.325733\n",
       "92         5.75   1.00  Female    Yes   Fri  Dinner     2  0.173913\n",
       "\n",
       "[244 rows x 8 columns]"
      ]
     },
     "execution_count": 135,
     "metadata": {},
     "output_type": "execute_result"
    }
   ],
   "source": [
    "tips.sort_values('tip', ascending=False)"
   ]
  },
  {
   "cell_type": "code",
   "execution_count": 136,
   "id": "bde0a0c5",
   "metadata": {},
   "outputs": [
    {
     "data": {
      "text/html": [
       "<div>\n",
       "<style scoped>\n",
       "    .dataframe tbody tr th:only-of-type {\n",
       "        vertical-align: middle;\n",
       "    }\n",
       "\n",
       "    .dataframe tbody tr th {\n",
       "        vertical-align: top;\n",
       "    }\n",
       "\n",
       "    .dataframe thead th {\n",
       "        text-align: right;\n",
       "    }\n",
       "</style>\n",
       "<table border=\"1\" class=\"dataframe\">\n",
       "  <thead>\n",
       "    <tr style=\"text-align: right;\">\n",
       "      <th></th>\n",
       "      <th>total_bill</th>\n",
       "      <th>tip</th>\n",
       "      <th>sex</th>\n",
       "      <th>smoker</th>\n",
       "      <th>day</th>\n",
       "      <th>time</th>\n",
       "      <th>size</th>\n",
       "      <th>fraction</th>\n",
       "    </tr>\n",
       "  </thead>\n",
       "  <tbody>\n",
       "    <tr>\n",
       "      <th>170</th>\n",
       "      <td>50.81</td>\n",
       "      <td>10.0</td>\n",
       "      <td>Male</td>\n",
       "      <td>Yes</td>\n",
       "      <td>Sat</td>\n",
       "      <td>Dinner</td>\n",
       "      <td>3</td>\n",
       "      <td>0.196812</td>\n",
       "    </tr>\n",
       "  </tbody>\n",
       "</table>\n",
       "</div>"
      ],
      "text/plain": [
       "     total_bill   tip   sex smoker  day    time  size  fraction\n",
       "170       50.81  10.0  Male    Yes  Sat  Dinner     3  0.196812"
      ]
     },
     "execution_count": 136,
     "metadata": {},
     "output_type": "execute_result"
    }
   ],
   "source": [
    "tips.sort_values('tip', ascending=False).head(1)"
   ]
  },
  {
   "cell_type": "code",
   "execution_count": 138,
   "id": "67b240e8",
   "metadata": {},
   "outputs": [
    {
     "data": {
      "text/plain": [
       "10.0"
      ]
     },
     "execution_count": 138,
     "metadata": {},
     "output_type": "execute_result"
    }
   ],
   "source": [
    "tips.tip.max()"
   ]
  },
  {
   "cell_type": "code",
   "execution_count": 145,
   "id": "a0282f6b",
   "metadata": {},
   "outputs": [
    {
     "data": {
      "text/plain": [
       "2.99827868852459"
      ]
     },
     "execution_count": 145,
     "metadata": {},
     "output_type": "execute_result"
    }
   ],
   "source": [
    "tips.tip.mean()"
   ]
  },
  {
   "cell_type": "code",
   "execution_count": 139,
   "id": "73893785",
   "metadata": {},
   "outputs": [
    {
     "data": {
      "text/plain": [
       "50.81"
      ]
     },
     "execution_count": 139,
     "metadata": {},
     "output_type": "execute_result"
    }
   ],
   "source": [
    "tips.total_bill.max()"
   ]
  },
  {
   "cell_type": "code",
   "execution_count": 140,
   "id": "8af78df3",
   "metadata": {},
   "outputs": [
    {
     "data": {
      "text/html": [
       "<div>\n",
       "<style scoped>\n",
       "    .dataframe tbody tr th:only-of-type {\n",
       "        vertical-align: middle;\n",
       "    }\n",
       "\n",
       "    .dataframe tbody tr th {\n",
       "        vertical-align: top;\n",
       "    }\n",
       "\n",
       "    .dataframe thead th {\n",
       "        text-align: right;\n",
       "    }\n",
       "</style>\n",
       "<table border=\"1\" class=\"dataframe\">\n",
       "  <thead>\n",
       "    <tr style=\"text-align: right;\">\n",
       "      <th></th>\n",
       "      <th>total_bill</th>\n",
       "      <th>tip</th>\n",
       "      <th>sex</th>\n",
       "      <th>smoker</th>\n",
       "      <th>day</th>\n",
       "      <th>time</th>\n",
       "      <th>size</th>\n",
       "      <th>fraction</th>\n",
       "    </tr>\n",
       "  </thead>\n",
       "  <tbody>\n",
       "    <tr>\n",
       "      <th>170</th>\n",
       "      <td>50.81</td>\n",
       "      <td>10.0</td>\n",
       "      <td>Male</td>\n",
       "      <td>Yes</td>\n",
       "      <td>Sat</td>\n",
       "      <td>Dinner</td>\n",
       "      <td>3</td>\n",
       "      <td>0.196812</td>\n",
       "    </tr>\n",
       "  </tbody>\n",
       "</table>\n",
       "</div>"
      ],
      "text/plain": [
       "     total_bill   tip   sex smoker  day    time  size  fraction\n",
       "170       50.81  10.0  Male    Yes  Sat  Dinner     3  0.196812"
      ]
     },
     "execution_count": 140,
     "metadata": {},
     "output_type": "execute_result"
    }
   ],
   "source": [
    "tips.nlargest(1, 'tip')"
   ]
  },
  {
   "cell_type": "code",
   "execution_count": 141,
   "id": "3518b4c2",
   "metadata": {},
   "outputs": [
    {
     "data": {
      "text/html": [
       "<div>\n",
       "<style scoped>\n",
       "    .dataframe tbody tr th:only-of-type {\n",
       "        vertical-align: middle;\n",
       "    }\n",
       "\n",
       "    .dataframe tbody tr th {\n",
       "        vertical-align: top;\n",
       "    }\n",
       "\n",
       "    .dataframe thead th {\n",
       "        text-align: right;\n",
       "    }\n",
       "</style>\n",
       "<table border=\"1\" class=\"dataframe\">\n",
       "  <thead>\n",
       "    <tr style=\"text-align: right;\">\n",
       "      <th></th>\n",
       "      <th>total_bill</th>\n",
       "      <th>tip</th>\n",
       "      <th>sex</th>\n",
       "      <th>smoker</th>\n",
       "      <th>day</th>\n",
       "      <th>time</th>\n",
       "      <th>size</th>\n",
       "      <th>fraction</th>\n",
       "    </tr>\n",
       "  </thead>\n",
       "  <tbody>\n",
       "    <tr>\n",
       "      <th>67</th>\n",
       "      <td>3.07</td>\n",
       "      <td>1.0</td>\n",
       "      <td>Female</td>\n",
       "      <td>Yes</td>\n",
       "      <td>Sat</td>\n",
       "      <td>Dinner</td>\n",
       "      <td>1</td>\n",
       "      <td>0.325733</td>\n",
       "    </tr>\n",
       "  </tbody>\n",
       "</table>\n",
       "</div>"
      ],
      "text/plain": [
       "    total_bill  tip     sex smoker  day    time  size  fraction\n",
       "67        3.07  1.0  Female    Yes  Sat  Dinner     1  0.325733"
      ]
     },
     "execution_count": 141,
     "metadata": {},
     "output_type": "execute_result"
    }
   ],
   "source": [
    "tips.nsmallest(1, 'total_bill')"
   ]
  },
  {
   "cell_type": "code",
   "execution_count": 142,
   "id": "c55ffc9c",
   "metadata": {},
   "outputs": [
    {
     "data": {
      "text/html": [
       "<div>\n",
       "<style scoped>\n",
       "    .dataframe tbody tr th:only-of-type {\n",
       "        vertical-align: middle;\n",
       "    }\n",
       "\n",
       "    .dataframe tbody tr th {\n",
       "        vertical-align: top;\n",
       "    }\n",
       "\n",
       "    .dataframe thead th {\n",
       "        text-align: right;\n",
       "    }\n",
       "</style>\n",
       "<table border=\"1\" class=\"dataframe\">\n",
       "  <thead>\n",
       "    <tr style=\"text-align: right;\">\n",
       "      <th></th>\n",
       "      <th>total_bill</th>\n",
       "      <th>tip</th>\n",
       "      <th>sex</th>\n",
       "      <th>smoker</th>\n",
       "      <th>day</th>\n",
       "      <th>time</th>\n",
       "      <th>size</th>\n",
       "      <th>fraction</th>\n",
       "    </tr>\n",
       "  </thead>\n",
       "  <tbody>\n",
       "    <tr>\n",
       "      <th>67</th>\n",
       "      <td>3.07</td>\n",
       "      <td>1.0</td>\n",
       "      <td>Female</td>\n",
       "      <td>Yes</td>\n",
       "      <td>Sat</td>\n",
       "      <td>Dinner</td>\n",
       "      <td>1</td>\n",
       "      <td>0.325733</td>\n",
       "    </tr>\n",
       "  </tbody>\n",
       "</table>\n",
       "</div>"
      ],
      "text/plain": [
       "    total_bill  tip     sex smoker  day    time  size  fraction\n",
       "67        3.07  1.0  Female    Yes  Sat  Dinner     1  0.325733"
      ]
     },
     "execution_count": 142,
     "metadata": {},
     "output_type": "execute_result"
    }
   ],
   "source": [
    "tips.sort_values('total_bill').head(1)"
   ]
  },
  {
   "cell_type": "code",
   "execution_count": 143,
   "id": "705819e0",
   "metadata": {},
   "outputs": [
    {
     "data": {
      "text/plain": [
       "3.07"
      ]
     },
     "execution_count": 143,
     "metadata": {},
     "output_type": "execute_result"
    }
   ],
   "source": [
    "tips.total_bill.min()"
   ]
  },
  {
   "cell_type": "code",
   "execution_count": 144,
   "id": "c508ccf8",
   "metadata": {},
   "outputs": [
    {
     "data": {
      "text/html": [
       "<div>\n",
       "<style scoped>\n",
       "    .dataframe tbody tr th:only-of-type {\n",
       "        vertical-align: middle;\n",
       "    }\n",
       "\n",
       "    .dataframe tbody tr th {\n",
       "        vertical-align: top;\n",
       "    }\n",
       "\n",
       "    .dataframe thead th {\n",
       "        text-align: right;\n",
       "    }\n",
       "</style>\n",
       "<table border=\"1\" class=\"dataframe\">\n",
       "  <thead>\n",
       "    <tr style=\"text-align: right;\">\n",
       "      <th></th>\n",
       "      <th>Country</th>\n",
       "      <th>Year</th>\n",
       "      <th>fertility</th>\n",
       "      <th>life</th>\n",
       "      <th>population</th>\n",
       "      <th>child_mortality</th>\n",
       "      <th>gdp</th>\n",
       "      <th>region</th>\n",
       "    </tr>\n",
       "  </thead>\n",
       "  <tbody>\n",
       "    <tr>\n",
       "      <th>0</th>\n",
       "      <td>Afghanistan</td>\n",
       "      <td>1964</td>\n",
       "      <td>7.671</td>\n",
       "      <td>33.639</td>\n",
       "      <td>10474903.0</td>\n",
       "      <td>339.7</td>\n",
       "      <td>1182.0</td>\n",
       "      <td>South Asia</td>\n",
       "    </tr>\n",
       "    <tr>\n",
       "      <th>1</th>\n",
       "      <td>Afghanistan</td>\n",
       "      <td>1965</td>\n",
       "      <td>7.671</td>\n",
       "      <td>34.152</td>\n",
       "      <td>10697983.0</td>\n",
       "      <td>334.1</td>\n",
       "      <td>1182.0</td>\n",
       "      <td>South Asia</td>\n",
       "    </tr>\n",
       "    <tr>\n",
       "      <th>2</th>\n",
       "      <td>Afghanistan</td>\n",
       "      <td>1966</td>\n",
       "      <td>7.671</td>\n",
       "      <td>34.662</td>\n",
       "      <td>10927724.0</td>\n",
       "      <td>328.7</td>\n",
       "      <td>1168.0</td>\n",
       "      <td>South Asia</td>\n",
       "    </tr>\n",
       "    <tr>\n",
       "      <th>3</th>\n",
       "      <td>Afghanistan</td>\n",
       "      <td>1967</td>\n",
       "      <td>7.671</td>\n",
       "      <td>35.170</td>\n",
       "      <td>11163656.0</td>\n",
       "      <td>323.3</td>\n",
       "      <td>1173.0</td>\n",
       "      <td>South Asia</td>\n",
       "    </tr>\n",
       "    <tr>\n",
       "      <th>4</th>\n",
       "      <td>Afghanistan</td>\n",
       "      <td>1968</td>\n",
       "      <td>7.671</td>\n",
       "      <td>35.674</td>\n",
       "      <td>11411022.0</td>\n",
       "      <td>318.1</td>\n",
       "      <td>1187.0</td>\n",
       "      <td>South Asia</td>\n",
       "    </tr>\n",
       "    <tr>\n",
       "      <th>...</th>\n",
       "      <td>...</td>\n",
       "      <td>...</td>\n",
       "      <td>...</td>\n",
       "      <td>...</td>\n",
       "      <td>...</td>\n",
       "      <td>...</td>\n",
       "      <td>...</td>\n",
       "      <td>...</td>\n",
       "    </tr>\n",
       "    <tr>\n",
       "      <th>10106</th>\n",
       "      <td>Åland</td>\n",
       "      <td>2002</td>\n",
       "      <td>NaN</td>\n",
       "      <td>81.800</td>\n",
       "      <td>26257.0</td>\n",
       "      <td>NaN</td>\n",
       "      <td>NaN</td>\n",
       "      <td>Europe &amp; Central Asia</td>\n",
       "    </tr>\n",
       "    <tr>\n",
       "      <th>10107</th>\n",
       "      <td>Åland</td>\n",
       "      <td>2003</td>\n",
       "      <td>NaN</td>\n",
       "      <td>80.630</td>\n",
       "      <td>26347.0</td>\n",
       "      <td>NaN</td>\n",
       "      <td>NaN</td>\n",
       "      <td>Europe &amp; Central Asia</td>\n",
       "    </tr>\n",
       "    <tr>\n",
       "      <th>10108</th>\n",
       "      <td>Åland</td>\n",
       "      <td>2004</td>\n",
       "      <td>NaN</td>\n",
       "      <td>79.880</td>\n",
       "      <td>26530.0</td>\n",
       "      <td>NaN</td>\n",
       "      <td>NaN</td>\n",
       "      <td>Europe &amp; Central Asia</td>\n",
       "    </tr>\n",
       "    <tr>\n",
       "      <th>10109</th>\n",
       "      <td>Åland</td>\n",
       "      <td>2005</td>\n",
       "      <td>NaN</td>\n",
       "      <td>80.000</td>\n",
       "      <td>26766.0</td>\n",
       "      <td>NaN</td>\n",
       "      <td>NaN</td>\n",
       "      <td>Europe &amp; Central Asia</td>\n",
       "    </tr>\n",
       "    <tr>\n",
       "      <th>10110</th>\n",
       "      <td>Åland</td>\n",
       "      <td>2006</td>\n",
       "      <td>NaN</td>\n",
       "      <td>80.100</td>\n",
       "      <td>26923.0</td>\n",
       "      <td>NaN</td>\n",
       "      <td>NaN</td>\n",
       "      <td>Europe &amp; Central Asia</td>\n",
       "    </tr>\n",
       "  </tbody>\n",
       "</table>\n",
       "<p>10111 rows × 8 columns</p>\n",
       "</div>"
      ],
      "text/plain": [
       "           Country  Year  fertility    life  population  child_mortality  \\\n",
       "0      Afghanistan  1964      7.671  33.639  10474903.0            339.7   \n",
       "1      Afghanistan  1965      7.671  34.152  10697983.0            334.1   \n",
       "2      Afghanistan  1966      7.671  34.662  10927724.0            328.7   \n",
       "3      Afghanistan  1967      7.671  35.170  11163656.0            323.3   \n",
       "4      Afghanistan  1968      7.671  35.674  11411022.0            318.1   \n",
       "...            ...   ...        ...     ...         ...              ...   \n",
       "10106        Åland  2002        NaN  81.800     26257.0              NaN   \n",
       "10107        Åland  2003        NaN  80.630     26347.0              NaN   \n",
       "10108        Åland  2004        NaN  79.880     26530.0              NaN   \n",
       "10109        Åland  2005        NaN  80.000     26766.0              NaN   \n",
       "10110        Åland  2006        NaN  80.100     26923.0              NaN   \n",
       "\n",
       "          gdp                 region  \n",
       "0      1182.0             South Asia  \n",
       "1      1182.0             South Asia  \n",
       "2      1168.0             South Asia  \n",
       "3      1173.0             South Asia  \n",
       "4      1187.0             South Asia  \n",
       "...       ...                    ...  \n",
       "10106     NaN  Europe & Central Asia  \n",
       "10107     NaN  Europe & Central Asia  \n",
       "10108     NaN  Europe & Central Asia  \n",
       "10109     NaN  Europe & Central Asia  \n",
       "10110     NaN  Europe & Central Asia  \n",
       "\n",
       "[10111 rows x 8 columns]"
      ]
     },
     "execution_count": 144,
     "metadata": {},
     "output_type": "execute_result"
    }
   ],
   "source": [
    "gm = pd.read_csv('data/gapminder_tidy.csv')\n",
    "gm"
   ]
  },
  {
   "cell_type": "code",
   "execution_count": 158,
   "id": "1d134b76",
   "metadata": {},
   "outputs": [
    {
     "data": {
      "text/html": [
       "<div>\n",
       "<style scoped>\n",
       "    .dataframe tbody tr th:only-of-type {\n",
       "        vertical-align: middle;\n",
       "    }\n",
       "\n",
       "    .dataframe tbody tr th {\n",
       "        vertical-align: top;\n",
       "    }\n",
       "\n",
       "    .dataframe thead th {\n",
       "        text-align: right;\n",
       "    }\n",
       "</style>\n",
       "<table border=\"1\" class=\"dataframe\">\n",
       "  <thead>\n",
       "    <tr style=\"text-align: right;\">\n",
       "      <th></th>\n",
       "      <th>Country</th>\n",
       "      <th>Year</th>\n",
       "      <th>fertility</th>\n",
       "      <th>life</th>\n",
       "      <th>population</th>\n",
       "      <th>child_mortality</th>\n",
       "      <th>gdp</th>\n",
       "      <th>region</th>\n",
       "    </tr>\n",
       "  </thead>\n",
       "  <tbody>\n",
       "    <tr>\n",
       "      <th>1849</th>\n",
       "      <td>China</td>\n",
       "      <td>2013</td>\n",
       "      <td>1.668</td>\n",
       "      <td>75.331</td>\n",
       "      <td>1.359368e+09</td>\n",
       "      <td>12.3</td>\n",
       "      <td>11805.0</td>\n",
       "      <td>East Asia &amp; Pacific</td>\n",
       "    </tr>\n",
       "    <tr>\n",
       "      <th>1848</th>\n",
       "      <td>China</td>\n",
       "      <td>2012</td>\n",
       "      <td>1.663</td>\n",
       "      <td>75.178</td>\n",
       "      <td>1.353601e+09</td>\n",
       "      <td>13.4</td>\n",
       "      <td>11017.0</td>\n",
       "      <td>East Asia &amp; Pacific</td>\n",
       "    </tr>\n",
       "  </tbody>\n",
       "</table>\n",
       "</div>"
      ],
      "text/plain": [
       "     Country  Year  fertility    life    population  child_mortality      gdp  \\\n",
       "1849   China  2013      1.668  75.331  1.359368e+09             12.3  11805.0   \n",
       "1848   China  2012      1.663  75.178  1.353601e+09             13.4  11017.0   \n",
       "\n",
       "                   region  \n",
       "1849  East Asia & Pacific  \n",
       "1848  East Asia & Pacific  "
      ]
     },
     "execution_count": 158,
     "metadata": {},
     "output_type": "execute_result"
    }
   ],
   "source": [
    "# 1. How many years worth of data for Afghanistan?\n",
    "len(gm[gm.Country == 'Afghanistan'])\n",
    "# 2. How many countries are listed in the data for the year 1964?\n",
    "len(gm[gm.Year == 1964])\n",
    "# 3. What is the average life expectancy for India over the years?\n",
    "gm[gm.Country == 'India'].life.mean()\n",
    "# 4. Find the row/country+year which has the highest population?\n",
    "gm.nlargest(2, 'population')"
   ]
  },
  {
   "cell_type": "code",
   "execution_count": 149,
   "id": "5da04ef6",
   "metadata": {},
   "outputs": [
    {
     "data": {
      "text/plain": [
       "64.0785996829906"
      ]
     },
     "execution_count": 149,
     "metadata": {},
     "output_type": "execute_result"
    }
   ],
   "source": [
    "gm.life.mean()"
   ]
  },
  {
   "cell_type": "code",
   "execution_count": 153,
   "id": "30484b37",
   "metadata": {},
   "outputs": [
    {
     "data": {
      "text/plain": [
       "Country             object\n",
       "Year                 int64\n",
       "fertility          float64\n",
       "life               float64\n",
       "population         float64\n",
       "child_mortality    float64\n",
       "gdp                float64\n",
       "region              object\n",
       "dtype: object"
      ]
     },
     "execution_count": 153,
     "metadata": {},
     "output_type": "execute_result"
    }
   ],
   "source": [
    "gm.dtypes"
   ]
  },
  {
   "cell_type": "code",
   "execution_count": 159,
   "id": "a314c5b6",
   "metadata": {},
   "outputs": [
    {
     "name": "stdout",
     "output_type": "stream",
     "text": [
      "<class 'pandas.core.frame.DataFrame'>\n",
      "RangeIndex: 10111 entries, 0 to 10110\n",
      "Data columns (total 8 columns):\n",
      " #   Column           Non-Null Count  Dtype  \n",
      "---  ------           --------------  -----  \n",
      " 0   Country          10111 non-null  object \n",
      " 1   Year             10111 non-null  int64  \n",
      " 2   fertility        10100 non-null  float64\n",
      " 3   life             10111 non-null  float64\n",
      " 4   population       10108 non-null  float64\n",
      " 5   child_mortality  9210 non-null   float64\n",
      " 6   gdp              9000 non-null   float64\n",
      " 7   region           10111 non-null  object \n",
      "dtypes: float64(5), int64(1), object(2)\n",
      "memory usage: 632.1+ KB\n"
     ]
    }
   ],
   "source": [
    "gm.info()"
   ]
  },
  {
   "cell_type": "code",
   "execution_count": 160,
   "id": "02212ee3",
   "metadata": {},
   "outputs": [
    {
     "data": {
      "text/plain": [
       "Index                128\n",
       "Country            80888\n",
       "Year               80888\n",
       "fertility          80888\n",
       "life               80888\n",
       "population         80888\n",
       "child_mortality    80888\n",
       "gdp                80888\n",
       "region             80888\n",
       "dtype: int64"
      ]
     },
     "execution_count": 160,
     "metadata": {},
     "output_type": "execute_result"
    }
   ],
   "source": [
    "gm.memory_usage()"
   ]
  },
  {
   "cell_type": "code",
   "execution_count": 161,
   "id": "bb572b2f",
   "metadata": {},
   "outputs": [
    {
     "data": {
      "text/html": [
       "<div>\n",
       "<style scoped>\n",
       "    .dataframe tbody tr th:only-of-type {\n",
       "        vertical-align: middle;\n",
       "    }\n",
       "\n",
       "    .dataframe tbody tr th {\n",
       "        vertical-align: top;\n",
       "    }\n",
       "\n",
       "    .dataframe thead th {\n",
       "        text-align: right;\n",
       "    }\n",
       "</style>\n",
       "<table border=\"1\" class=\"dataframe\">\n",
       "  <thead>\n",
       "    <tr style=\"text-align: right;\">\n",
       "      <th></th>\n",
       "      <th>Year</th>\n",
       "      <th>fertility</th>\n",
       "      <th>life</th>\n",
       "      <th>population</th>\n",
       "      <th>child_mortality</th>\n",
       "      <th>gdp</th>\n",
       "    </tr>\n",
       "  </thead>\n",
       "  <tbody>\n",
       "    <tr>\n",
       "      <th>count</th>\n",
       "      <td>10111.000000</td>\n",
       "      <td>10100.000000</td>\n",
       "      <td>10111.000000</td>\n",
       "      <td>1.010800e+04</td>\n",
       "      <td>9210.000000</td>\n",
       "      <td>9000.000000</td>\n",
       "    </tr>\n",
       "    <tr>\n",
       "      <th>mean</th>\n",
       "      <td>1988.514588</td>\n",
       "      <td>4.028719</td>\n",
       "      <td>64.078600</td>\n",
       "      <td>2.560448e+07</td>\n",
       "      <td>80.834505</td>\n",
       "      <td>12746.916667</td>\n",
       "    </tr>\n",
       "    <tr>\n",
       "      <th>std</th>\n",
       "      <td>14.430849</td>\n",
       "      <td>2.013968</td>\n",
       "      <td>11.122779</td>\n",
       "      <td>1.032383e+08</td>\n",
       "      <td>79.220942</td>\n",
       "      <td>17797.809953</td>\n",
       "    </tr>\n",
       "    <tr>\n",
       "      <th>min</th>\n",
       "      <td>1964.000000</td>\n",
       "      <td>0.836000</td>\n",
       "      <td>6.000000</td>\n",
       "      <td>1.170000e+03</td>\n",
       "      <td>2.000000</td>\n",
       "      <td>142.000000</td>\n",
       "    </tr>\n",
       "    <tr>\n",
       "      <th>25%</th>\n",
       "      <td>1976.000000</td>\n",
       "      <td>2.175750</td>\n",
       "      <td>56.282500</td>\n",
       "      <td>8.874062e+05</td>\n",
       "      <td>18.900000</td>\n",
       "      <td>2263.000000</td>\n",
       "    </tr>\n",
       "    <tr>\n",
       "      <th>50%</th>\n",
       "      <td>1989.000000</td>\n",
       "      <td>3.632500</td>\n",
       "      <td>67.157000</td>\n",
       "      <td>4.765781e+06</td>\n",
       "      <td>50.700000</td>\n",
       "      <td>6438.500000</td>\n",
       "    </tr>\n",
       "    <tr>\n",
       "      <th>75%</th>\n",
       "      <td>2001.000000</td>\n",
       "      <td>5.905250</td>\n",
       "      <td>72.484000</td>\n",
       "      <td>1.476995e+07</td>\n",
       "      <td>121.775000</td>\n",
       "      <td>15887.250000</td>\n",
       "    </tr>\n",
       "    <tr>\n",
       "      <th>max</th>\n",
       "      <td>2013.000000</td>\n",
       "      <td>9.223000</td>\n",
       "      <td>83.580000</td>\n",
       "      <td>1.359368e+09</td>\n",
       "      <td>435.800000</td>\n",
       "      <td>182668.000000</td>\n",
       "    </tr>\n",
       "  </tbody>\n",
       "</table>\n",
       "</div>"
      ],
      "text/plain": [
       "               Year     fertility          life    population  \\\n",
       "count  10111.000000  10100.000000  10111.000000  1.010800e+04   \n",
       "mean    1988.514588      4.028719     64.078600  2.560448e+07   \n",
       "std       14.430849      2.013968     11.122779  1.032383e+08   \n",
       "min     1964.000000      0.836000      6.000000  1.170000e+03   \n",
       "25%     1976.000000      2.175750     56.282500  8.874062e+05   \n",
       "50%     1989.000000      3.632500     67.157000  4.765781e+06   \n",
       "75%     2001.000000      5.905250     72.484000  1.476995e+07   \n",
       "max     2013.000000      9.223000     83.580000  1.359368e+09   \n",
       "\n",
       "       child_mortality            gdp  \n",
       "count      9210.000000    9000.000000  \n",
       "mean         80.834505   12746.916667  \n",
       "std          79.220942   17797.809953  \n",
       "min           2.000000     142.000000  \n",
       "25%          18.900000    2263.000000  \n",
       "50%          50.700000    6438.500000  \n",
       "75%         121.775000   15887.250000  \n",
       "max         435.800000  182668.000000  "
      ]
     },
     "execution_count": 161,
     "metadata": {},
     "output_type": "execute_result"
    }
   ],
   "source": [
    "gm.describe()"
   ]
  },
  {
   "cell_type": "code",
   "execution_count": 162,
   "id": "c320d25d",
   "metadata": {},
   "outputs": [
    {
     "data": {
      "text/html": [
       "<div>\n",
       "<style scoped>\n",
       "    .dataframe tbody tr th:only-of-type {\n",
       "        vertical-align: middle;\n",
       "    }\n",
       "\n",
       "    .dataframe tbody tr th {\n",
       "        vertical-align: top;\n",
       "    }\n",
       "\n",
       "    .dataframe thead th {\n",
       "        text-align: right;\n",
       "    }\n",
       "</style>\n",
       "<table border=\"1\" class=\"dataframe\">\n",
       "  <thead>\n",
       "    <tr style=\"text-align: right;\">\n",
       "      <th></th>\n",
       "      <th>Country</th>\n",
       "      <th>region</th>\n",
       "    </tr>\n",
       "  </thead>\n",
       "  <tbody>\n",
       "    <tr>\n",
       "      <th>count</th>\n",
       "      <td>10111</td>\n",
       "      <td>10111</td>\n",
       "    </tr>\n",
       "    <tr>\n",
       "      <th>unique</th>\n",
       "      <td>204</td>\n",
       "      <td>6</td>\n",
       "    </tr>\n",
       "    <tr>\n",
       "      <th>top</th>\n",
       "      <td>Niger</td>\n",
       "      <td>Europe &amp; Central Asia</td>\n",
       "    </tr>\n",
       "    <tr>\n",
       "      <th>freq</th>\n",
       "      <td>50</td>\n",
       "      <td>2560</td>\n",
       "    </tr>\n",
       "  </tbody>\n",
       "</table>\n",
       "</div>"
      ],
      "text/plain": [
       "       Country                 region\n",
       "count    10111                  10111\n",
       "unique     204                      6\n",
       "top      Niger  Europe & Central Asia\n",
       "freq        50                   2560"
      ]
     },
     "execution_count": 162,
     "metadata": {},
     "output_type": "execute_result"
    }
   ],
   "source": [
    "gm.describe(include=['object'])"
   ]
  },
  {
   "cell_type": "code",
   "execution_count": 165,
   "id": "a28ca010",
   "metadata": {},
   "outputs": [
    {
     "data": {
      "text/plain": [
       "6"
      ]
     },
     "execution_count": 165,
     "metadata": {},
     "output_type": "execute_result"
    }
   ],
   "source": [
    "len(gm.region.unique())"
   ]
  },
  {
   "cell_type": "code",
   "execution_count": 166,
   "id": "09265225",
   "metadata": {},
   "outputs": [
    {
     "data": {
      "text/plain": [
       "204"
      ]
     },
     "execution_count": 166,
     "metadata": {},
     "output_type": "execute_result"
    }
   ],
   "source": [
    "len(gm.Country.unique())"
   ]
  },
  {
   "cell_type": "code",
   "execution_count": 167,
   "id": "1ab5aeba",
   "metadata": {},
   "outputs": [
    {
     "data": {
      "text/plain": [
       "50"
      ]
     },
     "execution_count": 167,
     "metadata": {},
     "output_type": "execute_result"
    }
   ],
   "source": [
    "len(gm.Year.unique())"
   ]
  },
  {
   "cell_type": "code",
   "execution_count": 170,
   "id": "60307917",
   "metadata": {},
   "outputs": [
    {
     "data": {
      "text/plain": [
       "146.6317816091954"
      ]
     },
     "execution_count": 170,
     "metadata": {},
     "output_type": "execute_result"
    }
   ],
   "source": [
    "# What is the average child_mortality over the years?\n",
    "gm[gm.Year == 1965].child_mortality.mean()"
   ]
  },
  {
   "cell_type": "code",
   "execution_count": 179,
   "id": "c1adb076",
   "metadata": {},
   "outputs": [
    {
     "data": {
      "text/plain": [
       "Year\n",
       "1964    150.646207\n",
       "1965    146.631782\n",
       "1966    142.984943\n",
       "1967    139.547874\n",
       "1968    136.208333\n",
       "1969    133.078161\n",
       "1970    129.995287\n",
       "1971    126.862184\n",
       "1972    123.891897\n",
       "1973    121.036609\n",
       "1974    118.170345\n",
       "1975    115.217529\n",
       "1976    111.956322\n",
       "1977    108.620920\n",
       "1978    105.341782\n",
       "1979    102.073908\n",
       "1980     95.089577\n",
       "1981     92.005291\n",
       "1982     88.882487\n",
       "1983     86.148836\n",
       "1984     83.423968\n",
       "1985     81.017143\n",
       "1986     78.807460\n",
       "1987     76.662011\n",
       "1988     74.782646\n",
       "1989     72.758836\n",
       "1990     71.044550\n",
       "1991     69.488360\n",
       "1992     68.030476\n",
       "1993     66.684286\n",
       "1994     65.827143\n",
       "1995     64.198889\n",
       "1996     62.335714\n",
       "1997     60.913704\n",
       "1998     59.447249\n",
       "1999     57.456296\n",
       "2000     55.539206\n",
       "2001     53.570794\n",
       "2002     51.571111\n",
       "2003     49.605026\n",
       "2004     47.800952\n",
       "2005     45.808201\n",
       "2006     44.005026\n",
       "2007     42.266138\n",
       "2008     40.725132\n",
       "2009     38.971587\n",
       "2010     38.027460\n",
       "2011     35.890370\n",
       "2012     34.505344\n",
       "2013     33.226402\n",
       "Name: child_mortality, dtype: float64"
      ]
     },
     "execution_count": 179,
     "metadata": {},
     "output_type": "execute_result"
    }
   ],
   "source": [
    "# gm.groupby('Year').mean().child_mortality\n",
    "gm.groupby('Year').child_mortality.mean()"
   ]
  },
  {
   "cell_type": "code",
   "execution_count": 180,
   "id": "a7885486",
   "metadata": {},
   "outputs": [
    {
     "data": {
      "text/plain": [
       "<matplotlib.axes._subplots.AxesSubplot at 0x118845ac0>"
      ]
     },
     "execution_count": 180,
     "metadata": {},
     "output_type": "execute_result"
    },
    {
     "data": {
      "image/png": "[encoded data removed]",
      "text/plain": [
       "<Figure size 432x288 with 1 Axes>"
      ]
     },
     "metadata": {
      "needs_background": "light"
     },
     "output_type": "display_data"
    }
   ],
   "source": [
    "# gm.groupby('Year').mean().child_mortality\n",
    "gm.groupby('Year').child_mortality.mean().plot()"
   ]
  },
  {
   "cell_type": "code",
   "execution_count": 181,
   "id": "ad2aa570",
   "metadata": {},
   "outputs": [
    {
     "data": {
      "text/html": [
       "<div>\n",
       "<style scoped>\n",
       "    .dataframe tbody tr th:only-of-type {\n",
       "        vertical-align: middle;\n",
       "    }\n",
       "\n",
       "    .dataframe tbody tr th {\n",
       "        vertical-align: top;\n",
       "    }\n",
       "\n",
       "    .dataframe thead th {\n",
       "        text-align: right;\n",
       "    }\n",
       "</style>\n",
       "<table border=\"1\" class=\"dataframe\">\n",
       "  <thead>\n",
       "    <tr style=\"text-align: right;\">\n",
       "      <th></th>\n",
       "      <th>Country</th>\n",
       "      <th>Year</th>\n",
       "      <th>fertility</th>\n",
       "      <th>life</th>\n",
       "      <th>population</th>\n",
       "      <th>child_mortality</th>\n",
       "      <th>gdp</th>\n",
       "      <th>region</th>\n",
       "    </tr>\n",
       "  </thead>\n",
       "  <tbody>\n",
       "    <tr>\n",
       "      <th>0</th>\n",
       "      <td>Afghanistan</td>\n",
       "      <td>1964</td>\n",
       "      <td>7.671</td>\n",
       "      <td>33.639</td>\n",
       "      <td>10474903.0</td>\n",
       "      <td>339.7</td>\n",
       "      <td>1182.0</td>\n",
       "      <td>South Asia</td>\n",
       "    </tr>\n",
       "    <tr>\n",
       "      <th>1</th>\n",
       "      <td>Afghanistan</td>\n",
       "      <td>1965</td>\n",
       "      <td>7.671</td>\n",
       "      <td>34.152</td>\n",
       "      <td>10697983.0</td>\n",
       "      <td>334.1</td>\n",
       "      <td>1182.0</td>\n",
       "      <td>South Asia</td>\n",
       "    </tr>\n",
       "    <tr>\n",
       "      <th>2</th>\n",
       "      <td>Afghanistan</td>\n",
       "      <td>1966</td>\n",
       "      <td>7.671</td>\n",
       "      <td>34.662</td>\n",
       "      <td>10927724.0</td>\n",
       "      <td>328.7</td>\n",
       "      <td>1168.0</td>\n",
       "      <td>South Asia</td>\n",
       "    </tr>\n",
       "    <tr>\n",
       "      <th>3</th>\n",
       "      <td>Afghanistan</td>\n",
       "      <td>1967</td>\n",
       "      <td>7.671</td>\n",
       "      <td>35.170</td>\n",
       "      <td>11163656.0</td>\n",
       "      <td>323.3</td>\n",
       "      <td>1173.0</td>\n",
       "      <td>South Asia</td>\n",
       "    </tr>\n",
       "    <tr>\n",
       "      <th>4</th>\n",
       "      <td>Afghanistan</td>\n",
       "      <td>1968</td>\n",
       "      <td>7.671</td>\n",
       "      <td>35.674</td>\n",
       "      <td>11411022.0</td>\n",
       "      <td>318.1</td>\n",
       "      <td>1187.0</td>\n",
       "      <td>South Asia</td>\n",
       "    </tr>\n",
       "  </tbody>\n",
       "</table>\n",
       "</div>"
      ],
      "text/plain": [
       "       Country  Year  fertility    life  population  child_mortality     gdp  \\\n",
       "0  Afghanistan  1964      7.671  33.639  10474903.0            339.7  1182.0   \n",
       "1  Afghanistan  1965      7.671  34.152  10697983.0            334.1  1182.0   \n",
       "2  Afghanistan  1966      7.671  34.662  10927724.0            328.7  1168.0   \n",
       "3  Afghanistan  1967      7.671  35.170  11163656.0            323.3  1173.0   \n",
       "4  Afghanistan  1968      7.671  35.674  11411022.0            318.1  1187.0   \n",
       "\n",
       "       region  \n",
       "0  South Asia  \n",
       "1  South Asia  \n",
       "2  South Asia  \n",
       "3  South Asia  \n",
       "4  South Asia  "
      ]
     },
     "execution_count": 181,
     "metadata": {},
     "output_type": "execute_result"
    }
   ],
   "source": [
    "gm.head()"
   ]
  },
  {
   "cell_type": "code",
   "execution_count": 185,
   "id": "9f3d8e26",
   "metadata": {},
   "outputs": [
    {
     "data": {
      "text/plain": [
       "region\n",
       "Middle East & North Africa    27510.731579\n",
       "Europe & Central Asia         18442.045417\n",
       "East Asia & Pacific           13336.156923\n",
       "America                       11599.921875\n",
       "Sub-Saharan Africa             3152.428511\n",
       "South Asia                     2552.650000\n",
       "Name: gdp, dtype: float64"
      ]
     },
     "execution_count": 185,
     "metadata": {},
     "output_type": "execute_result"
    }
   ],
   "source": [
    "# Average gdp over all regions of the world\n",
    "gm.groupby('region').gdp.mean().sort_values(ascending=False)"
   ]
  },
  {
   "cell_type": "code",
   "execution_count": 188,
   "id": "e235b187",
   "metadata": {},
   "outputs": [
    {
     "data": {
      "text/plain": [
       "region\n",
       "America                       2000\n",
       "East Asia & Pacific           1601\n",
       "Europe & Central Asia         2560\n",
       "Middle East & North Africa    1050\n",
       "South Asia                     400\n",
       "Sub-Saharan Africa            2500\n",
       "dtype: int64"
      ]
     },
     "execution_count": 188,
     "metadata": {},
     "output_type": "execute_result"
    }
   ],
   "source": [
    "# How many rows of data for each region?\n",
    "gm.groupby('region').Country.count()\n",
    "gm.groupby('region').size()"
   ]
  },
  {
   "cell_type": "code",
   "execution_count": 190,
   "id": "66a7d363",
   "metadata": {},
   "outputs": [
    {
     "data": {
      "text/plain": [
       "Europe & Central Asia         2560\n",
       "Sub-Saharan Africa            2500\n",
       "America                       2000\n",
       "East Asia & Pacific           1601\n",
       "Middle East & North Africa    1050\n",
       "South Asia                     400\n",
       "Name: region, dtype: int64"
      ]
     },
     "execution_count": 190,
     "metadata": {},
     "output_type": "execute_result"
    }
   ],
   "source": [
    "gm.region.value_counts()"
   ]
  },
  {
   "cell_type": "code",
   "execution_count": 195,
   "id": "31446b4b",
   "metadata": {},
   "outputs": [
    {
     "data": {
      "text/plain": [
       "Country\n",
       "Afghanistan    7.35978\n",
       "Bangladesh     4.78682\n",
       "Bhutan         5.10080\n",
       "India          4.05170\n",
       "Maldives       5.34480\n",
       "Nepal          4.82758\n",
       "Pakistan       5.51280\n",
       "Sri Lanka      3.04902\n",
       "Name: fertility, dtype: float64"
      ]
     },
     "execution_count": 195,
     "metadata": {},
     "output_type": "execute_result"
    }
   ],
   "source": [
    "# For the South Asia region, what is the average fertility by country?\n",
    "saf = gm[gm.region == 'South Asia'].groupby('Country').fertility.mean()\n",
    "saf"
   ]
  },
  {
   "cell_type": "code",
   "execution_count": 201,
   "id": "96886dc4",
   "metadata": {},
   "outputs": [
    {
     "data": {
      "text/plain": [
       "Country\n",
       "Antigua and Barbuda                 2.528700\n",
       "Argentina                           2.843160\n",
       "Aruba                               2.315780\n",
       "Bahamas                             2.717200\n",
       "Barbados                            2.173640\n",
       "Belize                              4.721960\n",
       "Bolivia                             5.002180\n",
       "Brazil                              3.360060\n",
       "Canada                              1.818634\n",
       "Chile                               2.773440\n",
       "Colombia                            3.681440\n",
       "Costa Rica                          3.392020\n",
       "Cuba                                2.259620\n",
       "Dominican Rep.                      4.060200\n",
       "Ecuador                             4.194320\n",
       "El Salvador                         4.238420\n",
       "French Guiana                       3.838460\n",
       "Grenada                             3.648740\n",
       "Guadeloupe                          2.929200\n",
       "Guatemala                           5.434660\n",
       "Guyana                              3.374360\n",
       "Haiti                               5.076160\n",
       "Honduras                            5.304820\n",
       "Jamaica                             3.519740\n",
       "Martinique                          2.664140\n",
       "Mexico                              4.082900\n",
       "Netherlands Antilles                2.412000\n",
       "Nicaragua                           4.868040\n",
       "Panama                              3.602680\n",
       "Paraguay                            4.537440\n",
       "Peru                                4.251520\n",
       "Puerto Rico                         2.397720\n",
       "Saint Lucia                         3.847640\n",
       "Saint Vincent and the Grenadines    3.635540\n",
       "Suriname                            3.613040\n",
       "Trinidad and Tobago                 2.680460\n",
       "United States                       2.050362\n",
       "Uruguay                             2.520660\n",
       "Venezuela                           3.805300\n",
       "Virgin Islands (U.S.)               3.266100\n",
       "Name: fertility, dtype: float64"
      ]
     },
     "execution_count": 201,
     "metadata": {},
     "output_type": "execute_result"
    }
   ],
   "source": [
    "# For the South Asia region, what is the average fertility by country?\n",
    "saf = gm[gm.region == 'America'].groupby('Country').fertility.mean()\n",
    "saf"
   ]
  },
  {
   "cell_type": "code",
   "execution_count": 196,
   "id": "8941ad82",
   "metadata": {},
   "outputs": [
    {
     "data": {
      "text/plain": [
       "pandas.core.series.Series"
      ]
     },
     "execution_count": 196,
     "metadata": {},
     "output_type": "execute_result"
    }
   ],
   "source": [
    "type(saf)"
   ]
  },
  {
   "cell_type": "code",
   "execution_count": 197,
   "id": "7bfa636f",
   "metadata": {},
   "outputs": [
    {
     "data": {
      "text/plain": [
       "0        Afghanistan\n",
       "1        Afghanistan\n",
       "2        Afghanistan\n",
       "3        Afghanistan\n",
       "4        Afghanistan\n",
       "            ...     \n",
       "10106          Åland\n",
       "10107          Åland\n",
       "10108          Åland\n",
       "10109          Åland\n",
       "10110          Åland\n",
       "Name: Country, Length: 10111, dtype: object"
      ]
     },
     "execution_count": 197,
     "metadata": {},
     "output_type": "execute_result"
    }
   ],
   "source": [
    "gm.Country"
   ]
  },
  {
   "cell_type": "code",
   "execution_count": 198,
   "id": "682a27ce",
   "metadata": {},
   "outputs": [
    {
     "data": {
      "text/plain": [
       "Index(['Afghanistan', 'Bangladesh', 'Bhutan', 'India', 'Maldives', 'Nepal',\n",
       "       'Pakistan', 'Sri Lanka'],\n",
       "      dtype='object', name='Country')"
      ]
     },
     "execution_count": 198,
     "metadata": {},
     "output_type": "execute_result"
    }
   ],
   "source": [
    "saf.index"
   ]
  },
  {
   "cell_type": "code",
   "execution_count": 199,
   "id": "8042c9e2",
   "metadata": {},
   "outputs": [
    {
     "data": {
      "text/plain": [
       "RangeIndex(start=0, stop=10111, step=1)"
      ]
     },
     "execution_count": 199,
     "metadata": {},
     "output_type": "execute_result"
    }
   ],
   "source": [
    "gm.index"
   ]
  },
  {
   "cell_type": "code",
   "execution_count": 204,
   "id": "4238ff70",
   "metadata": {},
   "outputs": [
    {
     "data": {
      "text/plain": [
       "region              Country            \n",
       "America             Antigua and Barbuda    2.52870\n",
       "                    Argentina              2.84316\n",
       "                    Aruba                  2.31578\n",
       "                    Bahamas                2.71720\n",
       "                    Barbados               2.17364\n",
       "                                            ...   \n",
       "Sub-Saharan Africa  Tanzania               6.19576\n",
       "                    Togo                   6.19460\n",
       "                    Uganda                 6.89608\n",
       "                    Zambia                 6.63380\n",
       "                    Zimbabwe               5.60802\n",
       "Name: fertility, Length: 204, dtype: float64"
      ]
     },
     "execution_count": 204,
     "metadata": {},
     "output_type": "execute_result"
    }
   ],
   "source": [
    "# What is the average fertility by country over all regions?\n",
    "frc = gm.groupby(['region', 'Country']).fertility.mean()\n",
    "frc"
   ]
  },
  {
   "cell_type": "code",
   "execution_count": 205,
   "id": "31981be4",
   "metadata": {},
   "outputs": [
    {
     "data": {
      "text/plain": [
       "pandas.core.series.Series"
      ]
     },
     "execution_count": 205,
     "metadata": {},
     "output_type": "execute_result"
    }
   ],
   "source": [
    "type(frc)"
   ]
  },
  {
   "cell_type": "code",
   "execution_count": 206,
   "id": "75aa1ee7",
   "metadata": {},
   "outputs": [
    {
     "data": {
      "text/plain": [
       "MultiIndex([(           'America', 'Antigua and Barbuda'),\n",
       "            (           'America',           'Argentina'),\n",
       "            (           'America',               'Aruba'),\n",
       "            (           'America',             'Bahamas'),\n",
       "            (           'America',            'Barbados'),\n",
       "            (           'America',              'Belize'),\n",
       "            (           'America',             'Bolivia'),\n",
       "            (           'America',              'Brazil'),\n",
       "            (           'America',              'Canada'),\n",
       "            (           'America',               'Chile'),\n",
       "            ...\n",
       "            ('Sub-Saharan Africa',             'Somalia'),\n",
       "            ('Sub-Saharan Africa',        'South Africa'),\n",
       "            ('Sub-Saharan Africa',         'South Sudan'),\n",
       "            ('Sub-Saharan Africa',               'Sudan'),\n",
       "            ('Sub-Saharan Africa',           'Swaziland'),\n",
       "            ('Sub-Saharan Africa',            'Tanzania'),\n",
       "            ('Sub-Saharan Africa',                'Togo'),\n",
       "            ('Sub-Saharan Africa',              'Uganda'),\n",
       "            ('Sub-Saharan Africa',              'Zambia'),\n",
       "            ('Sub-Saharan Africa',            'Zimbabwe')],\n",
       "           names=['region', 'Country'], length=204)"
      ]
     },
     "execution_count": 206,
     "metadata": {},
     "output_type": "execute_result"
    }
   ],
   "source": [
    "frc.index"
   ]
  },
  {
   "cell_type": "code",
   "execution_count": 208,
   "id": "19923349",
   "metadata": {},
   "outputs": [
    {
     "data": {
      "text/plain": [
       "Index(['America', 'East Asia & Pacific', 'Europe & Central Asia',\n",
       "       'Middle East & North Africa', 'South Asia', 'Sub-Saharan Africa'],\n",
       "      dtype='object', name='region')"
      ]
     },
     "execution_count": 208,
     "metadata": {},
     "output_type": "execute_result"
    }
   ],
   "source": [
    "frc.index.levels[0]"
   ]
  },
  {
   "cell_type": "code",
   "execution_count": 209,
   "id": "96c9ddb5",
   "metadata": {},
   "outputs": [
    {
     "data": {
      "text/plain": [
       "Index(['Afghanistan', 'Albania', 'Algeria', 'Angola', 'Antigua and Barbuda',\n",
       "       'Argentina', 'Armenia', 'Aruba', 'Australia', 'Austria',\n",
       "       ...\n",
       "       'Vanuatu', 'Venezuela', 'Vietnam', 'Virgin Islands (U.S.)',\n",
       "       'West Bank and Gaza', 'Western Sahara', 'Yemen, Rep.', 'Zambia',\n",
       "       'Zimbabwe', 'Åland'],\n",
       "      dtype='object', name='Country', length=204)"
      ]
     },
     "execution_count": 209,
     "metadata": {},
     "output_type": "execute_result"
    }
   ],
   "source": [
    "frc.index.levels[1]"
   ]
  },
  {
   "cell_type": "code",
   "execution_count": 211,
   "id": "1d194bb2",
   "metadata": {},
   "outputs": [
    {
     "data": {
      "text/plain": [
       "Year  region                    \n",
       "1964  America                       5.574650\n",
       "      East Asia & Pacific           5.708032\n",
       "      Europe & Central Asia         3.270488\n",
       "      Middle East & North Africa    6.965571\n",
       "      South Asia                    6.480500\n",
       "                                      ...   \n",
       "2013  East Asia & Pacific           2.438062\n",
       "      Europe & Central Asia         1.744627\n",
       "      Middle East & North Africa    2.716095\n",
       "      South Asia                    2.733500\n",
       "      Sub-Saharan Africa            4.611200\n",
       "Name: fertility, Length: 300, dtype: float64"
      ]
     },
     "execution_count": 211,
     "metadata": {},
     "output_type": "execute_result"
    }
   ],
   "source": [
    "# Average fertility over years for all regions?\n",
    "fyr = gm.groupby(['Year','region']).fertility.mean()\n",
    "fyr"
   ]
  },
  {
   "cell_type": "code",
   "execution_count": 215,
   "id": "367475c6",
   "metadata": {},
   "outputs": [
    {
     "data": {
      "text/plain": [
       "MultiIndex([(1964,                    'America'),\n",
       "            (1964,        'East Asia & Pacific'),\n",
       "            (1964,      'Europe & Central Asia'),\n",
       "            (1964, 'Middle East & North Africa'),\n",
       "            (1964,                 'South Asia'),\n",
       "            (1964,         'Sub-Saharan Africa'),\n",
       "            (1965,                    'America'),\n",
       "            (1965,        'East Asia & Pacific'),\n",
       "            (1965,      'Europe & Central Asia'),\n",
       "            (1965, 'Middle East & North Africa'),\n",
       "            ...\n",
       "            (2012,      'Europe & Central Asia'),\n",
       "            (2012, 'Middle East & North Africa'),\n",
       "            (2012,                 'South Asia'),\n",
       "            (2012,         'Sub-Saharan Africa'),\n",
       "            (2013,                    'America'),\n",
       "            (2013,        'East Asia & Pacific'),\n",
       "            (2013,      'Europe & Central Asia'),\n",
       "            (2013, 'Middle East & North Africa'),\n",
       "            (2013,                 'South Asia'),\n",
       "            (2013,         'Sub-Saharan Africa')],\n",
       "           names=['Year', 'region'], length=300)"
      ]
     },
     "execution_count": 215,
     "metadata": {},
     "output_type": "execute_result"
    }
   ],
   "source": [
    "fyr.index"
   ]
  },
  {
   "cell_type": "code",
   "execution_count": 212,
   "id": "a28e086c",
   "metadata": {},
   "outputs": [
    {
     "data": {
      "text/plain": [
       "Int64Index([1964, 1965, 1966, 1967, 1968, 1969, 1970, 1971, 1972, 1973, 1974,\n",
       "            1975, 1976, 1977, 1978, 1979, 1980, 1981, 1982, 1983, 1984, 1985,\n",
       "            1986, 1987, 1988, 1989, 1990, 1991, 1992, 1993, 1994, 1995, 1996,\n",
       "            1997, 1998, 1999, 2000, 2001, 2002, 2003, 2004, 2005, 2006, 2007,\n",
       "            2008, 2009, 2010, 2011, 2012, 2013],\n",
       "           dtype='int64', name='Year')"
      ]
     },
     "execution_count": 212,
     "metadata": {},
     "output_type": "execute_result"
    }
   ],
   "source": [
    "fyr.index.levels[0]"
   ]
  },
  {
   "cell_type": "code",
   "execution_count": 213,
   "id": "d35bcdef",
   "metadata": {},
   "outputs": [
    {
     "data": {
      "text/plain": [
       "Index(['America', 'East Asia & Pacific', 'Europe & Central Asia',\n",
       "       'Middle East & North Africa', 'South Asia', 'Sub-Saharan Africa'],\n",
       "      dtype='object', name='region')"
      ]
     },
     "execution_count": 213,
     "metadata": {},
     "output_type": "execute_result"
    }
   ],
   "source": [
    "fyr.index.levels[1]"
   ]
  },
  {
   "cell_type": "code",
   "execution_count": 214,
   "id": "37cf90ea",
   "metadata": {},
   "outputs": [
    {
     "data": {
      "text/plain": [
       "<matplotlib.axes._subplots.AxesSubplot at 0x1177374f0>"
      ]
     },
     "execution_count": 214,
     "metadata": {},
     "output_type": "execute_result"
    },
    {
     "data": {
      "image/png": "[encoded data removed]",
      "text/plain": [
       "<Figure size 432x288 with 1 Axes>"
      ]
     },
     "metadata": {
      "needs_background": "light"
     },
     "output_type": "display_data"
    }
   ],
   "source": [
    "fyr.plot()"
   ]
  },
  {
   "cell_type": "code",
   "execution_count": 216,
   "id": "5e33950d",
   "metadata": {},
   "outputs": [
    {
     "data": {
      "text/plain": [
       "Year  region                    \n",
       "1964  America                       5.574650\n",
       "      East Asia & Pacific           5.708032\n",
       "      Europe & Central Asia         3.270488\n",
       "      Middle East & North Africa    6.965571\n",
       "      South Asia                    6.480500\n",
       "                                      ...   \n",
       "2013  East Asia & Pacific           2.438062\n",
       "      Europe & Central Asia         1.744627\n",
       "      Middle East & North Africa    2.716095\n",
       "      South Asia                    2.733500\n",
       "      Sub-Saharan Africa            4.611200\n",
       "Name: fertility, Length: 300, dtype: float64"
      ]
     },
     "execution_count": 216,
     "metadata": {},
     "output_type": "execute_result"
    }
   ],
   "source": [
    "fyr"
   ]
  },
  {
   "cell_type": "code",
   "execution_count": 217,
   "id": "65bdc167",
   "metadata": {},
   "outputs": [
    {
     "data": {
      "text/html": [
       "<div>\n",
       "<style scoped>\n",
       "    .dataframe tbody tr th:only-of-type {\n",
       "        vertical-align: middle;\n",
       "    }\n",
       "\n",
       "    .dataframe tbody tr th {\n",
       "        vertical-align: top;\n",
       "    }\n",
       "\n",
       "    .dataframe thead th {\n",
       "        text-align: right;\n",
       "    }\n",
       "</style>\n",
       "<table border=\"1\" class=\"dataframe\">\n",
       "  <thead>\n",
       "    <tr style=\"text-align: right;\">\n",
       "      <th>region</th>\n",
       "      <th>America</th>\n",
       "      <th>East Asia &amp; Pacific</th>\n",
       "      <th>Europe &amp; Central Asia</th>\n",
       "      <th>Middle East &amp; North Africa</th>\n",
       "      <th>South Asia</th>\n",
       "      <th>Sub-Saharan Africa</th>\n",
       "    </tr>\n",
       "    <tr>\n",
       "      <th>Year</th>\n",
       "      <th></th>\n",
       "      <th></th>\n",
       "      <th></th>\n",
       "      <th></th>\n",
       "      <th></th>\n",
       "      <th></th>\n",
       "    </tr>\n",
       "  </thead>\n",
       "  <tbody>\n",
       "    <tr>\n",
       "      <th>1964</th>\n",
       "      <td>5.574650</td>\n",
       "      <td>5.708032</td>\n",
       "      <td>3.270488</td>\n",
       "      <td>6.965571</td>\n",
       "      <td>6.480500</td>\n",
       "      <td>6.62670</td>\n",
       "    </tr>\n",
       "    <tr>\n",
       "      <th>1965</th>\n",
       "      <td>5.472600</td>\n",
       "      <td>5.618558</td>\n",
       "      <td>3.209916</td>\n",
       "      <td>6.968190</td>\n",
       "      <td>6.469625</td>\n",
       "      <td>6.63570</td>\n",
       "    </tr>\n",
       "    <tr>\n",
       "      <th>1966</th>\n",
       "      <td>5.362125</td>\n",
       "      <td>5.545362</td>\n",
       "      <td>3.158485</td>\n",
       "      <td>6.958905</td>\n",
       "      <td>6.456500</td>\n",
       "      <td>6.64230</td>\n",
       "    </tr>\n",
       "    <tr>\n",
       "      <th>1967</th>\n",
       "      <td>5.248675</td>\n",
       "      <td>5.427643</td>\n",
       "      <td>3.120589</td>\n",
       "      <td>6.938810</td>\n",
       "      <td>6.440125</td>\n",
       "      <td>6.64876</td>\n",
       "    </tr>\n",
       "    <tr>\n",
       "      <th>1968</th>\n",
       "      <td>5.134850</td>\n",
       "      <td>5.382658</td>\n",
       "      <td>3.050267</td>\n",
       "      <td>6.908905</td>\n",
       "      <td>6.419000</td>\n",
       "      <td>6.65588</td>\n",
       "    </tr>\n",
       "    <tr>\n",
       "      <th>1969</th>\n",
       "      <td>5.023675</td>\n",
       "      <td>5.279176</td>\n",
       "      <td>2.966311</td>\n",
       "      <td>6.870048</td>\n",
       "      <td>6.394250</td>\n",
       "      <td>6.66380</td>\n",
       "    </tr>\n",
       "    <tr>\n",
       "      <th>1970</th>\n",
       "      <td>4.911475</td>\n",
       "      <td>5.196323</td>\n",
       "      <td>2.896338</td>\n",
       "      <td>6.824714</td>\n",
       "      <td>6.365500</td>\n",
       "      <td>6.67182</td>\n",
       "    </tr>\n",
       "    <tr>\n",
       "      <th>1971</th>\n",
       "      <td>4.790800</td>\n",
       "      <td>5.102000</td>\n",
       "      <td>2.838488</td>\n",
       "      <td>6.774952</td>\n",
       "      <td>6.333250</td>\n",
       "      <td>6.67922</td>\n",
       "    </tr>\n",
       "    <tr>\n",
       "      <th>1972</th>\n",
       "      <td>4.666150</td>\n",
       "      <td>4.983931</td>\n",
       "      <td>2.777901</td>\n",
       "      <td>6.723143</td>\n",
       "      <td>6.299125</td>\n",
       "      <td>6.68396</td>\n",
       "    </tr>\n",
       "    <tr>\n",
       "      <th>1973</th>\n",
       "      <td>4.544250</td>\n",
       "      <td>4.855352</td>\n",
       "      <td>2.717486</td>\n",
       "      <td>6.670714</td>\n",
       "      <td>6.263500</td>\n",
       "      <td>6.68478</td>\n",
       "    </tr>\n",
       "    <tr>\n",
       "      <th>1974</th>\n",
       "      <td>4.425050</td>\n",
       "      <td>4.725583</td>\n",
       "      <td>2.670097</td>\n",
       "      <td>6.618333</td>\n",
       "      <td>6.227375</td>\n",
       "      <td>6.68096</td>\n",
       "    </tr>\n",
       "    <tr>\n",
       "      <th>1975</th>\n",
       "      <td>4.308250</td>\n",
       "      <td>4.585247</td>\n",
       "      <td>2.616382</td>\n",
       "      <td>6.566524</td>\n",
       "      <td>6.191375</td>\n",
       "      <td>6.67224</td>\n",
       "    </tr>\n",
       "    <tr>\n",
       "      <th>1976</th>\n",
       "      <td>4.194700</td>\n",
       "      <td>4.461098</td>\n",
       "      <td>2.556596</td>\n",
       "      <td>6.514524</td>\n",
       "      <td>6.155000</td>\n",
       "      <td>6.65880</td>\n",
       "    </tr>\n",
       "    <tr>\n",
       "      <th>1977</th>\n",
       "      <td>4.089700</td>\n",
       "      <td>4.344231</td>\n",
       "      <td>2.505276</td>\n",
       "      <td>6.460524</td>\n",
       "      <td>6.119125</td>\n",
       "      <td>6.64098</td>\n",
       "    </tr>\n",
       "    <tr>\n",
       "      <th>1978</th>\n",
       "      <td>3.989000</td>\n",
       "      <td>4.245079</td>\n",
       "      <td>2.455790</td>\n",
       "      <td>6.401810</td>\n",
       "      <td>6.082750</td>\n",
       "      <td>6.61948</td>\n",
       "    </tr>\n",
       "    <tr>\n",
       "      <th>1979</th>\n",
       "      <td>3.899650</td>\n",
       "      <td>4.175213</td>\n",
       "      <td>2.413678</td>\n",
       "      <td>6.336333</td>\n",
       "      <td>6.044750</td>\n",
       "      <td>6.59432</td>\n",
       "    </tr>\n",
       "    <tr>\n",
       "      <th>1980</th>\n",
       "      <td>3.817075</td>\n",
       "      <td>4.096585</td>\n",
       "      <td>2.382813</td>\n",
       "      <td>6.260905</td>\n",
       "      <td>6.003875</td>\n",
       "      <td>6.56576</td>\n",
       "    </tr>\n",
       "    <tr>\n",
       "      <th>1981</th>\n",
       "      <td>3.740400</td>\n",
       "      <td>4.055627</td>\n",
       "      <td>2.346255</td>\n",
       "      <td>6.172714</td>\n",
       "      <td>5.960125</td>\n",
       "      <td>6.53388</td>\n",
       "    </tr>\n",
       "    <tr>\n",
       "      <th>1982</th>\n",
       "      <td>3.669100</td>\n",
       "      <td>3.994264</td>\n",
       "      <td>2.316378</td>\n",
       "      <td>6.070429</td>\n",
       "      <td>5.911750</td>\n",
       "      <td>6.49862</td>\n",
       "    </tr>\n",
       "    <tr>\n",
       "      <th>1983</th>\n",
       "      <td>3.600350</td>\n",
       "      <td>3.933909</td>\n",
       "      <td>2.285754</td>\n",
       "      <td>5.953905</td>\n",
       "      <td>5.857375</td>\n",
       "      <td>6.45982</td>\n",
       "    </tr>\n",
       "    <tr>\n",
       "      <th>1984</th>\n",
       "      <td>3.535450</td>\n",
       "      <td>3.871216</td>\n",
       "      <td>2.270117</td>\n",
       "      <td>5.823524</td>\n",
       "      <td>5.795375</td>\n",
       "      <td>6.41718</td>\n",
       "    </tr>\n",
       "    <tr>\n",
       "      <th>1985</th>\n",
       "      <td>3.472500</td>\n",
       "      <td>3.805854</td>\n",
       "      <td>2.256559</td>\n",
       "      <td>5.680476</td>\n",
       "      <td>5.723750</td>\n",
       "      <td>6.36960</td>\n",
       "    </tr>\n",
       "    <tr>\n",
       "      <th>1986</th>\n",
       "      <td>3.410750</td>\n",
       "      <td>3.725742</td>\n",
       "      <td>2.238739</td>\n",
       "      <td>5.526762</td>\n",
       "      <td>5.639500</td>\n",
       "      <td>6.31574</td>\n",
       "    </tr>\n",
       "    <tr>\n",
       "      <th>1987</th>\n",
       "      <td>3.351600</td>\n",
       "      <td>3.665244</td>\n",
       "      <td>2.219825</td>\n",
       "      <td>5.365476</td>\n",
       "      <td>5.542875</td>\n",
       "      <td>6.25552</td>\n",
       "    </tr>\n",
       "    <tr>\n",
       "      <th>1988</th>\n",
       "      <td>3.296600</td>\n",
       "      <td>3.614631</td>\n",
       "      <td>2.201351</td>\n",
       "      <td>5.200571</td>\n",
       "      <td>5.434625</td>\n",
       "      <td>6.18908</td>\n",
       "    </tr>\n",
       "    <tr>\n",
       "      <th>1989</th>\n",
       "      <td>3.244175</td>\n",
       "      <td>3.535748</td>\n",
       "      <td>2.168117</td>\n",
       "      <td>5.034571</td>\n",
       "      <td>5.316000</td>\n",
       "      <td>6.11772</td>\n",
       "    </tr>\n",
       "    <tr>\n",
       "      <th>1990</th>\n",
       "      <td>3.193000</td>\n",
       "      <td>3.480539</td>\n",
       "      <td>2.132008</td>\n",
       "      <td>4.869571</td>\n",
       "      <td>5.190625</td>\n",
       "      <td>6.04328</td>\n",
       "    </tr>\n",
       "    <tr>\n",
       "      <th>1991</th>\n",
       "      <td>3.138375</td>\n",
       "      <td>3.407128</td>\n",
       "      <td>2.082167</td>\n",
       "      <td>4.706571</td>\n",
       "      <td>5.062125</td>\n",
       "      <td>5.96784</td>\n",
       "    </tr>\n",
       "    <tr>\n",
       "      <th>1992</th>\n",
       "      <td>3.083725</td>\n",
       "      <td>3.342734</td>\n",
       "      <td>2.035916</td>\n",
       "      <td>4.545667</td>\n",
       "      <td>4.933625</td>\n",
       "      <td>5.89356</td>\n",
       "    </tr>\n",
       "    <tr>\n",
       "      <th>1993</th>\n",
       "      <td>3.027850</td>\n",
       "      <td>3.277188</td>\n",
       "      <td>1.979326</td>\n",
       "      <td>4.387667</td>\n",
       "      <td>4.808625</td>\n",
       "      <td>5.82200</td>\n",
       "    </tr>\n",
       "    <tr>\n",
       "      <th>1994</th>\n",
       "      <td>2.972475</td>\n",
       "      <td>3.210529</td>\n",
       "      <td>1.929567</td>\n",
       "      <td>4.233905</td>\n",
       "      <td>4.687500</td>\n",
       "      <td>5.75420</td>\n",
       "    </tr>\n",
       "    <tr>\n",
       "      <th>1995</th>\n",
       "      <td>2.916525</td>\n",
       "      <td>3.147037</td>\n",
       "      <td>1.869216</td>\n",
       "      <td>4.085905</td>\n",
       "      <td>4.569375</td>\n",
       "      <td>5.69058</td>\n",
       "    </tr>\n",
       "    <tr>\n",
       "      <th>1996</th>\n",
       "      <td>2.860675</td>\n",
       "      <td>3.083040</td>\n",
       "      <td>1.819765</td>\n",
       "      <td>3.944048</td>\n",
       "      <td>4.452375</td>\n",
       "      <td>5.63068</td>\n",
       "    </tr>\n",
       "    <tr>\n",
       "      <th>1997</th>\n",
       "      <td>2.805150</td>\n",
       "      <td>3.020923</td>\n",
       "      <td>1.777608</td>\n",
       "      <td>3.808905</td>\n",
       "      <td>4.333250</td>\n",
       "      <td>5.57310</td>\n",
       "    </tr>\n",
       "    <tr>\n",
       "      <th>1998</th>\n",
       "      <td>2.753225</td>\n",
       "      <td>2.945471</td>\n",
       "      <td>1.731471</td>\n",
       "      <td>3.680429</td>\n",
       "      <td>4.210250</td>\n",
       "      <td>5.51640</td>\n",
       "    </tr>\n",
       "    <tr>\n",
       "      <th>1999</th>\n",
       "      <td>2.702700</td>\n",
       "      <td>2.892989</td>\n",
       "      <td>1.697235</td>\n",
       "      <td>3.560095</td>\n",
       "      <td>4.084500</td>\n",
       "      <td>5.46016</td>\n",
       "    </tr>\n",
       "    <tr>\n",
       "      <th>2000</th>\n",
       "      <td>2.655350</td>\n",
       "      <td>2.847349</td>\n",
       "      <td>1.673431</td>\n",
       "      <td>3.448667</td>\n",
       "      <td>3.957000</td>\n",
       "      <td>5.40386</td>\n",
       "    </tr>\n",
       "    <tr>\n",
       "      <th>2001</th>\n",
       "      <td>2.611125</td>\n",
       "      <td>2.782993</td>\n",
       "      <td>1.656804</td>\n",
       "      <td>3.346810</td>\n",
       "      <td>3.830750</td>\n",
       "      <td>5.34738</td>\n",
       "    </tr>\n",
       "    <tr>\n",
       "      <th>2002</th>\n",
       "      <td>2.568975</td>\n",
       "      <td>2.737188</td>\n",
       "      <td>1.652529</td>\n",
       "      <td>3.254952</td>\n",
       "      <td>3.708500</td>\n",
       "      <td>5.29068</td>\n",
       "    </tr>\n",
       "    <tr>\n",
       "      <th>2003</th>\n",
       "      <td>2.531750</td>\n",
       "      <td>2.693344</td>\n",
       "      <td>1.655412</td>\n",
       "      <td>3.172286</td>\n",
       "      <td>3.592750</td>\n",
       "      <td>5.23344</td>\n",
       "    </tr>\n",
       "    <tr>\n",
       "      <th>2004</th>\n",
       "      <td>2.496750</td>\n",
       "      <td>2.659625</td>\n",
       "      <td>1.663431</td>\n",
       "      <td>3.098857</td>\n",
       "      <td>3.484250</td>\n",
       "      <td>5.17574</td>\n",
       "    </tr>\n",
       "    <tr>\n",
       "      <th>2005</th>\n",
       "      <td>2.464575</td>\n",
       "      <td>2.630688</td>\n",
       "      <td>1.670333</td>\n",
       "      <td>3.034571</td>\n",
       "      <td>3.383250</td>\n",
       "      <td>5.11708</td>\n",
       "    </tr>\n",
       "    <tr>\n",
       "      <th>2006</th>\n",
       "      <td>2.436825</td>\n",
       "      <td>2.607469</td>\n",
       "      <td>1.682020</td>\n",
       "      <td>2.979238</td>\n",
       "      <td>3.288875</td>\n",
       "      <td>5.05748</td>\n",
       "    </tr>\n",
       "    <tr>\n",
       "      <th>2007</th>\n",
       "      <td>2.409650</td>\n",
       "      <td>2.587219</td>\n",
       "      <td>1.698459</td>\n",
       "      <td>2.931905</td>\n",
       "      <td>3.199375</td>\n",
       "      <td>4.99668</td>\n",
       "    </tr>\n",
       "    <tr>\n",
       "      <th>2008</th>\n",
       "      <td>2.382195</td>\n",
       "      <td>2.563375</td>\n",
       "      <td>1.714829</td>\n",
       "      <td>2.890619</td>\n",
       "      <td>3.113375</td>\n",
       "      <td>4.93504</td>\n",
       "    </tr>\n",
       "    <tr>\n",
       "      <th>2009</th>\n",
       "      <td>2.354250</td>\n",
       "      <td>2.537000</td>\n",
       "      <td>1.730784</td>\n",
       "      <td>2.854238</td>\n",
       "      <td>3.030625</td>\n",
       "      <td>4.87232</td>\n",
       "    </tr>\n",
       "    <tr>\n",
       "      <th>2010</th>\n",
       "      <td>2.326522</td>\n",
       "      <td>2.508000</td>\n",
       "      <td>1.735963</td>\n",
       "      <td>2.820143</td>\n",
       "      <td>2.950625</td>\n",
       "      <td>4.80856</td>\n",
       "    </tr>\n",
       "    <tr>\n",
       "      <th>2011</th>\n",
       "      <td>2.300951</td>\n",
       "      <td>2.488062</td>\n",
       "      <td>1.730835</td>\n",
       "      <td>2.786381</td>\n",
       "      <td>2.874125</td>\n",
       "      <td>4.74362</td>\n",
       "    </tr>\n",
       "    <tr>\n",
       "      <th>2012</th>\n",
       "      <td>2.278826</td>\n",
       "      <td>2.469531</td>\n",
       "      <td>1.735141</td>\n",
       "      <td>2.752095</td>\n",
       "      <td>2.801875</td>\n",
       "      <td>4.67774</td>\n",
       "    </tr>\n",
       "    <tr>\n",
       "      <th>2013</th>\n",
       "      <td>2.258025</td>\n",
       "      <td>2.438062</td>\n",
       "      <td>1.744627</td>\n",
       "      <td>2.716095</td>\n",
       "      <td>2.733500</td>\n",
       "      <td>4.61120</td>\n",
       "    </tr>\n",
       "  </tbody>\n",
       "</table>\n",
       "</div>"
      ],
      "text/plain": [
       "region   America  East Asia & Pacific  Europe & Central Asia  \\\n",
       "Year                                                           \n",
       "1964    5.574650             5.708032               3.270488   \n",
       "1965    5.472600             5.618558               3.209916   \n",
       "1966    5.362125             5.545362               3.158485   \n",
       "1967    5.248675             5.427643               3.120589   \n",
       "1968    5.134850             5.382658               3.050267   \n",
       "1969    5.023675             5.279176               2.966311   \n",
       "1970    4.911475             5.196323               2.896338   \n",
       "1971    4.790800             5.102000               2.838488   \n",
       "1972    4.666150             4.983931               2.777901   \n",
       "1973    4.544250             4.855352               2.717486   \n",
       "1974    4.425050             4.725583               2.670097   \n",
       "1975    4.308250             4.585247               2.616382   \n",
       "1976    4.194700             4.461098               2.556596   \n",
       "1977    4.089700             4.344231               2.505276   \n",
       "1978    3.989000             4.245079               2.455790   \n",
       "1979    3.899650             4.175213               2.413678   \n",
       "1980    3.817075             4.096585               2.382813   \n",
       "1981    3.740400             4.055627               2.346255   \n",
       "1982    3.669100             3.994264               2.316378   \n",
       "1983    3.600350             3.933909               2.285754   \n",
       "1984    3.535450             3.871216               2.270117   \n",
       "1985    3.472500             3.805854               2.256559   \n",
       "1986    3.410750             3.725742               2.238739   \n",
       "1987    3.351600             3.665244               2.219825   \n",
       "1988    3.296600             3.614631               2.201351   \n",
       "1989    3.244175             3.535748               2.168117   \n",
       "1990    3.193000             3.480539               2.132008   \n",
       "1991    3.138375             3.407128               2.082167   \n",
       "1992    3.083725             3.342734               2.035916   \n",
       "1993    3.027850             3.277188               1.979326   \n",
       "1994    2.972475             3.210529               1.929567   \n",
       "1995    2.916525             3.147037               1.869216   \n",
       "1996    2.860675             3.083040               1.819765   \n",
       "1997    2.805150             3.020923               1.777608   \n",
       "1998    2.753225             2.945471               1.731471   \n",
       "1999    2.702700             2.892989               1.697235   \n",
       "2000    2.655350             2.847349               1.673431   \n",
       "2001    2.611125             2.782993               1.656804   \n",
       "2002    2.568975             2.737188               1.652529   \n",
       "2003    2.531750             2.693344               1.655412   \n",
       "2004    2.496750             2.659625               1.663431   \n",
       "2005    2.464575             2.630688               1.670333   \n",
       "2006    2.436825             2.607469               1.682020   \n",
       "2007    2.409650             2.587219               1.698459   \n",
       "2008    2.382195             2.563375               1.714829   \n",
       "2009    2.354250             2.537000               1.730784   \n",
       "2010    2.326522             2.508000               1.735963   \n",
       "2011    2.300951             2.488062               1.730835   \n",
       "2012    2.278826             2.469531               1.735141   \n",
       "2013    2.258025             2.438062               1.744627   \n",
       "\n",
       "region  Middle East & North Africa  South Asia  Sub-Saharan Africa  \n",
       "Year                                                                \n",
       "1964                      6.965571    6.480500             6.62670  \n",
       "1965                      6.968190    6.469625             6.63570  \n",
       "1966                      6.958905    6.456500             6.64230  \n",
       "1967                      6.938810    6.440125             6.64876  \n",
       "1968                      6.908905    6.419000             6.65588  \n",
       "1969                      6.870048    6.394250             6.66380  \n",
       "1970                      6.824714    6.365500             6.67182  \n",
       "1971                      6.774952    6.333250             6.67922  \n",
       "1972                      6.723143    6.299125             6.68396  \n",
       "1973                      6.670714    6.263500             6.68478  \n",
       "1974                      6.618333    6.227375             6.68096  \n",
       "1975                      6.566524    6.191375             6.67224  \n",
       "1976                      6.514524    6.155000             6.65880  \n",
       "1977                      6.460524    6.119125             6.64098  \n",
       "1978                      6.401810    6.082750             6.61948  \n",
       "1979                      6.336333    6.044750             6.59432  \n",
       "1980                      6.260905    6.003875             6.56576  \n",
       "1981                      6.172714    5.960125             6.53388  \n",
       "1982                      6.070429    5.911750             6.49862  \n",
       "1983                      5.953905    5.857375             6.45982  \n",
       "1984                      5.823524    5.795375             6.41718  \n",
       "1985                      5.680476    5.723750             6.36960  \n",
       "1986                      5.526762    5.639500             6.31574  \n",
       "1987                      5.365476    5.542875             6.25552  \n",
       "1988                      5.200571    5.434625             6.18908  \n",
       "1989                      5.034571    5.316000             6.11772  \n",
       "1990                      4.869571    5.190625             6.04328  \n",
       "1991                      4.706571    5.062125             5.96784  \n",
       "1992                      4.545667    4.933625             5.89356  \n",
       "1993                      4.387667    4.808625             5.82200  \n",
       "1994                      4.233905    4.687500             5.75420  \n",
       "1995                      4.085905    4.569375             5.69058  \n",
       "1996                      3.944048    4.452375             5.63068  \n",
       "1997                      3.808905    4.333250             5.57310  \n",
       "1998                      3.680429    4.210250             5.51640  \n",
       "1999                      3.560095    4.084500             5.46016  \n",
       "2000                      3.448667    3.957000             5.40386  \n",
       "2001                      3.346810    3.830750             5.34738  \n",
       "2002                      3.254952    3.708500             5.29068  \n",
       "2003                      3.172286    3.592750             5.23344  \n",
       "2004                      3.098857    3.484250             5.17574  \n",
       "2005                      3.034571    3.383250             5.11708  \n",
       "2006                      2.979238    3.288875             5.05748  \n",
       "2007                      2.931905    3.199375             4.99668  \n",
       "2008                      2.890619    3.113375             4.93504  \n",
       "2009                      2.854238    3.030625             4.87232  \n",
       "2010                      2.820143    2.950625             4.80856  \n",
       "2011                      2.786381    2.874125             4.74362  \n",
       "2012                      2.752095    2.801875             4.67774  \n",
       "2013                      2.716095    2.733500             4.61120  "
      ]
     },
     "execution_count": 217,
     "metadata": {},
     "output_type": "execute_result"
    }
   ],
   "source": [
    "fyr.unstack()"
   ]
  },
  {
   "cell_type": "code",
   "execution_count": 219,
   "id": "f3fc4ee8",
   "metadata": {},
   "outputs": [
    {
     "data": {
      "text/plain": [
       "<matplotlib.axes._subplots.AxesSubplot at 0x11b9c2100>"
      ]
     },
     "execution_count": 219,
     "metadata": {},
     "output_type": "execute_result"
    },
    {
     "data": {
      "image/png": "[encoded data removed]",
      "text/plain": [
       "<Figure size 864x360 with 1 Axes>"
      ]
     },
     "metadata": {
      "needs_background": "light"
     },
     "output_type": "display_data"
    }
   ],
   "source": [
    "fyr.unstack().plot(figsize=(12,5))"
   ]
  },
  {
   "cell_type": "code",
   "execution_count": 220,
   "id": "16bbdef7",
   "metadata": {},
   "outputs": [
    {
     "data": {
      "text/html": [
       "<div>\n",
       "<style scoped>\n",
       "    .dataframe tbody tr th:only-of-type {\n",
       "        vertical-align: middle;\n",
       "    }\n",
       "\n",
       "    .dataframe tbody tr th {\n",
       "        vertical-align: top;\n",
       "    }\n",
       "\n",
       "    .dataframe thead th {\n",
       "        text-align: right;\n",
       "    }\n",
       "</style>\n",
       "<table border=\"1\" class=\"dataframe\">\n",
       "  <thead>\n",
       "    <tr style=\"text-align: right;\">\n",
       "      <th></th>\n",
       "      <th>total_bill</th>\n",
       "      <th>tip</th>\n",
       "      <th>sex</th>\n",
       "      <th>smoker</th>\n",
       "      <th>day</th>\n",
       "      <th>time</th>\n",
       "      <th>size</th>\n",
       "      <th>fraction</th>\n",
       "    </tr>\n",
       "  </thead>\n",
       "  <tbody>\n",
       "    <tr>\n",
       "      <th>0</th>\n",
       "      <td>16.99</td>\n",
       "      <td>1.01</td>\n",
       "      <td>Female</td>\n",
       "      <td>No</td>\n",
       "      <td>Sun</td>\n",
       "      <td>Dinner</td>\n",
       "      <td>2</td>\n",
       "      <td>0.059447</td>\n",
       "    </tr>\n",
       "    <tr>\n",
       "      <th>1</th>\n",
       "      <td>10.34</td>\n",
       "      <td>1.66</td>\n",
       "      <td>Male</td>\n",
       "      <td>No</td>\n",
       "      <td>Sun</td>\n",
       "      <td>Dinner</td>\n",
       "      <td>3</td>\n",
       "      <td>0.160542</td>\n",
       "    </tr>\n",
       "    <tr>\n",
       "      <th>2</th>\n",
       "      <td>21.01</td>\n",
       "      <td>3.50</td>\n",
       "      <td>Male</td>\n",
       "      <td>No</td>\n",
       "      <td>Sun</td>\n",
       "      <td>Dinner</td>\n",
       "      <td>3</td>\n",
       "      <td>0.166587</td>\n",
       "    </tr>\n",
       "    <tr>\n",
       "      <th>3</th>\n",
       "      <td>23.68</td>\n",
       "      <td>3.31</td>\n",
       "      <td>Male</td>\n",
       "      <td>No</td>\n",
       "      <td>Sun</td>\n",
       "      <td>Dinner</td>\n",
       "      <td>2</td>\n",
       "      <td>0.139780</td>\n",
       "    </tr>\n",
       "    <tr>\n",
       "      <th>4</th>\n",
       "      <td>24.59</td>\n",
       "      <td>3.61</td>\n",
       "      <td>Female</td>\n",
       "      <td>No</td>\n",
       "      <td>Sun</td>\n",
       "      <td>Dinner</td>\n",
       "      <td>4</td>\n",
       "      <td>0.146808</td>\n",
       "    </tr>\n",
       "    <tr>\n",
       "      <th>...</th>\n",
       "      <td>...</td>\n",
       "      <td>...</td>\n",
       "      <td>...</td>\n",
       "      <td>...</td>\n",
       "      <td>...</td>\n",
       "      <td>...</td>\n",
       "      <td>...</td>\n",
       "      <td>...</td>\n",
       "    </tr>\n",
       "    <tr>\n",
       "      <th>239</th>\n",
       "      <td>29.03</td>\n",
       "      <td>5.92</td>\n",
       "      <td>Male</td>\n",
       "      <td>No</td>\n",
       "      <td>Sat</td>\n",
       "      <td>Dinner</td>\n",
       "      <td>3</td>\n",
       "      <td>0.203927</td>\n",
       "    </tr>\n",
       "    <tr>\n",
       "      <th>240</th>\n",
       "      <td>27.18</td>\n",
       "      <td>2.00</td>\n",
       "      <td>Female</td>\n",
       "      <td>Yes</td>\n",
       "      <td>Sat</td>\n",
       "      <td>Dinner</td>\n",
       "      <td>2</td>\n",
       "      <td>0.073584</td>\n",
       "    </tr>\n",
       "    <tr>\n",
       "      <th>241</th>\n",
       "      <td>22.67</td>\n",
       "      <td>2.00</td>\n",
       "      <td>Male</td>\n",
       "      <td>Yes</td>\n",
       "      <td>Sat</td>\n",
       "      <td>Dinner</td>\n",
       "      <td>2</td>\n",
       "      <td>0.088222</td>\n",
       "    </tr>\n",
       "    <tr>\n",
       "      <th>242</th>\n",
       "      <td>17.82</td>\n",
       "      <td>1.75</td>\n",
       "      <td>Male</td>\n",
       "      <td>No</td>\n",
       "      <td>Sat</td>\n",
       "      <td>Dinner</td>\n",
       "      <td>2</td>\n",
       "      <td>0.098204</td>\n",
       "    </tr>\n",
       "    <tr>\n",
       "      <th>243</th>\n",
       "      <td>18.78</td>\n",
       "      <td>3.00</td>\n",
       "      <td>Female</td>\n",
       "      <td>No</td>\n",
       "      <td>Thur</td>\n",
       "      <td>Dinner</td>\n",
       "      <td>2</td>\n",
       "      <td>0.159744</td>\n",
       "    </tr>\n",
       "  </tbody>\n",
       "</table>\n",
       "<p>244 rows × 8 columns</p>\n",
       "</div>"
      ],
      "text/plain": [
       "     total_bill   tip     sex smoker   day    time  size  fraction\n",
       "0         16.99  1.01  Female     No   Sun  Dinner     2  0.059447\n",
       "1         10.34  1.66    Male     No   Sun  Dinner     3  0.160542\n",
       "2         21.01  3.50    Male     No   Sun  Dinner     3  0.166587\n",
       "3         23.68  3.31    Male     No   Sun  Dinner     2  0.139780\n",
       "4         24.59  3.61  Female     No   Sun  Dinner     4  0.146808\n",
       "..          ...   ...     ...    ...   ...     ...   ...       ...\n",
       "239       29.03  5.92    Male     No   Sat  Dinner     3  0.203927\n",
       "240       27.18  2.00  Female    Yes   Sat  Dinner     2  0.073584\n",
       "241       22.67  2.00    Male    Yes   Sat  Dinner     2  0.088222\n",
       "242       17.82  1.75    Male     No   Sat  Dinner     2  0.098204\n",
       "243       18.78  3.00  Female     No  Thur  Dinner     2  0.159744\n",
       "\n",
       "[244 rows x 8 columns]"
      ]
     },
     "execution_count": 220,
     "metadata": {},
     "output_type": "execute_result"
    }
   ],
   "source": [
    "tips"
   ]
  },
  {
   "cell_type": "code",
   "execution_count": 247,
   "id": "e08cf7fd",
   "metadata": {},
   "outputs": [
    {
     "data": {
      "text/plain": [
       "day   time  \n",
       "Fri   Dinner    3.246000\n",
       "      Lunch     1.900000\n",
       "Sat   Dinner    2.879259\n",
       "Sun   Dinner    3.521333\n",
       "Thur  Lunch     3.058000\n",
       "Name: tip, dtype: float64"
      ]
     },
     "execution_count": 247,
     "metadata": {},
     "output_type": "execute_result"
    }
   ],
   "source": [
    "# 1. What are the types of all columns?\n",
    "tips.dtypes\n",
    "\n",
    "# 2. Statistical details for the numeric columns\n",
    "tips.describe(include=['O'])\n",
    "tips.describe()\n",
    "\n",
    "# 3. How much data for Males and Females?\n",
    "tips.groupby('sex').size()\n",
    "tips.sex.value_counts()\n",
    "\n",
    "# 4. What is the average tip amount over the sex column?\n",
    "tips.groupby('sex').tip.mean()\n",
    "\n",
    "# 5. What is the max total bill amount over the days and time of day?\n",
    "tips.groupby(['day', 'time']).total_bill.max()\n",
    "\n",
    "# 6. Average bill amount (and tip) over sex and smoker status?\n",
    "tips.groupby(['sex', 'smoker']).total_bill.mean()\n",
    "tips.groupby(['sex', 'smoker'])['total_bill'].mean()\n",
    "tips.groupby(['sex', 'smoker'])[['total_bill','tip']].mean()\n",
    "\n",
    "# 7. For Male smokers, what is the average tip amount over the days and time of day?\n",
    "tips[(tips.sex == 'Male') & (tips.smoker == 'Yes')].groupby(['day', 'time']).tip.mean()"
   ]
  },
  {
   "cell_type": "code",
   "execution_count": 249,
   "id": "35a822da",
   "metadata": {},
   "outputs": [
    {
     "data": {
      "text/plain": [
       "day   time  \n",
       "Fri   Dinner     4.73\n",
       "      Lunch      3.48\n",
       "Sat   Dinner    10.00\n",
       "Sun   Dinner     6.50\n",
       "Thur  Dinner     3.00\n",
       "      Lunch      6.70\n",
       "Name: tip, dtype: float64"
      ]
     },
     "execution_count": 249,
     "metadata": {},
     "output_type": "execute_result"
    }
   ],
   "source": [
    "tips.groupby(['day', 'time']).tip.max()"
   ]
  },
  {
   "cell_type": "code",
   "execution_count": 239,
   "id": "ea1cbb11",
   "metadata": {},
   "outputs": [
    {
     "data": {
      "text/plain": [
       "array(['Thur', 'Fri'], dtype=object)"
      ]
     },
     "execution_count": 239,
     "metadata": {},
     "output_type": "execute_result"
    }
   ],
   "source": [
    "tips[tips.time == 'Lunch'].day.unique()"
   ]
  },
  {
   "cell_type": "code",
   "execution_count": 221,
   "id": "6ba6f616",
   "metadata": {},
   "outputs": [
    {
     "data": {
      "text/plain": [
       "array(['Dinner', 'Lunch'], dtype=object)"
      ]
     },
     "execution_count": 221,
     "metadata": {},
     "output_type": "execute_result"
    }
   ],
   "source": [
    "tips.time.unique()"
   ]
  },
  {
   "cell_type": "code",
   "execution_count": 222,
   "id": "ab9a95ae",
   "metadata": {},
   "outputs": [
    {
     "data": {
      "text/plain": [
       "array(['Sun', 'Sat', 'Thur', 'Fri'], dtype=object)"
      ]
     },
     "execution_count": 222,
     "metadata": {},
     "output_type": "execute_result"
    }
   ],
   "source": [
    "tips.day.unique()"
   ]
  },
  {
   "cell_type": "code",
   "execution_count": null,
   "id": "d5f620b2",
   "metadata": {},
   "outputs": [],
   "source": []
  }
 ],
 "metadata": {
  "kernelspec": {
   "display_name": "Python 3",
   "language": "python",
   "name": "python3"
  },
  "language_info": {
   "codemirror_mode": {
    "name": "ipython",
    "version": 3
   },
   "file_extension": ".py",
   "mimetype": "text/x-python",
   "name": "python",
   "nbconvert_exporter": "python",
   "pygments_lexer": "ipython3",
   "version": "3.8.16"
  }
 },
 "nbformat": 4,
 "nbformat_minor": 5
}
