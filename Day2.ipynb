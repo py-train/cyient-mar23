{
 "cells": [
  {
   "cell_type": "markdown",
   "id": "ef4a3d30",
   "metadata": {},
   "source": [
    "# Day2 : Agenda\n",
    "\n",
    "- str conclusion\n",
    "- lists\n",
    "- loops\n",
    "- if-else"
   ]
  },
  {
   "cell_type": "code",
   "execution_count": 1,
   "id": "3b4ad98b",
   "metadata": {},
   "outputs": [],
   "source": [
    "name = 'mohandas KARAMCHAND Gandhi'"
   ]
  },
  {
   "cell_type": "code",
   "execution_count": 2,
   "id": "d00e8adf",
   "metadata": {},
   "outputs": [
    {
     "data": {
      "text/plain": [
       "['mohandas', 'KARAMCHAND', 'Gandhi']"
      ]
     },
     "execution_count": 2,
     "metadata": {},
     "output_type": "execute_result"
    }
   ],
   "source": [
    "name.split()"
   ]
  },
  {
   "cell_type": "code",
   "execution_count": 4,
   "id": "ce862a48",
   "metadata": {},
   "outputs": [
    {
     "data": {
      "text/plain": [
       "['a', 'b', 'c']"
      ]
     },
     "execution_count": 4,
     "metadata": {},
     "output_type": "execute_result"
    }
   ],
   "source": [
    "'a,b,c'.split(',')"
   ]
  },
  {
   "cell_type": "code",
   "execution_count": 5,
   "id": "ae26d954",
   "metadata": {},
   "outputs": [],
   "source": [
    "i = 2\n",
    "j = 3"
   ]
  },
  {
   "cell_type": "code",
   "execution_count": 9,
   "id": "87e4a6d0",
   "metadata": {},
   "outputs": [],
   "source": [
    "i, j = 2, 3"
   ]
  },
  {
   "cell_type": "code",
   "execution_count": 10,
   "id": "4dab96bb",
   "metadata": {},
   "outputs": [],
   "source": [
    "i, j = [2,3]"
   ]
  },
  {
   "cell_type": "code",
   "execution_count": 11,
   "id": "fc1e4094",
   "metadata": {},
   "outputs": [],
   "source": [
    "first, middle, last = name.split()"
   ]
  },
  {
   "cell_type": "code",
   "execution_count": 12,
   "id": "58da6d89",
   "metadata": {},
   "outputs": [],
   "source": [
    "magic = 'abracadabra'"
   ]
  },
  {
   "cell_type": "code",
   "execution_count": 13,
   "id": "eec12b03",
   "metadata": {},
   "outputs": [
    {
     "data": {
      "text/plain": [
       "2"
      ]
     },
     "execution_count": 13,
     "metadata": {},
     "output_type": "execute_result"
    }
   ],
   "source": [
    "magic.count('abra')"
   ]
  },
  {
   "cell_type": "code",
   "execution_count": 14,
   "id": "c9095e9b",
   "metadata": {},
   "outputs": [
    {
     "data": {
      "text/plain": [
       "0"
      ]
     },
     "execution_count": 14,
     "metadata": {},
     "output_type": "execute_result"
    }
   ],
   "source": [
    "magic.find('abra')"
   ]
  },
  {
   "cell_type": "code",
   "execution_count": 16,
   "id": "9bc1df9c",
   "metadata": {},
   "outputs": [
    {
     "ename": "ValueError",
     "evalue": "substring not found",
     "output_type": "error",
     "traceback": [
      "\u001b[0;31m---------------------------------------------------------------------------\u001b[0m",
      "\u001b[0;31mValueError\u001b[0m                                Traceback (most recent call last)",
      "\u001b[0;32m<ipython-input-16-56d6c2a6327c>\u001b[0m in \u001b[0;36m<module>\u001b[0;34m\u001b[0m\n\u001b[0;32m----> 1\u001b[0;31m \u001b[0mmagic\u001b[0m\u001b[0;34m.\u001b[0m\u001b[0mindex\u001b[0m\u001b[0;34m(\u001b[0m\u001b[0;34m'abri'\u001b[0m\u001b[0;34m)\u001b[0m\u001b[0;34m\u001b[0m\u001b[0;34m\u001b[0m\u001b[0m\n\u001b[0m",
      "\u001b[0;31mValueError\u001b[0m: substring not found"
     ]
    }
   ],
   "source": [
    "magic.index('abri')"
   ]
  },
  {
   "cell_type": "code",
   "execution_count": 19,
   "id": "332e0bfd",
   "metadata": {},
   "outputs": [
    {
     "data": {
      "text/plain": [
       "False"
      ]
     },
     "execution_count": 19,
     "metadata": {},
     "output_type": "execute_result"
    }
   ],
   "source": [
    "# membership check operator\n",
    "'abra' in magic\n",
    "'abri' in magic"
   ]
  },
  {
   "cell_type": "markdown",
   "id": "15691352",
   "metadata": {},
   "source": [
    "# Lists\n",
    "\n",
    "> Sequence of elements\n",
    "\n",
    "- Could be empty\n",
    "- Any type of elements\n",
    "- Doesn't need to be homogenous\n",
    "- Can be nested/deep"
   ]
  },
  {
   "cell_type": "code",
   "execution_count": 37,
   "id": "c33600ca",
   "metadata": {},
   "outputs": [],
   "source": [
    "nums = [1, 2, 3, 4]\n",
    "costs = [12.34, 33.44, 1.11]\n",
    "names = ['tom', 'dick', 'harry']\n",
    "misc = [1, 4.2, 'hello']\n",
    "empty = []\n",
    "deep = [[nums, costs], misc]"
   ]
  },
  {
   "cell_type": "code",
   "execution_count": 23,
   "id": "213cf4fc",
   "metadata": {},
   "outputs": [
    {
     "data": {
      "text/plain": [
       "list"
      ]
     },
     "execution_count": 23,
     "metadata": {},
     "output_type": "execute_result"
    }
   ],
   "source": [
    "type(misc)"
   ]
  },
  {
   "cell_type": "code",
   "execution_count": 25,
   "id": "b915058e",
   "metadata": {},
   "outputs": [
    {
     "data": {
      "text/plain": [
       "[1, 2, 3, 4, 12.34, 33.44, 1.11]"
      ]
     },
     "execution_count": 25,
     "metadata": {},
     "output_type": "execute_result"
    }
   ],
   "source": [
    "nums + costs # concatenation"
   ]
  },
  {
   "cell_type": "code",
   "execution_count": 26,
   "id": "9468894d",
   "metadata": {},
   "outputs": [
    {
     "data": {
      "text/plain": [
       "[1, 2, 3, 4, 1, 2, 3, 4, 1, 2, 3, 4]"
      ]
     },
     "execution_count": 26,
     "metadata": {},
     "output_type": "execute_result"
    }
   ],
   "source": [
    "nums * 3 # repetition"
   ]
  },
  {
   "cell_type": "code",
   "execution_count": 27,
   "id": "f9b555c3",
   "metadata": {},
   "outputs": [
    {
     "data": {
      "text/plain": [
       "False"
      ]
     },
     "execution_count": 27,
     "metadata": {},
     "output_type": "execute_result"
    }
   ],
   "source": [
    "nums == costs"
   ]
  },
  {
   "cell_type": "code",
   "execution_count": 28,
   "id": "fc0d1e6b",
   "metadata": {},
   "outputs": [
    {
     "data": {
      "text/plain": [
       "3"
      ]
     },
     "execution_count": 28,
     "metadata": {},
     "output_type": "execute_result"
    }
   ],
   "source": [
    "len(costs)"
   ]
  },
  {
   "cell_type": "code",
   "execution_count": 29,
   "id": "788f33d1",
   "metadata": {},
   "outputs": [
    {
     "data": {
      "text/plain": [
       "True"
      ]
     },
     "execution_count": 29,
     "metadata": {},
     "output_type": "execute_result"
    }
   ],
   "source": [
    "[1,2,3] < [1,2,3,4]"
   ]
  },
  {
   "cell_type": "code",
   "execution_count": 30,
   "id": "38b0aeed",
   "metadata": {},
   "outputs": [
    {
     "data": {
      "text/plain": [
       "0"
      ]
     },
     "execution_count": 30,
     "metadata": {},
     "output_type": "execute_result"
    }
   ],
   "source": [
    "len(empty)"
   ]
  },
  {
   "cell_type": "code",
   "execution_count": 33,
   "id": "114917c9",
   "metadata": {},
   "outputs": [
    {
     "data": {
      "text/plain": [
       "'harry'"
      ]
     },
     "execution_count": 33,
     "metadata": {},
     "output_type": "execute_result"
    }
   ],
   "source": [
    "names[-1]"
   ]
  },
  {
   "cell_type": "code",
   "execution_count": 34,
   "id": "a08e103c",
   "metadata": {},
   "outputs": [
    {
     "data": {
      "text/plain": [
       "['tom', 'dick', 'harry']"
      ]
     },
     "execution_count": 34,
     "metadata": {},
     "output_type": "execute_result"
    }
   ],
   "source": [
    "names"
   ]
  },
  {
   "cell_type": "code",
   "execution_count": 35,
   "id": "daed88ca",
   "metadata": {},
   "outputs": [
    {
     "data": {
      "text/plain": [
       "['tom', 'dick']"
      ]
     },
     "execution_count": 35,
     "metadata": {},
     "output_type": "execute_result"
    }
   ],
   "source": [
    "names[:2]"
   ]
  },
  {
   "cell_type": "code",
   "execution_count": 36,
   "id": "ecc3eb8c",
   "metadata": {},
   "outputs": [
    {
     "data": {
      "text/plain": [
       "['dick', 'harry']"
      ]
     },
     "execution_count": 36,
     "metadata": {},
     "output_type": "execute_result"
    }
   ],
   "source": [
    "names[-2:]"
   ]
  },
  {
   "cell_type": "code",
   "execution_count": null,
   "id": "852b2eeb",
   "metadata": {},
   "outputs": [],
   "source": []
  },
  {
   "cell_type": "code",
   "execution_count": 38,
   "id": "00cc95c4",
   "metadata": {},
   "outputs": [
    {
     "data": {
      "text/plain": [
       "2"
      ]
     },
     "execution_count": 38,
     "metadata": {},
     "output_type": "execute_result"
    }
   ],
   "source": [
    "len(deep)"
   ]
  },
  {
   "cell_type": "code",
   "execution_count": 39,
   "id": "c1af2fda",
   "metadata": {},
   "outputs": [
    {
     "data": {
      "text/plain": [
       "[[[1, 2, 3, 4], [12.34, 33.44, 1.11]], [1, 4.2, 'hello']]"
      ]
     },
     "execution_count": 39,
     "metadata": {},
     "output_type": "execute_result"
    }
   ],
   "source": [
    "deep"
   ]
  },
  {
   "cell_type": "code",
   "execution_count": 40,
   "id": "f90e1a70",
   "metadata": {},
   "outputs": [
    {
     "data": {
      "text/plain": [
       "[[1, 2, 3, 4], [12.34, 33.44, 1.11]]"
      ]
     },
     "execution_count": 40,
     "metadata": {},
     "output_type": "execute_result"
    }
   ],
   "source": [
    "deep[0]"
   ]
  },
  {
   "cell_type": "code",
   "execution_count": 41,
   "id": "e3774a0c",
   "metadata": {},
   "outputs": [
    {
     "data": {
      "text/plain": [
       "[12.34, 33.44, 1.11]"
      ]
     },
     "execution_count": 41,
     "metadata": {},
     "output_type": "execute_result"
    }
   ],
   "source": [
    "deep[0][1]"
   ]
  },
  {
   "cell_type": "code",
   "execution_count": 42,
   "id": "795ad6f1",
   "metadata": {},
   "outputs": [
    {
     "data": {
      "text/plain": [
       "1.11"
      ]
     },
     "execution_count": 42,
     "metadata": {},
     "output_type": "execute_result"
    }
   ],
   "source": [
    "deep[0][1][-1]"
   ]
  },
  {
   "cell_type": "code",
   "execution_count": 43,
   "id": "fec03cf9",
   "metadata": {},
   "outputs": [
    {
     "ename": "TypeError",
     "evalue": "'float' object is not subscriptable",
     "output_type": "error",
     "traceback": [
      "\u001b[0;31m---------------------------------------------------------------------------\u001b[0m",
      "\u001b[0;31mTypeError\u001b[0m                                 Traceback (most recent call last)",
      "\u001b[0;32m<ipython-input-43-b04fb0dfa6a2>\u001b[0m in \u001b[0;36m<module>\u001b[0;34m\u001b[0m\n\u001b[0;32m----> 1\u001b[0;31m \u001b[0mdeep\u001b[0m\u001b[0;34m[\u001b[0m\u001b[0;36m0\u001b[0m\u001b[0;34m]\u001b[0m\u001b[0;34m[\u001b[0m\u001b[0;36m1\u001b[0m\u001b[0;34m]\u001b[0m\u001b[0;34m[\u001b[0m\u001b[0;34m-\u001b[0m\u001b[0;36m1\u001b[0m\u001b[0;34m]\u001b[0m\u001b[0;34m[\u001b[0m\u001b[0;36m0\u001b[0m\u001b[0;34m]\u001b[0m\u001b[0;34m\u001b[0m\u001b[0;34m\u001b[0m\u001b[0m\n\u001b[0m",
      "\u001b[0;31mTypeError\u001b[0m: 'float' object is not subscriptable"
     ]
    }
   ],
   "source": [
    "deep[0][1][-1][0]"
   ]
  },
  {
   "cell_type": "code",
   "execution_count": 44,
   "id": "ade33f99",
   "metadata": {},
   "outputs": [
    {
     "data": {
      "text/plain": [
       "[1, 2, 3, 4]"
      ]
     },
     "execution_count": 44,
     "metadata": {},
     "output_type": "execute_result"
    }
   ],
   "source": [
    "nums"
   ]
  },
  {
   "cell_type": "code",
   "execution_count": 45,
   "id": "64fc2135",
   "metadata": {},
   "outputs": [
    {
     "data": {
      "text/plain": [
       "True"
      ]
     },
     "execution_count": 45,
     "metadata": {},
     "output_type": "execute_result"
    }
   ],
   "source": [
    "3 in nums"
   ]
  },
  {
   "cell_type": "code",
   "execution_count": 46,
   "id": "53114065",
   "metadata": {},
   "outputs": [
    {
     "data": {
      "text/plain": [
       "False"
      ]
     },
     "execution_count": 46,
     "metadata": {},
     "output_type": "execute_result"
    }
   ],
   "source": [
    "5 in nums"
   ]
  },
  {
   "cell_type": "code",
   "execution_count": 49,
   "id": "a29372a1",
   "metadata": {},
   "outputs": [],
   "source": [
    "nums = list(range(10,20))"
   ]
  },
  {
   "cell_type": "code",
   "execution_count": 50,
   "id": "b7f301e6",
   "metadata": {},
   "outputs": [],
   "source": [
    "nums.append(20)"
   ]
  },
  {
   "cell_type": "code",
   "execution_count": 51,
   "id": "16f25034",
   "metadata": {},
   "outputs": [
    {
     "data": {
      "text/plain": [
       "[10, 11, 12, 13, 14, 15, 16, 17, 18, 19, 20]"
      ]
     },
     "execution_count": 51,
     "metadata": {},
     "output_type": "execute_result"
    }
   ],
   "source": [
    "nums"
   ]
  },
  {
   "cell_type": "code",
   "execution_count": 52,
   "id": "53b9ea34",
   "metadata": {},
   "outputs": [
    {
     "data": {
      "text/plain": [
       "20"
      ]
     },
     "execution_count": 52,
     "metadata": {},
     "output_type": "execute_result"
    }
   ],
   "source": [
    "nums.pop()"
   ]
  },
  {
   "cell_type": "code",
   "execution_count": 53,
   "id": "ba3e00bb",
   "metadata": {},
   "outputs": [
    {
     "data": {
      "text/plain": [
       "[10, 11, 12, 13, 14, 15, 16, 17, 18, 19]"
      ]
     },
     "execution_count": 53,
     "metadata": {},
     "output_type": "execute_result"
    }
   ],
   "source": [
    "nums"
   ]
  },
  {
   "cell_type": "code",
   "execution_count": 54,
   "id": "fd52868c",
   "metadata": {},
   "outputs": [
    {
     "data": {
      "text/plain": [
       "10"
      ]
     },
     "execution_count": 54,
     "metadata": {},
     "output_type": "execute_result"
    }
   ],
   "source": [
    "nums.pop(0)"
   ]
  },
  {
   "cell_type": "code",
   "execution_count": 55,
   "id": "958be0b4",
   "metadata": {},
   "outputs": [
    {
     "data": {
      "text/plain": [
       "[11, 12, 13, 14, 15, 16, 17, 18, 19]"
      ]
     },
     "execution_count": 55,
     "metadata": {},
     "output_type": "execute_result"
    }
   ],
   "source": [
    "nums"
   ]
  },
  {
   "cell_type": "code",
   "execution_count": 57,
   "id": "28e7333a",
   "metadata": {},
   "outputs": [
    {
     "data": {
      "text/plain": [
       "0"
      ]
     },
     "execution_count": 57,
     "metadata": {},
     "output_type": "execute_result"
    }
   ],
   "source": [
    "nums.count(199)"
   ]
  },
  {
   "cell_type": "code",
   "execution_count": 58,
   "id": "7eb19c7b",
   "metadata": {},
   "outputs": [
    {
     "data": {
      "text/plain": [
       "4"
      ]
     },
     "execution_count": 58,
     "metadata": {},
     "output_type": "execute_result"
    }
   ],
   "source": [
    "nums.index(15)"
   ]
  },
  {
   "cell_type": "code",
   "execution_count": 59,
   "id": "ab1ee14d",
   "metadata": {},
   "outputs": [
    {
     "ename": "ValueError",
     "evalue": "199 is not in list",
     "output_type": "error",
     "traceback": [
      "\u001b[0;31m---------------------------------------------------------------------------\u001b[0m",
      "\u001b[0;31mValueError\u001b[0m                                Traceback (most recent call last)",
      "\u001b[0;32m<ipython-input-59-ebdcd7a2754f>\u001b[0m in \u001b[0;36m<module>\u001b[0;34m\u001b[0m\n\u001b[0;32m----> 1\u001b[0;31m \u001b[0mnums\u001b[0m\u001b[0;34m.\u001b[0m\u001b[0mindex\u001b[0m\u001b[0;34m(\u001b[0m\u001b[0;36m199\u001b[0m\u001b[0;34m)\u001b[0m\u001b[0;34m\u001b[0m\u001b[0;34m\u001b[0m\u001b[0m\n\u001b[0m",
      "\u001b[0;31mValueError\u001b[0m: 199 is not in list"
     ]
    }
   ],
   "source": [
    "nums.index(199)"
   ]
  },
  {
   "cell_type": "code",
   "execution_count": 60,
   "id": "708361f7",
   "metadata": {},
   "outputs": [],
   "source": [
    "nums.extend([100,200,300])"
   ]
  },
  {
   "cell_type": "code",
   "execution_count": 61,
   "id": "d44e5208",
   "metadata": {},
   "outputs": [
    {
     "data": {
      "text/plain": [
       "[11, 12, 13, 14, 15, 16, 17, 18, 19, 100, 200, 300]"
      ]
     },
     "execution_count": 61,
     "metadata": {},
     "output_type": "execute_result"
    }
   ],
   "source": [
    "nums"
   ]
  },
  {
   "cell_type": "code",
   "execution_count": 62,
   "id": "38c5161f",
   "metadata": {},
   "outputs": [
    {
     "data": {
      "text/plain": [
       "[10, 11, 12, 13, 14, 15, 16, 17, 18, 19, 100, 200, 300]"
      ]
     },
     "execution_count": 62,
     "metadata": {},
     "output_type": "execute_result"
    }
   ],
   "source": [
    "nums.insert(0, 10)\n",
    "nums"
   ]
  },
  {
   "cell_type": "code",
   "execution_count": 63,
   "id": "68a96ead",
   "metadata": {},
   "outputs": [
    {
     "data": {
      "text/plain": [
       "[10, 11, 12, 13, 14, 15, 16, 17, 18, 19, 200, 300]"
      ]
     },
     "execution_count": 63,
     "metadata": {},
     "output_type": "execute_result"
    }
   ],
   "source": [
    "nums.remove(100)\n",
    "nums"
   ]
  },
  {
   "cell_type": "code",
   "execution_count": 66,
   "id": "bb3d658a",
   "metadata": {},
   "outputs": [],
   "source": [
    "nums.sort(reverse=True)"
   ]
  },
  {
   "cell_type": "code",
   "execution_count": 67,
   "id": "fd16cd5f",
   "metadata": {},
   "outputs": [
    {
     "data": {
      "text/plain": [
       "[300, 200, 19, 18, 17, 16, 15, 14, 13, 12, 11, 10]"
      ]
     },
     "execution_count": 67,
     "metadata": {},
     "output_type": "execute_result"
    }
   ],
   "source": [
    "nums"
   ]
  },
  {
   "cell_type": "code",
   "execution_count": 68,
   "id": "1bf27660",
   "metadata": {},
   "outputs": [
    {
     "data": {
      "text/plain": [
       "['tom', 'dick', 'harry']"
      ]
     },
     "execution_count": 68,
     "metadata": {},
     "output_type": "execute_result"
    }
   ],
   "source": [
    "names"
   ]
  },
  {
   "cell_type": "code",
   "execution_count": 69,
   "id": "b9e5834b",
   "metadata": {},
   "outputs": [
    {
     "data": {
      "text/plain": [
       "['dick', 'harry', 'tom']"
      ]
     },
     "execution_count": 69,
     "metadata": {},
     "output_type": "execute_result"
    }
   ],
   "source": [
    "names.sort()\n",
    "names"
   ]
  },
  {
   "cell_type": "code",
   "execution_count": 71,
   "id": "e2c1264e",
   "metadata": {},
   "outputs": [
    {
     "ename": "TypeError",
     "evalue": "'<' not supported between instances of 'str' and 'float'",
     "output_type": "error",
     "traceback": [
      "\u001b[0;31m---------------------------------------------------------------------------\u001b[0m",
      "\u001b[0;31mTypeError\u001b[0m                                 Traceback (most recent call last)",
      "\u001b[0;32m<ipython-input-71-52c367e6b09c>\u001b[0m in \u001b[0;36m<module>\u001b[0;34m\u001b[0m\n\u001b[0;32m----> 1\u001b[0;31m \u001b[0mmisc\u001b[0m\u001b[0;34m.\u001b[0m\u001b[0msort\u001b[0m\u001b[0;34m(\u001b[0m\u001b[0;34m)\u001b[0m\u001b[0;34m\u001b[0m\u001b[0;34m\u001b[0m\u001b[0m\n\u001b[0m",
      "\u001b[0;31mTypeError\u001b[0m: '<' not supported between instances of 'str' and 'float'"
     ]
    }
   ],
   "source": [
    "misc.sort()"
   ]
  },
  {
   "cell_type": "code",
   "execution_count": 72,
   "id": "36d5cc45",
   "metadata": {},
   "outputs": [
    {
     "data": {
      "text/plain": [
       "[1, 4.2, 'hello']"
      ]
     },
     "execution_count": 72,
     "metadata": {},
     "output_type": "execute_result"
    }
   ],
   "source": [
    "misc"
   ]
  },
  {
   "cell_type": "code",
   "execution_count": 73,
   "id": "cc243247",
   "metadata": {},
   "outputs": [
    {
     "data": {
      "text/plain": [
       "[300, 200, 19, 18, 17, 16, 15, 14, 13, 12, 11, 10]"
      ]
     },
     "execution_count": 73,
     "metadata": {},
     "output_type": "execute_result"
    }
   ],
   "source": [
    "nums2 = nums.copy()\n",
    "nums2"
   ]
  },
  {
   "cell_type": "code",
   "execution_count": 74,
   "id": "7175c082",
   "metadata": {},
   "outputs": [
    {
     "data": {
      "text/plain": [
       "[]"
      ]
     },
     "execution_count": 74,
     "metadata": {},
     "output_type": "execute_result"
    }
   ],
   "source": [
    "nums2.clear()\n",
    "nums2"
   ]
  },
  {
   "cell_type": "code",
   "execution_count": 99,
   "id": "e58b57d6",
   "metadata": {},
   "outputs": [
    {
     "data": {
      "text/plain": [
       "True"
      ]
     },
     "execution_count": 99,
     "metadata": {},
     "output_type": "execute_result"
    }
   ],
   "source": [
    "# 1. Create a list of numbers from 0 to 10\n",
    "nums = list(range(11))\n",
    "\n",
    "# 2. Append 100 to list\n",
    "nums.append(100)\n",
    "\n",
    "# 3. pop the second element\n",
    "second = nums.pop(1)\n",
    "\n",
    "# 4. Insert 100 at the first position\n",
    "nums.insert(0, 100)\n",
    "\n",
    "# 5. Extend the list by adding [10,20,30,40] to it\n",
    "# nums.append([10,20,30,40])\n",
    "nums.extend([10,20,30,40])\n",
    "\n",
    "# 6. Count the number of times 100 is present\n",
    "nums.count(100)\n",
    "\n",
    "# 7. Check if 10 is present in the list\n",
    "\n",
    "# nums.count(10) != 0\n",
    "# nums.index(101)\n",
    "10 in nums"
   ]
  },
  {
   "cell_type": "code",
   "execution_count": 92,
   "id": "a028abf9",
   "metadata": {},
   "outputs": [
    {
     "data": {
      "text/plain": [
       "[100, 0, 2, 3, 4, 5, 6, 7, 8, 9, 10, 100, 10, 20, 30, 40]"
      ]
     },
     "execution_count": 92,
     "metadata": {},
     "output_type": "execute_result"
    }
   ],
   "source": [
    "nums"
   ]
  },
  {
   "cell_type": "code",
   "execution_count": 86,
   "id": "93565256",
   "metadata": {},
   "outputs": [
    {
     "data": {
      "text/plain": [
       "1"
      ]
     },
     "execution_count": 86,
     "metadata": {},
     "output_type": "execute_result"
    }
   ],
   "source": [
    "second"
   ]
  },
  {
   "cell_type": "code",
   "execution_count": 100,
   "id": "529a3466",
   "metadata": {},
   "outputs": [
    {
     "ename": "TypeError",
     "evalue": "'int' object is not iterable",
     "output_type": "error",
     "traceback": [
      "\u001b[0;31m---------------------------------------------------------------------------\u001b[0m",
      "\u001b[0;31mTypeError\u001b[0m                                 Traceback (most recent call last)",
      "\u001b[0;32m<ipython-input-100-ac1886ca1d32>\u001b[0m in \u001b[0;36m<module>\u001b[0;34m\u001b[0m\n\u001b[0;32m----> 1\u001b[0;31m \u001b[0mnums\u001b[0m\u001b[0;34m.\u001b[0m\u001b[0mextend\u001b[0m\u001b[0;34m(\u001b[0m\u001b[0;36m100\u001b[0m\u001b[0;34m)\u001b[0m\u001b[0;34m\u001b[0m\u001b[0;34m\u001b[0m\u001b[0m\n\u001b[0m",
      "\u001b[0;31mTypeError\u001b[0m: 'int' object is not iterable"
     ]
    }
   ],
   "source": [
    "nums.extend(100)"
   ]
  },
  {
   "cell_type": "code",
   "execution_count": 105,
   "id": "47984d01",
   "metadata": {},
   "outputs": [],
   "source": [
    "# nums\n",
    "nums[-3:] = []"
   ]
  },
  {
   "cell_type": "code",
   "execution_count": 106,
   "id": "5b75d0e2",
   "metadata": {},
   "outputs": [
    {
     "data": {
      "text/plain": [
       "[100, 0, 2, 3, 4, 5, 6, 7, 8, 9, 10, 100, 10]"
      ]
     },
     "execution_count": 106,
     "metadata": {},
     "output_type": "execute_result"
    }
   ],
   "source": [
    "nums"
   ]
  },
  {
   "cell_type": "code",
   "execution_count": 107,
   "id": "d1f6ee81",
   "metadata": {},
   "outputs": [
    {
     "data": {
      "text/plain": [
       "[0, 1, 2, 3, 4, 5, 6, 7, 8, 9, 10, 100, 10]"
      ]
     },
     "execution_count": 107,
     "metadata": {},
     "output_type": "execute_result"
    }
   ],
   "source": [
    "nums[:2] = [0,1]\n",
    "nums"
   ]
  },
  {
   "cell_type": "code",
   "execution_count": 108,
   "id": "1f9a2a49",
   "metadata": {},
   "outputs": [
    {
     "data": {
      "text/plain": [
       "[0, 1, 2, 3, 4, 5, 6, 7, 8, 9, 10, 100, 101]"
      ]
     },
     "execution_count": 108,
     "metadata": {},
     "output_type": "execute_result"
    }
   ],
   "source": [
    "nums[-1] = 101\n",
    "nums"
   ]
  },
  {
   "cell_type": "code",
   "execution_count": 109,
   "id": "de6c460d",
   "metadata": {},
   "outputs": [
    {
     "data": {
      "text/plain": [
       "'abracadabra'"
      ]
     },
     "execution_count": 109,
     "metadata": {},
     "output_type": "execute_result"
    }
   ],
   "source": [
    "magic"
   ]
  },
  {
   "cell_type": "code",
   "execution_count": 111,
   "id": "586b2b9e",
   "metadata": {},
   "outputs": [
    {
     "ename": "TypeError",
     "evalue": "'str' object does not support item assignment",
     "output_type": "error",
     "traceback": [
      "\u001b[0;31m---------------------------------------------------------------------------\u001b[0m",
      "\u001b[0;31mTypeError\u001b[0m                                 Traceback (most recent call last)",
      "\u001b[0;32m<ipython-input-111-f5457e689556>\u001b[0m in \u001b[0;36m<module>\u001b[0;34m\u001b[0m\n\u001b[0;32m----> 1\u001b[0;31m \u001b[0mmagic\u001b[0m\u001b[0;34m[\u001b[0m\u001b[0;34m-\u001b[0m\u001b[0;36m4\u001b[0m\u001b[0;34m:\u001b[0m\u001b[0;34m]\u001b[0m \u001b[0;34m=\u001b[0m \u001b[0;34m'zapp'\u001b[0m\u001b[0;34m\u001b[0m\u001b[0;34m\u001b[0m\u001b[0m\n\u001b[0m",
      "\u001b[0;31mTypeError\u001b[0m: 'str' object does not support item assignment"
     ]
    }
   ],
   "source": [
    "magic[-4:] = 'zapp'"
   ]
  },
  {
   "cell_type": "code",
   "execution_count": 112,
   "id": "7c75d34f",
   "metadata": {},
   "outputs": [
    {
     "data": {
      "text/plain": [
       "'Abracadabra'"
      ]
     },
     "execution_count": 112,
     "metadata": {},
     "output_type": "execute_result"
    }
   ],
   "source": [
    "magic.capitalize()"
   ]
  },
  {
   "cell_type": "code",
   "execution_count": 113,
   "id": "d03e7d79",
   "metadata": {},
   "outputs": [
    {
     "data": {
      "text/plain": [
       "'abracadabra'"
      ]
     },
     "execution_count": 113,
     "metadata": {},
     "output_type": "execute_result"
    }
   ],
   "source": [
    "magic"
   ]
  },
  {
   "cell_type": "markdown",
   "id": "97b74944",
   "metadata": {},
   "source": [
    "## Mutable vs Immutable\n",
    "\n",
    "- Mutable: Can be modified (in-place)\n",
    "- lists: mutable\n",
    "- Immutable: can not be modified; for modification, create copy\n",
    "- str: immutable"
   ]
  },
  {
   "cell_type": "code",
   "execution_count": 114,
   "id": "123daa38",
   "metadata": {},
   "outputs": [
    {
     "data": {
      "text/plain": [
       "[0, 1, 2, 3, 4, 5, 6, 7, 8, 9, 10, 100, 101]"
      ]
     },
     "execution_count": 114,
     "metadata": {},
     "output_type": "execute_result"
    }
   ],
   "source": [
    "nums"
   ]
  },
  {
   "cell_type": "code",
   "execution_count": 115,
   "id": "68bd59f2",
   "metadata": {},
   "outputs": [],
   "source": [
    "# copy by reference\n",
    "nums2 = nums"
   ]
  },
  {
   "cell_type": "code",
   "execution_count": 116,
   "id": "fd9d2de8",
   "metadata": {},
   "outputs": [
    {
     "data": {
      "text/plain": [
       "[0, 1, 2, 3, 4, 5, 6, 7, 8, 9, 10, 100, 101]"
      ]
     },
     "execution_count": 116,
     "metadata": {},
     "output_type": "execute_result"
    }
   ],
   "source": [
    "nums2"
   ]
  },
  {
   "cell_type": "code",
   "execution_count": 117,
   "id": "eb60a17d",
   "metadata": {},
   "outputs": [],
   "source": [
    "nums.append(102)"
   ]
  },
  {
   "cell_type": "code",
   "execution_count": 118,
   "id": "69ab7784",
   "metadata": {},
   "outputs": [
    {
     "data": {
      "text/plain": [
       "[0, 1, 2, 3, 4, 5, 6, 7, 8, 9, 10, 100, 101, 102]"
      ]
     },
     "execution_count": 118,
     "metadata": {},
     "output_type": "execute_result"
    }
   ],
   "source": [
    "nums2"
   ]
  },
  {
   "cell_type": "code",
   "execution_count": 119,
   "id": "bb63ea7b",
   "metadata": {},
   "outputs": [
    {
     "data": {
      "text/plain": [
       "4587440064"
      ]
     },
     "execution_count": 119,
     "metadata": {},
     "output_type": "execute_result"
    }
   ],
   "source": [
    "id(nums)"
   ]
  },
  {
   "cell_type": "code",
   "execution_count": 120,
   "id": "dfea233b",
   "metadata": {},
   "outputs": [
    {
     "data": {
      "text/plain": [
       "4587440064"
      ]
     },
     "execution_count": 120,
     "metadata": {},
     "output_type": "execute_result"
    }
   ],
   "source": [
    "id(nums2)"
   ]
  },
  {
   "cell_type": "code",
   "execution_count": 121,
   "id": "1f4da46f",
   "metadata": {},
   "outputs": [],
   "source": [
    "nums2 = nums.copy()"
   ]
  },
  {
   "cell_type": "code",
   "execution_count": 122,
   "id": "a748ab45",
   "metadata": {},
   "outputs": [
    {
     "data": {
      "text/plain": [
       "4589836736"
      ]
     },
     "execution_count": 122,
     "metadata": {},
     "output_type": "execute_result"
    }
   ],
   "source": [
    "id(nums2)"
   ]
  },
  {
   "cell_type": "markdown",
   "id": "0544ba8a",
   "metadata": {},
   "source": [
    "## Looping"
   ]
  },
  {
   "cell_type": "code",
   "execution_count": 132,
   "id": "6f9f8719",
   "metadata": {},
   "outputs": [
    {
     "name": "stdout",
     "output_type": "stream",
     "text": [
      "0\n",
      "1\n",
      "4\n",
      "9\n",
      "16\n",
      "25\n",
      "36\n",
      "49\n",
      "64\n",
      "81\n",
      "100\n",
      "10000\n",
      "10201\n",
      "10404\n",
      "Done\n"
     ]
    }
   ],
   "source": [
    "for num in nums:\n",
    "    print(num**2)\n",
    "    \n",
    "    \n",
    "    \n",
    "    \n",
    "print('Done')"
   ]
  },
  {
   "cell_type": "code",
   "execution_count": 126,
   "id": "6a73a693",
   "metadata": {},
   "outputs": [
    {
     "name": "stdout",
     "output_type": "stream",
     "text": [
      "a\n",
      "b\n",
      "r\n",
      "a\n",
      "c\n",
      "a\n",
      "d\n",
      "a\n",
      "b\n",
      "r\n",
      "a\n"
     ]
    }
   ],
   "source": [
    "for char in magic:\n",
    "    print(char)"
   ]
  },
  {
   "cell_type": "code",
   "execution_count": 127,
   "id": "2422528d",
   "metadata": {},
   "outputs": [
    {
     "data": {
      "text/plain": [
       "['dick', 'harry', 'tom']"
      ]
     },
     "execution_count": 127,
     "metadata": {},
     "output_type": "execute_result"
    }
   ],
   "source": [
    "names"
   ]
  },
  {
   "cell_type": "code",
   "execution_count": 131,
   "id": "cbb660e2",
   "metadata": {},
   "outputs": [
    {
     "name": "stdout",
     "output_type": "stream",
     "text": [
      "Hi Dick !\n",
      "Hi Harry !\n",
      "Hi Tom !\n"
     ]
    }
   ],
   "source": [
    "for name in names:\n",
    "    print('Hi', name.capitalize(), '!')"
   ]
  },
  {
   "cell_type": "code",
   "execution_count": 130,
   "id": "83716c7e",
   "metadata": {},
   "outputs": [
    {
     "name": "stdout",
     "output_type": "stream",
     "text": [
      "['dick', 'harry', 'tom']\n",
      "['dick', 'harry', 'tom']\n",
      "['dick', 'harry', 'tom']\n"
     ]
    }
   ],
   "source": [
    "for name in names:\n",
    "#     names.insert(0, 'blah')\n",
    "#     names.pop(0)\n",
    "    print(names)"
   ]
  },
  {
   "cell_type": "code",
   "execution_count": 133,
   "id": "684c1a70",
   "metadata": {},
   "outputs": [],
   "source": [
    "ages = [['tom', 10], ['dick', 12], ['harry', 11]]"
   ]
  },
  {
   "cell_type": "code",
   "execution_count": 134,
   "id": "ee16ceef",
   "metadata": {},
   "outputs": [
    {
     "data": {
      "text/plain": [
       "3"
      ]
     },
     "execution_count": 134,
     "metadata": {},
     "output_type": "execute_result"
    }
   ],
   "source": [
    "len(ages)"
   ]
  },
  {
   "cell_type": "code",
   "execution_count": 135,
   "id": "baf70a94",
   "metadata": {},
   "outputs": [
    {
     "data": {
      "text/plain": [
       "['tom', 10]"
      ]
     },
     "execution_count": 135,
     "metadata": {},
     "output_type": "execute_result"
    }
   ],
   "source": [
    "ages[0]"
   ]
  },
  {
   "cell_type": "code",
   "execution_count": 137,
   "id": "d2aefc61",
   "metadata": {},
   "outputs": [
    {
     "name": "stdout",
     "output_type": "stream",
     "text": [
      "tom 10\n",
      "dick 12\n",
      "harry 11\n"
     ]
    }
   ],
   "source": [
    "for element in ages:\n",
    "    print(element[0], element[1])\n",
    "    "
   ]
  },
  {
   "cell_type": "code",
   "execution_count": 140,
   "id": "aa37dbb9",
   "metadata": {},
   "outputs": [
    {
     "name": "stdout",
     "output_type": "stream",
     "text": [
      "Hello Tom you will be 11 years next year\n",
      "Hello Dick you will be 13 years next year\n",
      "Hello Harry you will be 12 years next year\n"
     ]
    }
   ],
   "source": [
    "for name, age in ages:\n",
    "    print('Hello', name.capitalize(), 'you will be', age+1, 'years next year')\n",
    "    "
   ]
  },
  {
   "cell_type": "code",
   "execution_count": 138,
   "id": "c6cfffb0",
   "metadata": {},
   "outputs": [],
   "source": [
    "i, j = [1,2]"
   ]
  },
  {
   "cell_type": "code",
   "execution_count": 143,
   "id": "12d3bdc7",
   "metadata": {},
   "outputs": [],
   "source": [
    "names = 'tom dick harry'.split()\n",
    "ages  = [10, 12, 11]"
   ]
  },
  {
   "cell_type": "code",
   "execution_count": 144,
   "id": "10b0c71b",
   "metadata": {},
   "outputs": [
    {
     "data": {
      "text/plain": [
       "[('tom', 10), ('dick', 12), ('harry', 11)]"
      ]
     },
     "execution_count": 144,
     "metadata": {},
     "output_type": "execute_result"
    }
   ],
   "source": [
    "list(zip(names, ages))"
   ]
  },
  {
   "cell_type": "code",
   "execution_count": 145,
   "id": "3a17d31c",
   "metadata": {},
   "outputs": [
    {
     "name": "stdout",
     "output_type": "stream",
     "text": [
      "Hello Tom you will be 11 years next year\n",
      "Hello Dick you will be 13 years next year\n",
      "Hello Harry you will be 12 years next year\n"
     ]
    }
   ],
   "source": [
    "for name, age in zip(names, ages):\n",
    "    print('Hello', name.capitalize(), 'you will be', age+1, 'years next year')\n",
    "    "
   ]
  },
  {
   "cell_type": "code",
   "execution_count": 148,
   "id": "1e960139",
   "metadata": {},
   "outputs": [],
   "source": [
    "items  = ['bread', 'eggs', 'butter', 'biscuits']\n",
    "costs  = [55.0,    12.55,   125.0,    25.5]\n",
    "counts = [1,        12,     2,        4]"
   ]
  },
  {
   "cell_type": "code",
   "execution_count": null,
   "id": "0563d11f",
   "metadata": {},
   "outputs": [],
   "source": [
    "# 1. Itemized billing\n",
    "# 2. Totals\n",
    "Bread 1 55.0 55.0\n",
    "Eggs  12 12.55 155\n",
    "...\n",
    "\n",
    "Totals 19 - 1022.57"
   ]
  },
  {
   "cell_type": "code",
   "execution_count": null,
   "id": "418d4e3f",
   "metadata": {},
   "outputs": [],
   "source": [
    "i = 0\n",
    "i = i + 1\n",
    "i += 1\n",
    "# i++"
   ]
  },
  {
   "cell_type": "code",
   "execution_count": 146,
   "id": "5e351328",
   "metadata": {},
   "outputs": [
    {
     "data": {
      "text/plain": [
       "6"
      ]
     },
     "execution_count": 146,
     "metadata": {},
     "output_type": "execute_result"
    }
   ],
   "source": [
    "sum([1,2,3])"
   ]
  },
  {
   "cell_type": "code",
   "execution_count": 149,
   "id": "9996008d",
   "metadata": {},
   "outputs": [
    {
     "data": {
      "text/plain": [
       "19"
      ]
     },
     "execution_count": 149,
     "metadata": {},
     "output_type": "execute_result"
    }
   ],
   "source": [
    "sum(counts)"
   ]
  },
  {
   "cell_type": "code",
   "execution_count": 153,
   "id": "1e64769d",
   "metadata": {},
   "outputs": [
    {
     "data": {
      "text/plain": [
       "557.6"
      ]
     },
     "execution_count": 153,
     "metadata": {},
     "output_type": "execute_result"
    }
   ],
   "source": [
    "total_cost = 0\n",
    "for count, cost in zip(counts, costs):\n",
    "    total_cost += count*cost\n",
    "    \n",
    "total_cost"
   ]
  },
  {
   "cell_type": "code",
   "execution_count": 154,
   "id": "a3fa67bc",
   "metadata": {},
   "outputs": [
    {
     "data": {
      "text/plain": [
       "[55.0, 150.60000000000002, 250.0, 102.0]"
      ]
     },
     "execution_count": 154,
     "metadata": {},
     "output_type": "execute_result"
    }
   ],
   "source": [
    "item_costs = []\n",
    "\n",
    "for count, cost in zip(counts, costs):\n",
    "    item_costs.append(count*cost)\n",
    "\n",
    "item_costs"
   ]
  },
  {
   "cell_type": "code",
   "execution_count": 155,
   "id": "c592b336",
   "metadata": {},
   "outputs": [
    {
     "data": {
      "text/plain": [
       "557.6"
      ]
     },
     "execution_count": 155,
     "metadata": {},
     "output_type": "execute_result"
    }
   ],
   "source": [
    "sum(item_costs)"
   ]
  },
  {
   "cell_type": "code",
   "execution_count": 161,
   "id": "cfdcce2e",
   "metadata": {},
   "outputs": [
    {
     "name": "stdout",
     "output_type": "stream",
     "text": [
      "Enter Number: adsf\n"
     ]
    }
   ],
   "source": [
    "num = input('Enter Number: ')"
   ]
  },
  {
   "cell_type": "code",
   "execution_count": 162,
   "id": "5c7e0be3",
   "metadata": {},
   "outputs": [
    {
     "data": {
      "text/plain": [
       "'adsf'"
      ]
     },
     "execution_count": 162,
     "metadata": {},
     "output_type": "execute_result"
    }
   ],
   "source": [
    "num"
   ]
  },
  {
   "cell_type": "code",
   "execution_count": 163,
   "id": "35ec5303",
   "metadata": {},
   "outputs": [
    {
     "ename": "ValueError",
     "evalue": "invalid literal for int() with base 10: 'adsf'",
     "output_type": "error",
     "traceback": [
      "\u001b[0;31m---------------------------------------------------------------------------\u001b[0m",
      "\u001b[0;31mValueError\u001b[0m                                Traceback (most recent call last)",
      "\u001b[0;32m<ipython-input-163-fa4446644730>\u001b[0m in \u001b[0;36m<module>\u001b[0;34m\u001b[0m\n\u001b[0;32m----> 1\u001b[0;31m \u001b[0mint\u001b[0m\u001b[0;34m(\u001b[0m\u001b[0mnum\u001b[0m\u001b[0;34m)\u001b[0m\u001b[0;34m\u001b[0m\u001b[0;34m\u001b[0m\u001b[0m\n\u001b[0m",
      "\u001b[0;31mValueError\u001b[0m: invalid literal for int() with base 10: 'adsf'"
     ]
    }
   ],
   "source": [
    "int(num)"
   ]
  },
  {
   "cell_type": "code",
   "execution_count": 164,
   "id": "3201e21f",
   "metadata": {},
   "outputs": [
    {
     "name": "stdout",
     "output_type": "stream",
     "text": [
      "Enter Number: 123\n",
      "123 15129\n",
      "Enter Number: 333\n",
      "333 110889\n",
      "Enter Number: 444\n",
      "444 197136\n",
      "Enter Number: 555\n",
      "555 308025\n",
      "Enter Number: 0\n",
      "0 0\n"
     ]
    }
   ],
   "source": [
    "num = ''\n",
    "while num != 0:\n",
    "    num = input('Enter Number: ')\n",
    "    num = int(num)\n",
    "    print(num, num**2)"
   ]
  },
  {
   "cell_type": "code",
   "execution_count": null,
   "id": "64d74d39",
   "metadata": {},
   "outputs": [],
   "source": []
  },
  {
   "cell_type": "code",
   "execution_count": null,
   "id": "1db1bfe9",
   "metadata": {},
   "outputs": [],
   "source": []
  },
  {
   "cell_type": "code",
   "execution_count": null,
   "id": "f397553b",
   "metadata": {},
   "outputs": [],
   "source": []
  },
  {
   "cell_type": "code",
   "execution_count": null,
   "id": "52ddc196",
   "metadata": {},
   "outputs": [],
   "source": []
  },
  {
   "cell_type": "code",
   "execution_count": null,
   "id": "ca2ebb56",
   "metadata": {},
   "outputs": [],
   "source": []
  }
 ],
 "metadata": {
  "kernelspec": {
   "display_name": "Python 3",
   "language": "python",
   "name": "python3"
  },
  "language_info": {
   "codemirror_mode": {
    "name": "ipython",
    "version": 3
   },
   "file_extension": ".py",
   "mimetype": "text/x-python",
   "name": "python",
   "nbconvert_exporter": "python",
   "pygments_lexer": "ipython3",
   "version": "3.8.16"
  }
 },
 "nbformat": 4,
 "nbformat_minor": 5
}
