{
 "cells": [
  {
   "cell_type": "markdown",
   "id": "413eb858",
   "metadata": {},
   "source": [
    "# Day3: Agenda\n",
    "\n",
    "- Dictionaries\n",
    "- Functions\n",
    "- if-elif-else\n",
    "- modules\n",
    "- Deep/nested data structures"
   ]
  },
  {
   "cell_type": "markdown",
   "id": "6edb5830",
   "metadata": {},
   "source": [
    "## Dictionaries\n",
    "\n",
    "> Collection of key-value pairs\n",
    "\n",
    "- Lookup\n",
    "- Unordered by default (check py version)"
   ]
  },
  {
   "cell_type": "code",
   "execution_count": 1,
   "id": "1848b652",
   "metadata": {},
   "outputs": [],
   "source": [
    "items  = ['bread', 'eggs', 'butter', 'biscuits']\n",
    "costs  = [55.0,    12.55,   125.0,    25.5]"
   ]
  },
  {
   "cell_type": "code",
   "execution_count": 6,
   "id": "c5d789a7",
   "metadata": {},
   "outputs": [],
   "source": [
    "item = 'biscuits'"
   ]
  },
  {
   "cell_type": "code",
   "execution_count": 7,
   "id": "3dcec19e",
   "metadata": {},
   "outputs": [
    {
     "data": {
      "text/plain": [
       "25.5"
      ]
     },
     "execution_count": 7,
     "metadata": {},
     "output_type": "execute_result"
    }
   ],
   "source": [
    "idx = items.index(item)\n",
    "costs[idx]"
   ]
  },
  {
   "cell_type": "code",
   "execution_count": 10,
   "id": "e5c30ad1",
   "metadata": {},
   "outputs": [],
   "source": [
    "item_costs = {'bread': 55.0, 'eggs': 12.55, 'butter': 125.0, 'biscuits': 25.5}\n",
    "sqs = {1:1, 2: 4, 3: 9, 4: 16}\n",
    "wordsbylength = {2: 'or', 3: 'and', 4: 'else'}"
   ]
  },
  {
   "cell_type": "code",
   "execution_count": 9,
   "id": "05d96540",
   "metadata": {},
   "outputs": [
    {
     "data": {
      "text/plain": [
       "dict"
      ]
     },
     "execution_count": 9,
     "metadata": {},
     "output_type": "execute_result"
    }
   ],
   "source": [
    "type(item_costs)"
   ]
  },
  {
   "cell_type": "code",
   "execution_count": 11,
   "id": "1454d4c0",
   "metadata": {},
   "outputs": [
    {
     "data": {
      "text/plain": [
       "25.5"
      ]
     },
     "execution_count": 11,
     "metadata": {},
     "output_type": "execute_result"
    }
   ],
   "source": [
    "item = 'biscuits'\n",
    "item_costs[item]"
   ]
  },
  {
   "cell_type": "code",
   "execution_count": 12,
   "id": "84df97f3",
   "metadata": {},
   "outputs": [
    {
     "data": {
      "text/plain": [
       "16"
      ]
     },
     "execution_count": 12,
     "metadata": {},
     "output_type": "execute_result"
    }
   ],
   "source": [
    "sqs[4]"
   ]
  },
  {
   "cell_type": "code",
   "execution_count": 13,
   "id": "5635331f",
   "metadata": {},
   "outputs": [
    {
     "data": {
      "text/plain": [
       "'else'"
      ]
     },
     "execution_count": 13,
     "metadata": {},
     "output_type": "execute_result"
    }
   ],
   "source": [
    "wordsbylength[4]"
   ]
  },
  {
   "cell_type": "code",
   "execution_count": 14,
   "id": "8d37c7a2",
   "metadata": {},
   "outputs": [
    {
     "ename": "TypeError",
     "evalue": "unhashable type: 'slice'",
     "output_type": "error",
     "traceback": [
      "\u001b[0;31m---------------------------------------------------------------------------\u001b[0m",
      "\u001b[0;31mTypeError\u001b[0m                                 Traceback (most recent call last)",
      "\u001b[0;32m<ipython-input-14-959af09ab37c>\u001b[0m in \u001b[0;36m<module>\u001b[0;34m\u001b[0m\n\u001b[0;32m----> 1\u001b[0;31m \u001b[0mitem_costs\u001b[0m\u001b[0;34m[\u001b[0m\u001b[0;34m'bread'\u001b[0m\u001b[0;34m:\u001b[0m\u001b[0;34m'butter'\u001b[0m\u001b[0;34m]\u001b[0m\u001b[0;34m\u001b[0m\u001b[0;34m\u001b[0m\u001b[0m\n\u001b[0m",
      "\u001b[0;31mTypeError\u001b[0m: unhashable type: 'slice'"
     ]
    }
   ],
   "source": [
    "item_costs['bread':'butter']"
   ]
  },
  {
   "cell_type": "code",
   "execution_count": 15,
   "id": "a28c62a5",
   "metadata": {},
   "outputs": [
    {
     "ename": "KeyError",
     "evalue": "'jam'",
     "output_type": "error",
     "traceback": [
      "\u001b[0;31m---------------------------------------------------------------------------\u001b[0m",
      "\u001b[0;31mKeyError\u001b[0m                                  Traceback (most recent call last)",
      "\u001b[0;32m<ipython-input-15-d06a99935a96>\u001b[0m in \u001b[0;36m<module>\u001b[0;34m\u001b[0m\n\u001b[0;32m----> 1\u001b[0;31m \u001b[0mitem_costs\u001b[0m\u001b[0;34m[\u001b[0m\u001b[0;34m'jam'\u001b[0m\u001b[0;34m]\u001b[0m\u001b[0;34m\u001b[0m\u001b[0;34m\u001b[0m\u001b[0m\n\u001b[0m",
      "\u001b[0;31mKeyError\u001b[0m: 'jam'"
     ]
    }
   ],
   "source": [
    "item_costs['jam']"
   ]
  },
  {
   "cell_type": "code",
   "execution_count": 16,
   "id": "5bd4be17",
   "metadata": {},
   "outputs": [
    {
     "data": {
      "text/plain": [
       "True"
      ]
     },
     "execution_count": 16,
     "metadata": {},
     "output_type": "execute_result"
    }
   ],
   "source": [
    "'abra' in 'abracadabra'"
   ]
  },
  {
   "cell_type": "code",
   "execution_count": 17,
   "id": "4fa9efb9",
   "metadata": {},
   "outputs": [
    {
     "data": {
      "text/plain": [
       "True"
      ]
     },
     "execution_count": 17,
     "metadata": {},
     "output_type": "execute_result"
    }
   ],
   "source": [
    "1 in [1,2,3]"
   ]
  },
  {
   "cell_type": "code",
   "execution_count": 18,
   "id": "19a774a7",
   "metadata": {},
   "outputs": [
    {
     "data": {
      "text/plain": [
       "False"
      ]
     },
     "execution_count": 18,
     "metadata": {},
     "output_type": "execute_result"
    }
   ],
   "source": [
    "'jam' in item_costs"
   ]
  },
  {
   "cell_type": "code",
   "execution_count": 19,
   "id": "7ccc28ed",
   "metadata": {},
   "outputs": [
    {
     "data": {
      "text/plain": [
       "dict_keys(['bread', 'eggs', 'butter', 'biscuits'])"
      ]
     },
     "execution_count": 19,
     "metadata": {},
     "output_type": "execute_result"
    }
   ],
   "source": [
    "item_costs.keys()"
   ]
  },
  {
   "cell_type": "code",
   "execution_count": 20,
   "id": "cea9a744",
   "metadata": {},
   "outputs": [
    {
     "data": {
      "text/plain": [
       "dict_values([55.0, 12.55, 125.0, 25.5])"
      ]
     },
     "execution_count": 20,
     "metadata": {},
     "output_type": "execute_result"
    }
   ],
   "source": [
    "item_costs.values()"
   ]
  },
  {
   "cell_type": "code",
   "execution_count": 21,
   "id": "c93dee60",
   "metadata": {},
   "outputs": [
    {
     "data": {
      "text/plain": [
       "dict_items([('bread', 55.0), ('eggs', 12.55), ('butter', 125.0), ('biscuits', 25.5)])"
      ]
     },
     "execution_count": 21,
     "metadata": {},
     "output_type": "execute_result"
    }
   ],
   "source": [
    "item_costs.items()"
   ]
  },
  {
   "cell_type": "code",
   "execution_count": 22,
   "id": "093a82ad",
   "metadata": {},
   "outputs": [
    {
     "name": "stdout",
     "output_type": "stream",
     "text": [
      "bread\n",
      "eggs\n",
      "butter\n",
      "biscuits\n"
     ]
    }
   ],
   "source": [
    "for key in item_costs.keys():\n",
    "    print(key)"
   ]
  },
  {
   "cell_type": "code",
   "execution_count": 23,
   "id": "f95291f4",
   "metadata": {},
   "outputs": [
    {
     "name": "stdout",
     "output_type": "stream",
     "text": [
      "bread 55.0\n",
      "eggs 12.55\n",
      "butter 125.0\n",
      "biscuits 25.5\n"
     ]
    }
   ],
   "source": [
    "for item, cost in item_costs.items():\n",
    "    print(item, cost)\n",
    "    "
   ]
  },
  {
   "cell_type": "code",
   "execution_count": 24,
   "id": "68ba7fea",
   "metadata": {},
   "outputs": [],
   "source": [
    "t = (1,2,3)"
   ]
  },
  {
   "cell_type": "code",
   "execution_count": 25,
   "id": "c87f1233",
   "metadata": {},
   "outputs": [
    {
     "data": {
      "text/plain": [
       "tuple"
      ]
     },
     "execution_count": 25,
     "metadata": {},
     "output_type": "execute_result"
    }
   ],
   "source": [
    "type(t)"
   ]
  },
  {
   "cell_type": "code",
   "execution_count": 26,
   "id": "d45fe8f1",
   "metadata": {},
   "outputs": [
    {
     "data": {
      "text/plain": [
       "1"
      ]
     },
     "execution_count": 26,
     "metadata": {},
     "output_type": "execute_result"
    }
   ],
   "source": [
    "t[0]"
   ]
  },
  {
   "cell_type": "code",
   "execution_count": 27,
   "id": "caa451f2",
   "metadata": {},
   "outputs": [
    {
     "data": {
      "text/plain": [
       "(1, 2)"
      ]
     },
     "execution_count": 27,
     "metadata": {},
     "output_type": "execute_result"
    }
   ],
   "source": [
    "t[:2]"
   ]
  },
  {
   "cell_type": "code",
   "execution_count": 28,
   "id": "35a6da39",
   "metadata": {},
   "outputs": [
    {
     "name": "stdout",
     "output_type": "stream",
     "text": [
      "('bread', 55.0) <class 'tuple'>\n",
      "('eggs', 12.55) <class 'tuple'>\n",
      "('butter', 125.0) <class 'tuple'>\n",
      "('biscuits', 25.5) <class 'tuple'>\n"
     ]
    }
   ],
   "source": [
    "for t in item_costs.items():\n",
    "    print(t, type(t))\n",
    "    "
   ]
  },
  {
   "cell_type": "code",
   "execution_count": 29,
   "id": "06cebe79",
   "metadata": {},
   "outputs": [],
   "source": [
    "item_costs['jam'] = 188.5"
   ]
  },
  {
   "cell_type": "code",
   "execution_count": 30,
   "id": "32a3213f",
   "metadata": {},
   "outputs": [
    {
     "data": {
      "text/plain": [
       "{'bread': 55.0, 'eggs': 12.55, 'butter': 125.0, 'biscuits': 25.5, 'jam': 188.5}"
      ]
     },
     "execution_count": 30,
     "metadata": {},
     "output_type": "execute_result"
    }
   ],
   "source": [
    "item_costs"
   ]
  },
  {
   "cell_type": "code",
   "execution_count": 32,
   "id": "3df73670",
   "metadata": {},
   "outputs": [
    {
     "data": {
      "text/plain": [
       "{'bread': 55.0, 'eggs': 12.55, 'butter': 130.0, 'biscuits': 25.5, 'jam': 188.5}"
      ]
     },
     "execution_count": 32,
     "metadata": {},
     "output_type": "execute_result"
    }
   ],
   "source": [
    "item_costs['butter'] += 5\n",
    "item_costs"
   ]
  },
  {
   "cell_type": "code",
   "execution_count": 33,
   "id": "330fbdb9",
   "metadata": {},
   "outputs": [
    {
     "data": {
      "text/plain": [
       "{'bread': 55.0, 'eggs': 12.55, 'butter': 130.0, 'biscuits': 25.5}"
      ]
     },
     "execution_count": 33,
     "metadata": {},
     "output_type": "execute_result"
    }
   ],
   "source": [
    "del item_costs['jam']\n",
    "item_costs"
   ]
  },
  {
   "cell_type": "code",
   "execution_count": 36,
   "id": "12bf8e66",
   "metadata": {},
   "outputs": [
    {
     "data": {
      "text/plain": [
       "25.5"
      ]
     },
     "execution_count": 36,
     "metadata": {},
     "output_type": "execute_result"
    }
   ],
   "source": [
    "item_costs.get('biscuits', 'not found')"
   ]
  },
  {
   "cell_type": "code",
   "execution_count": 38,
   "id": "fce8418b",
   "metadata": {},
   "outputs": [
    {
     "name": "stdout",
     "output_type": "stream",
     "text": [
      "25.5\n"
     ]
    }
   ],
   "source": [
    "item = 'biscuits'\n",
    "if item in item_costs:\n",
    "    print(item_costs[item])\n",
    "else:\n",
    "    print(item, 'not present')"
   ]
  },
  {
   "cell_type": "code",
   "execution_count": 39,
   "id": "2a417bde",
   "metadata": {},
   "outputs": [
    {
     "data": {
      "text/plain": [
       "{1: 1, 2: 4, 3: 9, 4: 16}"
      ]
     },
     "execution_count": 39,
     "metadata": {},
     "output_type": "execute_result"
    }
   ],
   "source": [
    "sqs"
   ]
  },
  {
   "cell_type": "code",
   "execution_count": 40,
   "id": "9e923859",
   "metadata": {},
   "outputs": [
    {
     "data": {
      "text/plain": [
       "{1: 1, 2: 8, 3: 27, 4: 64, 5: 125, 6: 216, 7: 343, 8: 512, 9: 729, 10: 1000}"
      ]
     },
     "execution_count": 40,
     "metadata": {},
     "output_type": "execute_result"
    }
   ],
   "source": [
    "cubes = {}\n",
    "cubes = dict()\n",
    "\n",
    "for num in range(1,11):\n",
    "    cubes[num] = num**3\n",
    "    \n",
    "cubes"
   ]
  },
  {
   "cell_type": "code",
   "execution_count": 42,
   "id": "eb863e99",
   "metadata": {},
   "outputs": [
    {
     "data": {
      "text/plain": [
       "1000"
      ]
     },
     "execution_count": 42,
     "metadata": {},
     "output_type": "execute_result"
    }
   ],
   "source": [
    "cubes[10]"
   ]
  },
  {
   "cell_type": "code",
   "execution_count": 43,
   "id": "6af5b2b7",
   "metadata": {},
   "outputs": [],
   "source": [
    "items  = ['bread', 'eggs', 'butter', 'biscuits']\n",
    "costs  = [55.0,    12.55,   125.0,    25.5]"
   ]
  },
  {
   "cell_type": "code",
   "execution_count": 44,
   "id": "2ce681c7",
   "metadata": {},
   "outputs": [
    {
     "data": {
      "text/plain": [
       "{'bread': 55.0, 'eggs': 12.55, 'butter': 125.0, 'biscuits': 25.5}"
      ]
     },
     "execution_count": 44,
     "metadata": {},
     "output_type": "execute_result"
    }
   ],
   "source": [
    "item_costs = {}\n",
    "\n",
    "for item,cost  in zip(items,costs):\n",
    "    item_costs[item] = cost\n",
    "    \n",
    "item_costs"
   ]
  },
  {
   "cell_type": "code",
   "execution_count": 45,
   "id": "f774a923",
   "metadata": {},
   "outputs": [
    {
     "data": {
      "text/plain": [
       "{'bread': 55.0, 'eggs': 12.55, 'butter': 125.0, 'biscuits': 25.5}"
      ]
     },
     "execution_count": 45,
     "metadata": {},
     "output_type": "execute_result"
    }
   ],
   "source": [
    "dict(zip(items,costs))"
   ]
  },
  {
   "cell_type": "code",
   "execution_count": 46,
   "id": "78c6b9b3",
   "metadata": {},
   "outputs": [
    {
     "data": {
      "text/plain": [
       "{'hello': 1, 'world': 2, 'bye': 3}"
      ]
     },
     "execution_count": 46,
     "metadata": {},
     "output_type": "execute_result"
    }
   ],
   "source": [
    "dict(hello=1, world=2, bye=3)"
   ]
  },
  {
   "cell_type": "markdown",
   "id": "0decad6c",
   "metadata": {},
   "source": [
    "### Dictionaries : Exercise\n",
    "\n",
    "- Lookup employee detail given employee name"
   ]
  },
  {
   "cell_type": "code",
   "execution_count": 55,
   "id": "a397bfdc",
   "metadata": {},
   "outputs": [],
   "source": [
    "emps_data = '''\n",
    "tom 1 tom@abc.com 1121 1234.56\n",
    "dick 2 dick@abc.com 1222 121212.21\n",
    "harry 3 hr@abc.com 2222 1111.11\n",
    "'''"
   ]
  },
  {
   "cell_type": "code",
   "execution_count": 61,
   "id": "43e15574",
   "metadata": {},
   "outputs": [
    {
     "data": {
      "text/plain": [
       "['tom 1 tom@abc.com 1121 1234.56',\n",
       " 'dick 2 dick@abc.com 1222 121212.21',\n",
       " 'harry 3 hr@abc.com 2222 1111.11']"
      ]
     },
     "execution_count": 61,
     "metadata": {},
     "output_type": "execute_result"
    }
   ],
   "source": [
    "# emps_data.split('\\n')\n",
    "emps_data.strip().splitlines()"
   ]
  },
  {
   "cell_type": "code",
   "execution_count": 64,
   "id": "e77a5f2f",
   "metadata": {},
   "outputs": [
    {
     "data": {
      "text/plain": [
       "['tom', '1', 'tom@abc.com', '1121', '1234.56']"
      ]
     },
     "execution_count": 64,
     "metadata": {},
     "output_type": "execute_result"
    }
   ],
   "source": [
    "emp1 = 'tom 1 tom@abc.com 1121 1234.56'.split()\n",
    "emp1"
   ]
  },
  {
   "cell_type": "code",
   "execution_count": 65,
   "id": "cb06dc97",
   "metadata": {},
   "outputs": [
    {
     "data": {
      "text/plain": [
       "'tom'"
      ]
     },
     "execution_count": 65,
     "metadata": {},
     "output_type": "execute_result"
    }
   ],
   "source": [
    "emp1.pop(0)"
   ]
  },
  {
   "cell_type": "code",
   "execution_count": 66,
   "id": "dabbb534",
   "metadata": {},
   "outputs": [
    {
     "data": {
      "text/plain": [
       "['1', 'tom@abc.com', '1121', '1234.56']"
      ]
     },
     "execution_count": 66,
     "metadata": {},
     "output_type": "execute_result"
    }
   ],
   "source": [
    "emp1"
   ]
  },
  {
   "cell_type": "code",
   "execution_count": 58,
   "id": "0ee27339",
   "metadata": {},
   "outputs": [
    {
     "data": {
      "text/plain": [
       "{'tom': ['1', 'tom@abc.com', '1121', '1234.56']}"
      ]
     },
     "execution_count": 58,
     "metadata": {},
     "output_type": "execute_result"
    }
   ],
   "source": [
    "emp_dict = {}\n",
    "emp_dict[emp1[0]] = emp1[1:]\n",
    "emp_dict"
   ]
  },
  {
   "cell_type": "code",
   "execution_count": 63,
   "id": "05fb382b",
   "metadata": {},
   "outputs": [
    {
     "data": {
      "text/plain": [
       "{'tom': ['1', 'tom@abc.com', '1121', '1234.56'],\n",
       " 'dick': ['2', 'dick@abc.com', '1222', '121212.21'],\n",
       " 'harry': ['3', 'hr@abc.com', '2222', '1111.11']}"
      ]
     },
     "execution_count": 63,
     "metadata": {},
     "output_type": "execute_result"
    }
   ],
   "source": [
    "# Combined Solution\n",
    "emp_dict = {}\n",
    "\n",
    "for emp in emps_data.strip().splitlines():\n",
    "    emp = emp.split()\n",
    "    emp_dict[emp[0]] = emp[1:]\n",
    "    \n",
    "emp_dict"
   ]
  },
  {
   "cell_type": "code",
   "execution_count": 73,
   "id": "ab988777",
   "metadata": {},
   "outputs": [
    {
     "data": {
      "text/plain": [
       "{'tom': ['1', 'tom@abc.com', '1121', '1234.56'],\n",
       " 'dick': ['2', 'dick@abc.com', '1222', '121212.21'],\n",
       " 'harry': ['3', 'hr@abc.com', '2222', '1111.11']}"
      ]
     },
     "execution_count": 73,
     "metadata": {},
     "output_type": "execute_result"
    }
   ],
   "source": [
    "# Combined Solution\n",
    "emp_dict = {}\n",
    "\n",
    "for emp in emps_data.strip().splitlines():\n",
    "    emp = emp.split()\n",
    "    first = emp.pop(0)\n",
    "    emp_dict[first] = emp\n",
    "    \n",
    "emp_dict"
   ]
  },
  {
   "cell_type": "code",
   "execution_count": 48,
   "id": "3b7d4eb5",
   "metadata": {},
   "outputs": [],
   "source": [
    "emp_dict = {}\n",
    "emp_dict['tom'] = [1, 'tom@abc.com', 1121, 1234.56]"
   ]
  },
  {
   "cell_type": "code",
   "execution_count": 49,
   "id": "3ad1f975",
   "metadata": {},
   "outputs": [
    {
     "data": {
      "text/plain": [
       "{'tom': [1, 'tom@abc.com', 1121, 1234.56]}"
      ]
     },
     "execution_count": 49,
     "metadata": {},
     "output_type": "execute_result"
    }
   ],
   "source": [
    "emp_dict"
   ]
  },
  {
   "cell_type": "code",
   "execution_count": 54,
   "id": "ff8053af",
   "metadata": {},
   "outputs": [
    {
     "data": {
      "text/plain": [
       "'tom@abc.com'"
      ]
     },
     "execution_count": 54,
     "metadata": {},
     "output_type": "execute_result"
    }
   ],
   "source": [
    "emp_dict['tom'][1]"
   ]
  },
  {
   "cell_type": "code",
   "execution_count": 68,
   "id": "e5a0b4de",
   "metadata": {},
   "outputs": [],
   "source": [
    "nums1 = list(range(10))"
   ]
  },
  {
   "cell_type": "code",
   "execution_count": 69,
   "id": "55cda38d",
   "metadata": {},
   "outputs": [],
   "source": [
    "nums2 = nums1"
   ]
  },
  {
   "cell_type": "code",
   "execution_count": 70,
   "id": "75e27683",
   "metadata": {},
   "outputs": [],
   "source": [
    "nums2.append(10)"
   ]
  },
  {
   "cell_type": "code",
   "execution_count": 71,
   "id": "c515e76f",
   "metadata": {},
   "outputs": [
    {
     "data": {
      "text/plain": [
       "[0, 1, 2, 3, 4, 5, 6, 7, 8, 9, 10]"
      ]
     },
     "execution_count": 71,
     "metadata": {},
     "output_type": "execute_result"
    }
   ],
   "source": [
    "nums1"
   ]
  },
  {
   "cell_type": "markdown",
   "id": "4be18f2c",
   "metadata": {},
   "source": [
    "## Functions"
   ]
  },
  {
   "cell_type": "code",
   "execution_count": 74,
   "id": "6c4e8eed",
   "metadata": {},
   "outputs": [],
   "source": [
    "def sq(num):\n",
    "    return num**2"
   ]
  },
  {
   "cell_type": "code",
   "execution_count": 75,
   "id": "a9500d93",
   "metadata": {},
   "outputs": [
    {
     "data": {
      "text/plain": [
       "100"
      ]
     },
     "execution_count": 75,
     "metadata": {},
     "output_type": "execute_result"
    }
   ],
   "source": [
    "sq(10)"
   ]
  },
  {
   "cell_type": "code",
   "execution_count": 76,
   "id": "49823bed",
   "metadata": {},
   "outputs": [
    {
     "data": {
      "text/plain": [
       "12321"
      ]
     },
     "execution_count": 76,
     "metadata": {},
     "output_type": "execute_result"
    }
   ],
   "source": [
    "sq(111)"
   ]
  },
  {
   "cell_type": "code",
   "execution_count": 77,
   "id": "7da05104",
   "metadata": {},
   "outputs": [],
   "source": [
    "def process_emps(emps_data):\n",
    "    emp_dict = {}\n",
    "\n",
    "    for emp in emps_data.strip().splitlines():\n",
    "        emp = emp.split()\n",
    "        emp_dict[emp[0]] = emp[1:]\n",
    "\n",
    "    return emp_dict"
   ]
  },
  {
   "cell_type": "code",
   "execution_count": 79,
   "id": "99d5ed66",
   "metadata": {},
   "outputs": [
    {
     "data": {
      "text/plain": [
       "{'tom': ['1', 'tom@abc.com', '1121', '1234.56'],\n",
       " 'dick': ['2', 'dick@abc.com', '1222', '121212.21'],\n",
       " 'harry': ['3', 'hr@abc.com', '2222', '1111.11']}"
      ]
     },
     "execution_count": 79,
     "metadata": {},
     "output_type": "execute_result"
    }
   ],
   "source": [
    "process_emps(emps_data)"
   ]
  },
  {
   "cell_type": "code",
   "execution_count": 83,
   "id": "1cd3f5fb",
   "metadata": {},
   "outputs": [],
   "source": [
    "def lookup(name, empdb):\n",
    "    if name in empdb:\n",
    "        return empdb[name]\n",
    "    else:\n",
    "        return 'Not Found'"
   ]
  },
  {
   "cell_type": "code",
   "execution_count": 87,
   "id": "18c75ec5",
   "metadata": {},
   "outputs": [],
   "source": [
    "def lookup(name, field, empdb):\n",
    "    if field == 'empid':\n",
    "        idx = 0\n",
    "    elif field == 'email':\n",
    "        idx = 1\n",
    "    elif field == 'extn':\n",
    "        idx = 2\n",
    "    elif field == 'salary':\n",
    "        idx = 3\n",
    "\n",
    "    if name in empdb:\n",
    "        return empdb[name][idx]\n",
    "    else:\n",
    "        return 'Not Found'"
   ]
  },
  {
   "cell_type": "code",
   "execution_count": 89,
   "id": "727a56d1",
   "metadata": {},
   "outputs": [],
   "source": [
    "def lookup(name, field, empdb):\n",
    "    field_idx_map = dict(empid=0, email=1, extn=2, salary=3)\n",
    "    \n",
    "    if name in empdb:\n",
    "        return empdb[name][field_idx_map[field]]\n",
    "    else:\n",
    "        return 'Not Found'"
   ]
  },
  {
   "cell_type": "code",
   "execution_count": 90,
   "id": "0efdc7d9",
   "metadata": {},
   "outputs": [
    {
     "name": "stdout",
     "output_type": "stream",
     "text": [
      "Enter Emp Name: tom\n",
      "tom 1\n",
      "Enter Emp Name: dick\n",
      "dick 2\n",
      "Enter Emp Name: harry\n",
      "harry 3\n",
      "Enter Emp Name: exit\n",
      "Bye\n"
     ]
    }
   ],
   "source": [
    "empdb = process_emps(emps_data)\n",
    "\n",
    "while True:\n",
    "    name = input('Enter Emp Name: ')\n",
    "    if name == 'exit':\n",
    "        print('Bye')\n",
    "        break\n",
    "        \n",
    "    emp_details = lookup(name, 'empid', empdb)\n",
    "    print(name, emp_details)"
   ]
  },
  {
   "cell_type": "code",
   "execution_count": 86,
   "id": "c300aed2",
   "metadata": {},
   "outputs": [
    {
     "data": {
      "text/plain": [
       "'1234.56'"
      ]
     },
     "execution_count": 86,
     "metadata": {},
     "output_type": "execute_result"
    }
   ],
   "source": [
    "# lookup('tom', empdb)[-1]\n",
    "# lookup('tom', 'salary', empdb)"
   ]
  },
  {
   "cell_type": "code",
   "execution_count": null,
   "id": "2b6ea0d8",
   "metadata": {},
   "outputs": [],
   "source": []
  },
  {
   "cell_type": "code",
   "execution_count": null,
   "id": "726a13ea",
   "metadata": {},
   "outputs": [],
   "source": []
  },
  {
   "cell_type": "code",
   "execution_count": null,
   "id": "ba1d544f",
   "metadata": {},
   "outputs": [],
   "source": []
  }
 ],
 "metadata": {
  "kernelspec": {
   "display_name": "Python 3",
   "language": "python",
   "name": "python3"
  },
  "language_info": {
   "codemirror_mode": {
    "name": "ipython",
    "version": 3
   },
   "file_extension": ".py",
   "mimetype": "text/x-python",
   "name": "python",
   "nbconvert_exporter": "python",
   "pygments_lexer": "ipython3",
   "version": "3.8.16"
  }
 },
 "nbformat": 4,
 "nbformat_minor": 5
}
