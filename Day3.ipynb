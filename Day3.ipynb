{
 "cells": [
  {
   "cell_type": "markdown",
   "id": "b0568782",
   "metadata": {},
   "source": [
    "# Day3: Agenda\n",
    "\n",
    "- Dictionaries\n",
    "- Functions\n",
    "- if-elif-else\n",
    "- modules\n",
    "- Deep/nested data structures"
   ]
  },
  {
   "cell_type": "markdown",
   "id": "0b1afb92",
   "metadata": {},
   "source": [
    "## Dictionaries\n",
    "\n",
    "> Collection of key-value pairs\n",
    "\n",
    "- Lookup\n",
    "- Unordered by default (check py version)"
   ]
  },
  {
   "cell_type": "code",
   "execution_count": 1,
   "id": "2e4aa7a5",
   "metadata": {},
   "outputs": [],
   "source": [
    "items  = ['bread', 'eggs', 'butter', 'biscuits']\n",
    "costs  = [55.0,    12.55,   125.0,    25.5]"
   ]
  },
  {
   "cell_type": "code",
   "execution_count": 6,
   "id": "088d225f",
   "metadata": {},
   "outputs": [],
   "source": [
    "item = 'biscuits'"
   ]
  },
  {
   "cell_type": "code",
   "execution_count": 7,
   "id": "79105b94",
   "metadata": {},
   "outputs": [
    {
     "data": {
      "text/plain": [
       "25.5"
      ]
     },
     "execution_count": 7,
     "metadata": {},
     "output_type": "execute_result"
    }
   ],
   "source": [
    "idx = items.index(item)\n",
    "costs[idx]"
   ]
  },
  {
   "cell_type": "code",
   "execution_count": 10,
   "id": "849f7e4e",
   "metadata": {},
   "outputs": [],
   "source": [
    "item_costs = {'bread': 55.0, 'eggs': 12.55, 'butter': 125.0, 'biscuits': 25.5}\n",
    "sqs = {1:1, 2: 4, 3: 9, 4: 16}\n",
    "wordsbylength = {2: 'or', 3: 'and', 4: 'else'}"
   ]
  },
  {
   "cell_type": "code",
   "execution_count": 9,
   "id": "c7ea6c5c",
   "metadata": {},
   "outputs": [
    {
     "data": {
      "text/plain": [
       "dict"
      ]
     },
     "execution_count": 9,
     "metadata": {},
     "output_type": "execute_result"
    }
   ],
   "source": [
    "type(item_costs)"
   ]
  },
  {
   "cell_type": "code",
   "execution_count": 11,
   "id": "b6f9c021",
   "metadata": {},
   "outputs": [
    {
     "data": {
      "text/plain": [
       "25.5"
      ]
     },
     "execution_count": 11,
     "metadata": {},
     "output_type": "execute_result"
    }
   ],
   "source": [
    "item = 'biscuits'\n",
    "item_costs[item]"
   ]
  },
  {
   "cell_type": "code",
   "execution_count": 12,
   "id": "f8d20f82",
   "metadata": {},
   "outputs": [
    {
     "data": {
      "text/plain": [
       "16"
      ]
     },
     "execution_count": 12,
     "metadata": {},
     "output_type": "execute_result"
    }
   ],
   "source": [
    "sqs[4]"
   ]
  },
  {
   "cell_type": "code",
   "execution_count": 13,
   "id": "98c7e45a",
   "metadata": {},
   "outputs": [
    {
     "data": {
      "text/plain": [
       "'else'"
      ]
     },
     "execution_count": 13,
     "metadata": {},
     "output_type": "execute_result"
    }
   ],
   "source": [
    "wordsbylength[4]"
   ]
  },
  {
   "cell_type": "code",
   "execution_count": 14,
   "id": "1100ccd1",
   "metadata": {},
   "outputs": [
    {
     "ename": "TypeError",
     "evalue": "unhashable type: 'slice'",
     "output_type": "error",
     "traceback": [
      "\u001b[0;31m---------------------------------------------------------------------------\u001b[0m",
      "\u001b[0;31mTypeError\u001b[0m                                 Traceback (most recent call last)",
      "\u001b[0;32m<ipython-input-14-959af09ab37c>\u001b[0m in \u001b[0;36m<module>\u001b[0;34m\u001b[0m\n\u001b[0;32m----> 1\u001b[0;31m \u001b[0mitem_costs\u001b[0m\u001b[0;34m[\u001b[0m\u001b[0;34m'bread'\u001b[0m\u001b[0;34m:\u001b[0m\u001b[0;34m'butter'\u001b[0m\u001b[0;34m]\u001b[0m\u001b[0;34m\u001b[0m\u001b[0;34m\u001b[0m\u001b[0m\n\u001b[0m",
      "\u001b[0;31mTypeError\u001b[0m: unhashable type: 'slice'"
     ]
    }
   ],
   "source": [
    "item_costs['bread':'butter']"
   ]
  },
  {
   "cell_type": "code",
   "execution_count": 15,
   "id": "a3019240",
   "metadata": {},
   "outputs": [
    {
     "ename": "KeyError",
     "evalue": "'jam'",
     "output_type": "error",
     "traceback": [
      "\u001b[0;31m---------------------------------------------------------------------------\u001b[0m",
      "\u001b[0;31mKeyError\u001b[0m                                  Traceback (most recent call last)",
      "\u001b[0;32m<ipython-input-15-d06a99935a96>\u001b[0m in \u001b[0;36m<module>\u001b[0;34m\u001b[0m\n\u001b[0;32m----> 1\u001b[0;31m \u001b[0mitem_costs\u001b[0m\u001b[0;34m[\u001b[0m\u001b[0;34m'jam'\u001b[0m\u001b[0;34m]\u001b[0m\u001b[0;34m\u001b[0m\u001b[0;34m\u001b[0m\u001b[0m\n\u001b[0m",
      "\u001b[0;31mKeyError\u001b[0m: 'jam'"
     ]
    }
   ],
   "source": [
    "item_costs['jam']"
   ]
  },
  {
   "cell_type": "code",
   "execution_count": 16,
   "id": "d970e295",
   "metadata": {},
   "outputs": [
    {
     "data": {
      "text/plain": [
       "True"
      ]
     },
     "execution_count": 16,
     "metadata": {},
     "output_type": "execute_result"
    }
   ],
   "source": [
    "'abra' in 'abracadabra'"
   ]
  },
  {
   "cell_type": "code",
   "execution_count": 17,
   "id": "37a95185",
   "metadata": {},
   "outputs": [
    {
     "data": {
      "text/plain": [
       "True"
      ]
     },
     "execution_count": 17,
     "metadata": {},
     "output_type": "execute_result"
    }
   ],
   "source": [
    "1 in [1,2,3]"
   ]
  },
  {
   "cell_type": "code",
   "execution_count": 18,
   "id": "62d7f647",
   "metadata": {},
   "outputs": [
    {
     "data": {
      "text/plain": [
       "False"
      ]
     },
     "execution_count": 18,
     "metadata": {},
     "output_type": "execute_result"
    }
   ],
   "source": [
    "'jam' in item_costs"
   ]
  },
  {
   "cell_type": "code",
   "execution_count": 19,
   "id": "9d5f7090",
   "metadata": {},
   "outputs": [
    {
     "data": {
      "text/plain": [
       "dict_keys(['bread', 'eggs', 'butter', 'biscuits'])"
      ]
     },
     "execution_count": 19,
     "metadata": {},
     "output_type": "execute_result"
    }
   ],
   "source": [
    "item_costs.keys()"
   ]
  },
  {
   "cell_type": "code",
   "execution_count": 20,
   "id": "4b9dece7",
   "metadata": {},
   "outputs": [
    {
     "data": {
      "text/plain": [
       "dict_values([55.0, 12.55, 125.0, 25.5])"
      ]
     },
     "execution_count": 20,
     "metadata": {},
     "output_type": "execute_result"
    }
   ],
   "source": [
    "item_costs.values()"
   ]
  },
  {
   "cell_type": "code",
   "execution_count": 21,
   "id": "38762183",
   "metadata": {},
   "outputs": [
    {
     "data": {
      "text/plain": [
       "dict_items([('bread', 55.0), ('eggs', 12.55), ('butter', 125.0), ('biscuits', 25.5)])"
      ]
     },
     "execution_count": 21,
     "metadata": {},
     "output_type": "execute_result"
    }
   ],
   "source": [
    "item_costs.items()"
   ]
  },
  {
   "cell_type": "code",
   "execution_count": 22,
   "id": "41974c01",
   "metadata": {},
   "outputs": [
    {
     "name": "stdout",
     "output_type": "stream",
     "text": [
      "bread\n",
      "eggs\n",
      "butter\n",
      "biscuits\n"
     ]
    }
   ],
   "source": [
    "for key in item_costs.keys():\n",
    "    print(key)"
   ]
  },
  {
   "cell_type": "code",
   "execution_count": 23,
   "id": "55502d43",
   "metadata": {},
   "outputs": [
    {
     "name": "stdout",
     "output_type": "stream",
     "text": [
      "bread 55.0\n",
      "eggs 12.55\n",
      "butter 125.0\n",
      "biscuits 25.5\n"
     ]
    }
   ],
   "source": [
    "for item, cost in item_costs.items():\n",
    "    print(item, cost)\n",
    "    "
   ]
  },
  {
   "cell_type": "code",
   "execution_count": 24,
   "id": "88e5a844",
   "metadata": {},
   "outputs": [],
   "source": [
    "t = (1,2,3)"
   ]
  },
  {
   "cell_type": "code",
   "execution_count": 25,
   "id": "aa73fed1",
   "metadata": {},
   "outputs": [
    {
     "data": {
      "text/plain": [
       "tuple"
      ]
     },
     "execution_count": 25,
     "metadata": {},
     "output_type": "execute_result"
    }
   ],
   "source": [
    "type(t)"
   ]
  },
  {
   "cell_type": "code",
   "execution_count": 26,
   "id": "bc5ed401",
   "metadata": {},
   "outputs": [
    {
     "data": {
      "text/plain": [
       "1"
      ]
     },
     "execution_count": 26,
     "metadata": {},
     "output_type": "execute_result"
    }
   ],
   "source": [
    "t[0]"
   ]
  },
  {
   "cell_type": "code",
   "execution_count": 27,
   "id": "99ba1f2f",
   "metadata": {},
   "outputs": [
    {
     "data": {
      "text/plain": [
       "(1, 2)"
      ]
     },
     "execution_count": 27,
     "metadata": {},
     "output_type": "execute_result"
    }
   ],
   "source": [
    "t[:2]"
   ]
  },
  {
   "cell_type": "code",
   "execution_count": 28,
   "id": "ff577396",
   "metadata": {},
   "outputs": [
    {
     "name": "stdout",
     "output_type": "stream",
     "text": [
      "('bread', 55.0) <class 'tuple'>\n",
      "('eggs', 12.55) <class 'tuple'>\n",
      "('butter', 125.0) <class 'tuple'>\n",
      "('biscuits', 25.5) <class 'tuple'>\n"
     ]
    }
   ],
   "source": [
    "for t in item_costs.items():\n",
    "    print(t, type(t))\n",
    "    "
   ]
  },
  {
   "cell_type": "code",
   "execution_count": 29,
   "id": "90381e77",
   "metadata": {},
   "outputs": [],
   "source": [
    "item_costs['jam'] = 188.5"
   ]
  },
  {
   "cell_type": "code",
   "execution_count": 30,
   "id": "bf9ba0ff",
   "metadata": {},
   "outputs": [
    {
     "data": {
      "text/plain": [
       "{'bread': 55.0, 'eggs': 12.55, 'butter': 125.0, 'biscuits': 25.5, 'jam': 188.5}"
      ]
     },
     "execution_count": 30,
     "metadata": {},
     "output_type": "execute_result"
    }
   ],
   "source": [
    "item_costs"
   ]
  },
  {
   "cell_type": "code",
   "execution_count": 32,
   "id": "e2bbdf83",
   "metadata": {},
   "outputs": [
    {
     "data": {
      "text/plain": [
       "{'bread': 55.0, 'eggs': 12.55, 'butter': 130.0, 'biscuits': 25.5, 'jam': 188.5}"
      ]
     },
     "execution_count": 32,
     "metadata": {},
     "output_type": "execute_result"
    }
   ],
   "source": [
    "item_costs['butter'] += 5\n",
    "item_costs"
   ]
  },
  {
   "cell_type": "code",
   "execution_count": 33,
   "id": "34873b06",
   "metadata": {},
   "outputs": [
    {
     "data": {
      "text/plain": [
       "{'bread': 55.0, 'eggs': 12.55, 'butter': 130.0, 'biscuits': 25.5}"
      ]
     },
     "execution_count": 33,
     "metadata": {},
     "output_type": "execute_result"
    }
   ],
   "source": [
    "del item_costs['jam']\n",
    "item_costs"
   ]
  },
  {
   "cell_type": "code",
   "execution_count": 36,
   "id": "c5c85dd4",
   "metadata": {},
   "outputs": [
    {
     "data": {
      "text/plain": [
       "25.5"
      ]
     },
     "execution_count": 36,
     "metadata": {},
     "output_type": "execute_result"
    }
   ],
   "source": [
    "item_costs.get('biscuits', 'not found')"
   ]
  },
  {
   "cell_type": "code",
   "execution_count": 38,
   "id": "006cc437",
   "metadata": {},
   "outputs": [
    {
     "name": "stdout",
     "output_type": "stream",
     "text": [
      "25.5\n"
     ]
    }
   ],
   "source": [
    "item = 'biscuits'\n",
    "if item in item_costs:\n",
    "    print(item_costs[item])\n",
    "else:\n",
    "    print(item, 'not present')"
   ]
  },
  {
   "cell_type": "code",
   "execution_count": 39,
   "id": "c53b313f",
   "metadata": {},
   "outputs": [
    {
     "data": {
      "text/plain": [
       "{1: 1, 2: 4, 3: 9, 4: 16}"
      ]
     },
     "execution_count": 39,
     "metadata": {},
     "output_type": "execute_result"
    }
   ],
   "source": [
    "sqs"
   ]
  },
  {
   "cell_type": "code",
   "execution_count": 40,
   "id": "5ceaee7a",
   "metadata": {},
   "outputs": [
    {
     "data": {
      "text/plain": [
       "{1: 1, 2: 8, 3: 27, 4: 64, 5: 125, 6: 216, 7: 343, 8: 512, 9: 729, 10: 1000}"
      ]
     },
     "execution_count": 40,
     "metadata": {},
     "output_type": "execute_result"
    }
   ],
   "source": [
    "cubes = {}\n",
    "cubes = dict()\n",
    "\n",
    "for num in range(1,11):\n",
    "    cubes[num] = num**3\n",
    "    \n",
    "cubes"
   ]
  },
  {
   "cell_type": "code",
   "execution_count": 42,
   "id": "8b5caa7f",
   "metadata": {},
   "outputs": [
    {
     "data": {
      "text/plain": [
       "1000"
      ]
     },
     "execution_count": 42,
     "metadata": {},
     "output_type": "execute_result"
    }
   ],
   "source": [
    "cubes[10]"
   ]
  },
  {
   "cell_type": "code",
   "execution_count": 43,
   "id": "4659e672",
   "metadata": {},
   "outputs": [],
   "source": [
    "items  = ['bread', 'eggs', 'butter', 'biscuits']\n",
    "costs  = [55.0,    12.55,   125.0,    25.5]"
   ]
  },
  {
   "cell_type": "code",
   "execution_count": 44,
   "id": "8f54b332",
   "metadata": {},
   "outputs": [
    {
     "data": {
      "text/plain": [
       "{'bread': 55.0, 'eggs': 12.55, 'butter': 125.0, 'biscuits': 25.5}"
      ]
     },
     "execution_count": 44,
     "metadata": {},
     "output_type": "execute_result"
    }
   ],
   "source": [
    "item_costs = {}\n",
    "\n",
    "for item,cost  in zip(items,costs):\n",
    "    item_costs[item] = cost\n",
    "    \n",
    "item_costs"
   ]
  },
  {
   "cell_type": "code",
   "execution_count": 45,
   "id": "6c65fb22",
   "metadata": {},
   "outputs": [
    {
     "data": {
      "text/plain": [
       "{'bread': 55.0, 'eggs': 12.55, 'butter': 125.0, 'biscuits': 25.5}"
      ]
     },
     "execution_count": 45,
     "metadata": {},
     "output_type": "execute_result"
    }
   ],
   "source": [
    "dict(zip(items,costs))"
   ]
  },
  {
   "cell_type": "code",
   "execution_count": 46,
   "id": "ab2a94cc",
   "metadata": {},
   "outputs": [
    {
     "data": {
      "text/plain": [
       "{'hello': 1, 'world': 2, 'bye': 3}"
      ]
     },
     "execution_count": 46,
     "metadata": {},
     "output_type": "execute_result"
    }
   ],
   "source": [
    "dict(hello=1, world=2, bye=3)"
   ]
  },
  {
   "cell_type": "markdown",
   "id": "a2ec0b78",
   "metadata": {},
   "source": [
    "### Dictionaries : Exercise\n",
    "\n",
    "- Lookup employee detail given employee name"
   ]
  },
  {
   "cell_type": "code",
   "execution_count": 55,
   "id": "569c5fa2",
   "metadata": {},
   "outputs": [],
   "source": [
    "emps_data = '''\n",
    "tom 1 tom@abc.com 1121 1234.56\n",
    "dick 2 dick@abc.com 1222 121212.21\n",
    "harry 3 hr@abc.com 2222 1111.11\n",
    "'''"
   ]
  },
  {
   "cell_type": "code",
   "execution_count": 61,
   "id": "82b7c18b",
   "metadata": {},
   "outputs": [
    {
     "data": {
      "text/plain": [
       "['tom 1 tom@abc.com 1121 1234.56',\n",
       " 'dick 2 dick@abc.com 1222 121212.21',\n",
       " 'harry 3 hr@abc.com 2222 1111.11']"
      ]
     },
     "execution_count": 61,
     "metadata": {},
     "output_type": "execute_result"
    }
   ],
   "source": [
    "# emps_data.split('\\n')\n",
    "emps_data.strip().splitlines()"
   ]
  },
  {
   "cell_type": "code",
   "execution_count": 64,
   "id": "67d2ae2f",
   "metadata": {},
   "outputs": [
    {
     "data": {
      "text/plain": [
       "['tom', '1', 'tom@abc.com', '1121', '1234.56']"
      ]
     },
     "execution_count": 64,
     "metadata": {},
     "output_type": "execute_result"
    }
   ],
   "source": [
    "emp1 = 'tom 1 tom@abc.com 1121 1234.56'.split()\n",
    "emp1"
   ]
  },
  {
   "cell_type": "code",
   "execution_count": 65,
   "id": "aaa05f5d",
   "metadata": {},
   "outputs": [
    {
     "data": {
      "text/plain": [
       "'tom'"
      ]
     },
     "execution_count": 65,
     "metadata": {},
     "output_type": "execute_result"
    }
   ],
   "source": [
    "emp1.pop(0)"
   ]
  },
  {
   "cell_type": "code",
   "execution_count": 66,
   "id": "fd718b44",
   "metadata": {},
   "outputs": [
    {
     "data": {
      "text/plain": [
       "['1', 'tom@abc.com', '1121', '1234.56']"
      ]
     },
     "execution_count": 66,
     "metadata": {},
     "output_type": "execute_result"
    }
   ],
   "source": [
    "emp1"
   ]
  },
  {
   "cell_type": "code",
   "execution_count": 58,
   "id": "1fa22146",
   "metadata": {},
   "outputs": [
    {
     "data": {
      "text/plain": [
       "{'tom': ['1', 'tom@abc.com', '1121', '1234.56']}"
      ]
     },
     "execution_count": 58,
     "metadata": {},
     "output_type": "execute_result"
    }
   ],
   "source": [
    "emp_dict = {}\n",
    "emp_dict[emp1[0]] = emp1[1:]\n",
    "emp_dict"
   ]
  },
  {
   "cell_type": "code",
   "execution_count": 63,
   "id": "9a5b19e5",
   "metadata": {},
   "outputs": [
    {
     "data": {
      "text/plain": [
       "{'tom': ['1', 'tom@abc.com', '1121', '1234.56'],\n",
       " 'dick': ['2', 'dick@abc.com', '1222', '121212.21'],\n",
       " 'harry': ['3', 'hr@abc.com', '2222', '1111.11']}"
      ]
     },
     "execution_count": 63,
     "metadata": {},
     "output_type": "execute_result"
    }
   ],
   "source": [
    "# Combined Solution\n",
    "emp_dict = {}\n",
    "\n",
    "for emp in emps_data.strip().splitlines():\n",
    "    emp = emp.split()\n",
    "    emp_dict[emp[0]] = emp[1:]\n",
    "    \n",
    "emp_dict"
   ]
  },
  {
   "cell_type": "code",
   "execution_count": 73,
   "id": "afe564e2",
   "metadata": {},
   "outputs": [
    {
     "data": {
      "text/plain": [
       "{'tom': ['1', 'tom@abc.com', '1121', '1234.56'],\n",
       " 'dick': ['2', 'dick@abc.com', '1222', '121212.21'],\n",
       " 'harry': ['3', 'hr@abc.com', '2222', '1111.11']}"
      ]
     },
     "execution_count": 73,
     "metadata": {},
     "output_type": "execute_result"
    }
   ],
   "source": [
    "# Combined Solution\n",
    "emp_dict = {}\n",
    "\n",
    "for emp in emps_data.strip().splitlines():\n",
    "    emp = emp.split()\n",
    "    first = emp.pop(0)\n",
    "    emp_dict[first] = emp\n",
    "    \n",
    "emp_dict"
   ]
  },
  {
   "cell_type": "code",
   "execution_count": 48,
   "id": "e87f55fd",
   "metadata": {},
   "outputs": [],
   "source": [
    "emp_dict = {}\n",
    "emp_dict['tom'] = [1, 'tom@abc.com', 1121, 1234.56]"
   ]
  },
  {
   "cell_type": "code",
   "execution_count": 49,
   "id": "c3710e87",
   "metadata": {},
   "outputs": [
    {
     "data": {
      "text/plain": [
       "{'tom': [1, 'tom@abc.com', 1121, 1234.56]}"
      ]
     },
     "execution_count": 49,
     "metadata": {},
     "output_type": "execute_result"
    }
   ],
   "source": [
    "emp_dict"
   ]
  },
  {
   "cell_type": "code",
   "execution_count": 54,
   "id": "337bec6e",
   "metadata": {},
   "outputs": [
    {
     "data": {
      "text/plain": [
       "'tom@abc.com'"
      ]
     },
     "execution_count": 54,
     "metadata": {},
     "output_type": "execute_result"
    }
   ],
   "source": [
    "emp_dict['tom'][1]"
   ]
  },
  {
   "cell_type": "code",
   "execution_count": 68,
   "id": "2a62044e",
   "metadata": {},
   "outputs": [],
   "source": [
    "nums1 = list(range(10))"
   ]
  },
  {
   "cell_type": "code",
   "execution_count": 69,
   "id": "8c20ef29",
   "metadata": {},
   "outputs": [],
   "source": [
    "nums2 = nums1"
   ]
  },
  {
   "cell_type": "code",
   "execution_count": 70,
   "id": "d54ebc7c",
   "metadata": {},
   "outputs": [],
   "source": [
    "nums2.append(10)"
   ]
  },
  {
   "cell_type": "code",
   "execution_count": 71,
   "id": "c0b6880c",
   "metadata": {},
   "outputs": [
    {
     "data": {
      "text/plain": [
       "[0, 1, 2, 3, 4, 5, 6, 7, 8, 9, 10]"
      ]
     },
     "execution_count": 71,
     "metadata": {},
     "output_type": "execute_result"
    }
   ],
   "source": [
    "nums1"
   ]
  },
  {
   "cell_type": "markdown",
   "id": "0a298767",
   "metadata": {},
   "source": [
    "## Functions"
   ]
  },
  {
   "cell_type": "code",
   "execution_count": 74,
   "id": "452510e5",
   "metadata": {},
   "outputs": [],
   "source": [
    "def sq(num):\n",
    "    return num**2"
   ]
  },
  {
   "cell_type": "code",
   "execution_count": 75,
   "id": "e439d1aa",
   "metadata": {},
   "outputs": [
    {
     "data": {
      "text/plain": [
       "100"
      ]
     },
     "execution_count": 75,
     "metadata": {},
     "output_type": "execute_result"
    }
   ],
   "source": [
    "sq(10)"
   ]
  },
  {
   "cell_type": "code",
   "execution_count": 76,
   "id": "752ec84e",
   "metadata": {},
   "outputs": [
    {
     "data": {
      "text/plain": [
       "12321"
      ]
     },
     "execution_count": 76,
     "metadata": {},
     "output_type": "execute_result"
    }
   ],
   "source": [
    "sq(111)"
   ]
  },
  {
   "cell_type": "code",
   "execution_count": 77,
   "id": "0b1d909a",
   "metadata": {},
   "outputs": [],
   "source": [
    "def process_emps(emps_data):\n",
    "    emp_dict = {}\n",
    "\n",
    "    for emp in emps_data.strip().splitlines():\n",
    "        emp = emp.split()\n",
    "        emp_dict[emp[0]] = emp[1:]\n",
    "\n",
    "    return emp_dict"
   ]
  },
  {
   "cell_type": "code",
   "execution_count": 79,
   "id": "7a7f4014",
   "metadata": {},
   "outputs": [
    {
     "data": {
      "text/plain": [
       "{'tom': ['1', 'tom@abc.com', '1121', '1234.56'],\n",
       " 'dick': ['2', 'dick@abc.com', '1222', '121212.21'],\n",
       " 'harry': ['3', 'hr@abc.com', '2222', '1111.11']}"
      ]
     },
     "execution_count": 79,
     "metadata": {},
     "output_type": "execute_result"
    }
   ],
   "source": [
    "process_emps(emps_data)"
   ]
  },
  {
   "cell_type": "code",
   "execution_count": 83,
   "id": "7385c83d",
   "metadata": {},
   "outputs": [],
   "source": [
    "def lookup(name, field, empdb):\n",
    "    if name in empdb:\n",
    "        if field == 'salary':\n",
    "        return empdb[name][-1]\n",
    "    else:\n",
    "        return 'Not Found'"
   ]
  },
  {
   "cell_type": "code",
   "execution_count": 84,
   "id": "99b62b82",
   "metadata": {},
   "outputs": [
    {
     "name": "stdout",
     "output_type": "stream",
     "text": [
      "Enter Emp Name: tom\n",
      "tom ['1', 'tom@abc.com', '1121', '1234.56']\n",
      "Enter Emp Name: dick\n",
      "dick ['2', 'dick@abc.com', '1222', '121212.21']\n",
      "Enter Emp Name: harry\n",
      "harry ['3', 'hr@abc.com', '2222', '1111.11']\n",
      "Enter Emp Name: exit\n",
      "Bye\n"
     ]
    }
   ],
   "source": [
    "empdb = process_emps(emps_data)\n",
    "\n",
    "while True:\n",
    "    name = input('Enter Emp Name: ')\n",
    "    if name == 'exit':\n",
    "        print('Bye')\n",
    "        break\n",
    "        \n",
    "    emp_details = lookup(name, empdb)\n",
    "    print(name, emp_details)"
   ]
  },
  {
   "cell_type": "code",
   "execution_count": 86,
   "id": "df9aa4ab",
   "metadata": {},
   "outputs": [
    {
     "data": {
      "text/plain": [
       "'1234.56'"
      ]
     },
     "execution_count": 86,
     "metadata": {},
     "output_type": "execute_result"
    }
   ],
   "source": [
    "# lookup('tom', empdb)[-1]\n",
    "# lookup('tom', 'salary', empdb)"
   ]
  },
  {
   "cell_type": "code",
   "execution_count": null,
   "id": "d22fd468",
   "metadata": {},
   "outputs": [],
   "source": []
  },
  {
   "cell_type": "code",
   "execution_count": null,
   "id": "379ccfb5",
   "metadata": {},
   "outputs": [],
   "source": []
  },
  {
   "cell_type": "code",
   "execution_count": null,
   "id": "2ab2031a",
   "metadata": {},
   "outputs": [],
   "source": []
  }
 ],
 "metadata": {
  "kernelspec": {
   "display_name": "Python 3",
   "language": "python",
   "name": "python3"
  },
  "language_info": {
   "codemirror_mode": {
    "name": "ipython",
    "version": 3
   },
   "file_extension": ".py",
   "mimetype": "text/x-python",
   "name": "python",
   "nbconvert_exporter": "python",
   "pygments_lexer": "ipython3",
   "version": "3.8.16"
  }
 },
 "nbformat": 4,
 "nbformat_minor": 5
}
