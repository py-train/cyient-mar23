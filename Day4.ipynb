{
 "cells": [
  {
   "cell_type": "markdown",
   "id": "a5c30c4b",
   "metadata": {},
   "source": [
    "# Day4: Agenda\n",
    "\n",
    "- (Text-based) File I/O\n",
    "- File Formats\n",
    "    - CSV\n",
    "    - JSON\n",
    "- RE"
   ]
  },
  {
   "cell_type": "markdown",
   "id": "5f7ccf3f",
   "metadata": {},
   "source": [
    "## File I/O\n",
    "\n",
    "- open r/w/a\n",
    "- read\n",
    "- write\n",
    "- tell\n",
    "- seek\n",
    "- close"
   ]
  },
  {
   "cell_type": "code",
   "execution_count": 19,
   "id": "1d557554",
   "metadata": {},
   "outputs": [
    {
     "data": {
      "text/plain": [
       "<_io.TextIOWrapper name='test.txt' mode='r' encoding='latin'>"
      ]
     },
     "execution_count": 19,
     "metadata": {},
     "output_type": "execute_result"
    }
   ],
   "source": [
    "f = open('test.txt', encoding='latin')\n",
    "f"
   ]
  },
  {
   "cell_type": "code",
   "execution_count": 3,
   "id": "e4b26277",
   "metadata": {},
   "outputs": [
    {
     "data": {
      "text/plain": [
       "True"
      ]
     },
     "execution_count": 3,
     "metadata": {},
     "output_type": "execute_result"
    }
   ],
   "source": [
    "f.readable()"
   ]
  },
  {
   "cell_type": "code",
   "execution_count": 11,
   "id": "aa3f664d",
   "metadata": {},
   "outputs": [
    {
     "data": {
      "text/plain": [
       "''"
      ]
     },
     "execution_count": 11,
     "metadata": {},
     "output_type": "execute_result"
    }
   ],
   "source": [
    "f.readline()"
   ]
  },
  {
   "cell_type": "code",
   "execution_count": 12,
   "id": "7aa59061",
   "metadata": {},
   "outputs": [
    {
     "data": {
      "text/plain": [
       "57"
      ]
     },
     "execution_count": 12,
     "metadata": {},
     "output_type": "execute_result"
    }
   ],
   "source": [
    "f.tell()"
   ]
  },
  {
   "cell_type": "code",
   "execution_count": 13,
   "id": "009be763",
   "metadata": {},
   "outputs": [
    {
     "data": {
      "text/plain": [
       "0"
      ]
     },
     "execution_count": 13,
     "metadata": {},
     "output_type": "execute_result"
    }
   ],
   "source": [
    "f.seek(0)"
   ]
  },
  {
   "cell_type": "code",
   "execution_count": 14,
   "id": "2f3dde72",
   "metadata": {},
   "outputs": [
    {
     "data": {
      "text/plain": [
       "['Random\\n', 'testing data\\n', 'for\\n']"
      ]
     },
     "execution_count": 14,
     "metadata": {},
     "output_type": "execute_result"
    }
   ],
   "source": [
    "f.readlines(20)"
   ]
  },
  {
   "cell_type": "code",
   "execution_count": 15,
   "id": "ef85c47f",
   "metadata": {},
   "outputs": [
    {
     "data": {
      "text/plain": [
       "'\\nchecking '"
      ]
     },
     "execution_count": 15,
     "metadata": {},
     "output_type": "execute_result"
    }
   ],
   "source": [
    "f.read(10)"
   ]
  },
  {
   "cell_type": "code",
   "execution_count": 16,
   "id": "c26ab63b",
   "metadata": {},
   "outputs": [
    {
     "data": {
      "text/plain": [
       "'FILE I/O\\n\\ncapabilities.'"
      ]
     },
     "execution_count": 16,
     "metadata": {},
     "output_type": "execute_result"
    }
   ],
   "source": [
    "f.read()"
   ]
  },
  {
   "cell_type": "code",
   "execution_count": 17,
   "id": "25fd11ea",
   "metadata": {},
   "outputs": [
    {
     "data": {
      "text/plain": [
       "0"
      ]
     },
     "execution_count": 17,
     "metadata": {},
     "output_type": "execute_result"
    }
   ],
   "source": [
    "f.seek(0)"
   ]
  },
  {
   "cell_type": "code",
   "execution_count": 18,
   "id": "6ffb61cf",
   "metadata": {},
   "outputs": [
    {
     "name": "stdout",
     "output_type": "stream",
     "text": [
      "Random\n",
      "testing data\n",
      "for\n",
      "\n",
      "checking FILE I/O\n",
      "\n",
      "capabilities.\n"
     ]
    }
   ],
   "source": [
    "for line in f:\n",
    "    print(line.strip())"
   ]
  },
  {
   "cell_type": "code",
   "execution_count": null,
   "id": "e3d59c97",
   "metadata": {},
   "outputs": [],
   "source": []
  }
 ],
 "metadata": {
  "kernelspec": {
   "display_name": "Python 3",
   "language": "python",
   "name": "python3"
  },
  "language_info": {
   "codemirror_mode": {
    "name": "ipython",
    "version": 3
   },
   "file_extension": ".py",
   "mimetype": "text/x-python",
   "name": "python",
   "nbconvert_exporter": "python",
   "pygments_lexer": "ipython3",
   "version": "3.8.16"
  }
 },
 "nbformat": 4,
 "nbformat_minor": 5
}
