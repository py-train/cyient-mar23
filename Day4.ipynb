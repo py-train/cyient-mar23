{
 "cells": [
  {
   "cell_type": "markdown",
   "id": "91a30bb0",
   "metadata": {},
   "source": [
    "# Day4: Agenda\n",
    "\n",
    "- (Text-based) File I/O\n",
    "- File Formats\n",
    "    - CSV\n",
    "    - JSON\n",
    "- RE"
   ]
  },
  {
   "cell_type": "markdown",
   "id": "e1c472cf",
   "metadata": {},
   "source": [
    "## File I/O\n",
    "\n",
    "- open r/w/a\n",
    "- read\n",
    "- write\n",
    "- tell\n",
    "- seek\n",
    "- close"
   ]
  },
  {
   "cell_type": "code",
   "execution_count": 19,
   "id": "0f05495e",
   "metadata": {},
   "outputs": [
    {
     "data": {
      "text/plain": [
       "<_io.TextIOWrapper name='test.txt' mode='r' encoding='latin'>"
      ]
     },
     "execution_count": 19,
     "metadata": {},
     "output_type": "execute_result"
    }
   ],
   "source": [
    "f = open('test.txt', encoding='latin')\n",
    "f"
   ]
  },
  {
   "cell_type": "code",
   "execution_count": 3,
   "id": "55da85a1",
   "metadata": {},
   "outputs": [
    {
     "data": {
      "text/plain": [
       "True"
      ]
     },
     "execution_count": 3,
     "metadata": {},
     "output_type": "execute_result"
    }
   ],
   "source": [
    "f.readable()"
   ]
  },
  {
   "cell_type": "code",
   "execution_count": 11,
   "id": "0009ecdd",
   "metadata": {},
   "outputs": [
    {
     "data": {
      "text/plain": [
       "''"
      ]
     },
     "execution_count": 11,
     "metadata": {},
     "output_type": "execute_result"
    }
   ],
   "source": [
    "f.readline()"
   ]
  },
  {
   "cell_type": "code",
   "execution_count": 12,
   "id": "7f2ee40c",
   "metadata": {},
   "outputs": [
    {
     "data": {
      "text/plain": [
       "57"
      ]
     },
     "execution_count": 12,
     "metadata": {},
     "output_type": "execute_result"
    }
   ],
   "source": [
    "f.tell()"
   ]
  },
  {
   "cell_type": "code",
   "execution_count": 13,
   "id": "22ab3079",
   "metadata": {},
   "outputs": [
    {
     "data": {
      "text/plain": [
       "0"
      ]
     },
     "execution_count": 13,
     "metadata": {},
     "output_type": "execute_result"
    }
   ],
   "source": [
    "f.seek(0)"
   ]
  },
  {
   "cell_type": "code",
   "execution_count": 14,
   "id": "ef6377f3",
   "metadata": {},
   "outputs": [
    {
     "data": {
      "text/plain": [
       "['Random\\n', 'testing data\\n', 'for\\n']"
      ]
     },
     "execution_count": 14,
     "metadata": {},
     "output_type": "execute_result"
    }
   ],
   "source": [
    "f.readlines(20)"
   ]
  },
  {
   "cell_type": "code",
   "execution_count": 15,
   "id": "b78fc348",
   "metadata": {},
   "outputs": [
    {
     "data": {
      "text/plain": [
       "'\\nchecking '"
      ]
     },
     "execution_count": 15,
     "metadata": {},
     "output_type": "execute_result"
    }
   ],
   "source": [
    "f.read(10)"
   ]
  },
  {
   "cell_type": "code",
   "execution_count": 16,
   "id": "fd22781f",
   "metadata": {},
   "outputs": [
    {
     "data": {
      "text/plain": [
       "'FILE I/O\\n\\ncapabilities.'"
      ]
     },
     "execution_count": 16,
     "metadata": {},
     "output_type": "execute_result"
    }
   ],
   "source": [
    "f.read()"
   ]
  },
  {
   "cell_type": "code",
   "execution_count": 17,
   "id": "fd4edbd7",
   "metadata": {},
   "outputs": [
    {
     "data": {
      "text/plain": [
       "0"
      ]
     },
     "execution_count": 17,
     "metadata": {},
     "output_type": "execute_result"
    }
   ],
   "source": [
    "f.seek(0)"
   ]
  },
  {
   "cell_type": "code",
   "execution_count": 18,
   "id": "b4796b56",
   "metadata": {},
   "outputs": [
    {
     "name": "stdout",
     "output_type": "stream",
     "text": [
      "Random\n",
      "testing data\n",
      "for\n",
      "\n",
      "checking FILE I/O\n",
      "\n",
      "capabilities.\n"
     ]
    }
   ],
   "source": [
    "for line in f:\n",
    "    print(line.strip())"
   ]
  },
  {
   "cell_type": "markdown",
   "id": "854e35e9",
   "metadata": {},
   "source": [
    "### Text I/O Exercises\n",
    "`alice.txt`\n",
    "\n",
    "1. Count number of lines in file\n",
    "2. Count number of words in file\n",
    "3. How many times is Alice present in the text?\n",
    "4. How many lines start with a capital letter and end with a '.'"
   ]
  },
  {
   "cell_type": "code",
   "execution_count": 21,
   "id": "e7e67299",
   "metadata": {},
   "outputs": [
    {
     "data": {
      "text/plain": [
       "5"
      ]
     },
     "execution_count": 21,
     "metadata": {},
     "output_type": "execute_result"
    }
   ],
   "source": [
    "len('the quick brown fox jumps'.split())"
   ]
  },
  {
   "cell_type": "code",
   "execution_count": 23,
   "id": "3a4fc273",
   "metadata": {},
   "outputs": [
    {
     "data": {
      "text/plain": [
       "3600"
      ]
     },
     "execution_count": 23,
     "metadata": {},
     "output_type": "execute_result"
    }
   ],
   "source": [
    "# 1. Line count\n",
    "f = open('data/alice.txt')\n",
    "count = 0\n",
    "for line in f:\n",
    "    count += 1\n",
    "    \n",
    "count"
   ]
  },
  {
   "cell_type": "code",
   "execution_count": 26,
   "id": "6071b263",
   "metadata": {},
   "outputs": [],
   "source": [
    "# 2. Word count\n",
    "def word_count(fname):\n",
    "    '''Count number of words in given file'''\n",
    "    count = 0\n",
    "    f = open(fname)\n",
    "    for line in f:\n",
    "        count += len(line.split())\n",
    "        \n",
    "    return count"
   ]
  },
  {
   "cell_type": "code",
   "execution_count": 27,
   "id": "52297600",
   "metadata": {},
   "outputs": [
    {
     "data": {
      "text/plain": [
       "26470"
      ]
     },
     "execution_count": 27,
     "metadata": {},
     "output_type": "execute_result"
    }
   ],
   "source": [
    "word_count('data/alice.txt')"
   ]
  },
  {
   "cell_type": "code",
   "execution_count": 30,
   "id": "fd7c4ba1",
   "metadata": {},
   "outputs": [
    {
     "data": {
      "text/plain": [
       "2"
      ]
     },
     "execution_count": 30,
     "metadata": {},
     "output_type": "execute_result"
    }
   ],
   "source": [
    "line = 'Alice in Wonderland: The Story of ALICE!'\n",
    "line.lower().count('alice')\n",
    "# line.count('Alice')"
   ]
  },
  {
   "cell_type": "code",
   "execution_count": 31,
   "id": "82d43154",
   "metadata": {},
   "outputs": [],
   "source": [
    "# 3. Name count\n",
    "def name_count(fname, name='Alice'):\n",
    "    '''Count number of occurences of a name in file'''\n",
    "    count = 0\n",
    "    f = open(fname)\n",
    "    for line in f:\n",
    "        count += line.lower().count(name.lower())\n",
    "        \n",
    "    return count"
   ]
  },
  {
   "cell_type": "code",
   "execution_count": 32,
   "id": "290d9c6c",
   "metadata": {},
   "outputs": [
    {
     "data": {
      "text/plain": [
       "399"
      ]
     },
     "execution_count": 32,
     "metadata": {},
     "output_type": "execute_result"
    }
   ],
   "source": [
    "name_count('data/alice.txt', 'Alice')"
   ]
  },
  {
   "cell_type": "code",
   "execution_count": 35,
   "id": "079e9cea",
   "metadata": {},
   "outputs": [
    {
     "data": {
      "text/plain": [
       "179"
      ]
     },
     "execution_count": 35,
     "metadata": {},
     "output_type": "execute_result"
    }
   ],
   "source": [
    "name_count('data/alice.txt', 'King')"
   ]
  },
  {
   "cell_type": "code",
   "execution_count": 40,
   "id": "7f72ac8e",
   "metadata": {},
   "outputs": [
    {
     "data": {
      "text/plain": [
       "True"
      ]
     },
     "execution_count": 40,
     "metadata": {},
     "output_type": "execute_result"
    }
   ],
   "source": [
    "line = '  Hello World.    '\n",
    "line = line.strip()\n",
    "line.istitle() and line.endswith('.')"
   ]
  },
  {
   "cell_type": "code",
   "execution_count": 42,
   "id": "435f2a30",
   "metadata": {},
   "outputs": [],
   "source": [
    "# 4. Title-line count\n",
    "def title_line_count(fname):\n",
    "    '''Count number of occurences title lines in file'''\n",
    "    count = 0\n",
    "    f = open(fname)\n",
    "    for line in f:\n",
    "        line = line.strip()\n",
    "        if line.istitle() and line.endswith('.'):\n",
    "            count += 1\n",
    "        \n",
    "    return count"
   ]
  },
  {
   "cell_type": "code",
   "execution_count": 43,
   "id": "d62046a5",
   "metadata": {},
   "outputs": [
    {
     "data": {
      "text/plain": [
       "6"
      ]
     },
     "execution_count": 43,
     "metadata": {},
     "output_type": "execute_result"
    }
   ],
   "source": [
    "title_line_count('data/alice.txt')"
   ]
  },
  {
   "cell_type": "markdown",
   "id": "3f9b2e76",
   "metadata": {},
   "source": [
    "## Regular Expressions\n",
    "\n",
    "- Pattern Matching"
   ]
  },
  {
   "cell_type": "code",
   "execution_count": 44,
   "id": "855d0f0a",
   "metadata": {},
   "outputs": [],
   "source": [
    "# import glob\n",
    "from glob import glob"
   ]
  },
  {
   "cell_type": "code",
   "execution_count": 45,
   "id": "6e8c84b8",
   "metadata": {},
   "outputs": [
    {
     "data": {
      "text/plain": [
       "['Day2.ipynb', 'Day4.ipynb', 'Day3.ipynb', 'Day1.ipynb']"
      ]
     },
     "execution_count": 45,
     "metadata": {},
     "output_type": "execute_result"
    }
   ],
   "source": [
    "glob('*.ipynb')"
   ]
  },
  {
   "cell_type": "code",
   "execution_count": 53,
   "id": "b6d39990",
   "metadata": {},
   "outputs": [],
   "source": [
    "finance = 'My card details are xxx-xxxx-xxxx-xxxx'\n",
    "personal = 'I can be reached at +91.99999.88776. Alternatives: +44-555-6677 / 9988776655. Reach out before 0930 hrs.'\n",
    "log = 'Error/Warning/Critical'"
   ]
  },
  {
   "cell_type": "code",
   "execution_count": null,
   "id": "b2a44016",
   "metadata": {},
   "outputs": [],
   "source": []
  },
  {
   "cell_type": "code",
   "execution_count": 47,
   "id": "a89af386",
   "metadata": {},
   "outputs": [],
   "source": [
    "import re"
   ]
  },
  {
   "cell_type": "code",
   "execution_count": 55,
   "id": "e813e9a1",
   "metadata": {},
   "outputs": [
    {
     "data": {
      "text/plain": [
       "['91.99999', '88776', '44', '555', '6677', '9988776655', '0930']"
      ]
     },
     "execution_count": 55,
     "metadata": {},
     "output_type": "execute_result"
    }
   ],
   "source": [
    "re.findall(r'[0-9]+\\.?[0-9]+', personal)"
   ]
  },
  {
   "cell_type": "code",
   "execution_count": 56,
   "id": "e26da37c",
   "metadata": {},
   "outputs": [],
   "source": [
    "para = 'Today is a new day. Tomorrow is not here yet. Yesterday is gone.'"
   ]
  },
  {
   "cell_type": "code",
   "execution_count": 59,
   "id": "c1761bdf",
   "metadata": {},
   "outputs": [],
   "source": [
    "sentence_patt = r'[A-Z].*\\.'  # greedy: match as much as possible (default)\n",
    "sentence_patt = r'[A-Z].*?\\.' # minimal: match as little as possible"
   ]
  },
  {
   "cell_type": "code",
   "execution_count": 60,
   "id": "bf2ee01c",
   "metadata": {},
   "outputs": [
    {
     "data": {
      "text/plain": [
       "['Today is a new day.', 'Tomorrow is not here yet.', 'Yesterday is gone.']"
      ]
     },
     "execution_count": 60,
     "metadata": {},
     "output_type": "execute_result"
    }
   ],
   "source": [
    "re.findall(sentence_patt, para)"
   ]
  },
  {
   "cell_type": "code",
   "execution_count": 63,
   "id": "2695b4b0",
   "metadata": {},
   "outputs": [],
   "source": [
    "data = 'A1 B2 C3 D4 10.10.99.128 10.20.30.40 hello world'"
   ]
  },
  {
   "cell_type": "code",
   "execution_count": null,
   "id": "ec9c0656",
   "metadata": {},
   "outputs": [],
   "source": [
    "# 0. Extract all words\n",
    "# 1. Extract all A1 .. D4 words\n",
    "# 2. Extract all IPv4 addresses"
   ]
  },
  {
   "cell_type": "code",
   "execution_count": 62,
   "id": "b0bf9a01",
   "metadata": {},
   "outputs": [
    {
     "data": {
      "text/plain": [
       "['A1', 'B2', 'C3', 'D4']"
      ]
     },
     "execution_count": 62,
     "metadata": {},
     "output_type": "execute_result"
    }
   ],
   "source": [
    "re.findall(r'[A-Z][0-9]', data)"
   ]
  },
  {
   "cell_type": "code",
   "execution_count": 67,
   "id": "0751d7a3",
   "metadata": {},
   "outputs": [
    {
     "data": {
      "text/plain": [
       "['hello', 'world']"
      ]
     },
     "execution_count": 67,
     "metadata": {},
     "output_type": "execute_result"
    }
   ],
   "source": [
    "re.findall(r'[a-z]+', data)"
   ]
  },
  {
   "cell_type": "code",
   "execution_count": 68,
   "id": "724687d7",
   "metadata": {},
   "outputs": [
    {
     "data": {
      "text/plain": [
       "['A1', 'B2', 'C3', 'D4', 'hello', 'world']"
      ]
     },
     "execution_count": 68,
     "metadata": {},
     "output_type": "execute_result"
    }
   ],
   "source": [
    "re.findall(r'[A-Za-z][A-Za-z0-9]+', data)"
   ]
  },
  {
   "cell_type": "code",
   "execution_count": 69,
   "id": "1761eed4",
   "metadata": {},
   "outputs": [],
   "source": [
    "ipaddr_patt = '[0-9]+\\.[0-9]+\\.[0-9]+\\.[0-9]+'"
   ]
  },
  {
   "cell_type": "code",
   "execution_count": 70,
   "id": "1a304807",
   "metadata": {},
   "outputs": [
    {
     "data": {
      "text/plain": [
       "['10.10.99.128', '10.20.30.40']"
      ]
     },
     "execution_count": 70,
     "metadata": {},
     "output_type": "execute_result"
    }
   ],
   "source": [
    "re.findall(ipaddr_patt, data)"
   ]
  },
  {
   "cell_type": "code",
   "execution_count": null,
   "id": "790d26d5",
   "metadata": {},
   "outputs": [],
   "source": []
  }
 ],
 "metadata": {
  "kernelspec": {
   "display_name": "Python 3",
   "language": "python",
   "name": "python3"
  },
  "language_info": {
   "codemirror_mode": {
    "name": "ipython",
    "version": 3
   },
   "file_extension": ".py",
   "mimetype": "text/x-python",
   "name": "python",
   "nbconvert_exporter": "python",
   "pygments_lexer": "ipython3",
   "version": "3.8.16"
  }
 },
 "nbformat": 4,
 "nbformat_minor": 5
}
